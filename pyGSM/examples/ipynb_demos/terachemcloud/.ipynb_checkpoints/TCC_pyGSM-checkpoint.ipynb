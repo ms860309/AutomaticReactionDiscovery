{
 "cells": [
  {
   "cell_type": "code",
   "execution_count": 1,
   "metadata": {
    "collapsed": false
   },
   "outputs": [],
   "source": [
    "import sys\n",
    "sys.path.insert(0,'/home/caldaz/module/pyGSM')\n",
    "# LOT import\n",
    "from terachemcloud import TCC\n",
    "\n",
    "#PES import\n",
    "from pes import PES\n",
    "from penalty_pes import Penalty_PES\n",
    "\n",
    "#optimizer import\n",
    "from eigenvector_follow import eigenvector_follow\n",
    "\n",
    "#molecule import\n",
    "from molecule import Molecule\n",
    "\n",
    "#gsm import\n",
    "from se_cross import SE_Cross\n",
    "\n",
    "# etc\n",
    "import numpy as np\n",
    "from nifty import pvec1d,pmat2d,click,printcool\n",
    "import manage_xyz\n",
    "import matplotlib\n",
    "import matplotlib.pyplot as plt\n",
    "import networkx as nx\n",
    "%matplotlib inline\n",
    "\n",
    "import tcc\n",
    "import os   "
   ]
  },
  {
   "cell_type": "code",
   "execution_count": 2,
   "metadata": {
    "collapsed": false
   },
   "outputs": [],
   "source": [
    "##### => Job Data <= #####\n",
    "tcc_options = { \n",
    "    # TCC options\n",
    "    'runtype':      'gradient',\n",
    "    'jobname':      'ethene test',\n",
    "    'units':        'bohr',\n",
    "        \n",
    "    # TeraChem engine options\n",
    "    'atoms':        None,\n",
    "    'charge':       0,  \n",
    "    'spinmult':     1,  \n",
    "    'closed_shell': True,\n",
    "    'restricted':   True,\n",
    "\n",
    "    'method':       'hf',\n",
    "    'basis':        '6-31gss',\n",
    "        \n",
    "    'precision':    'double',\n",
    "    'threall':      1e-20,\n",
    "\n",
    "    # alpha-SA-CASSCF options\n",
    "    'casscf':       'yes',\n",
    "    'closed':       7,  \n",
    "    'active':       2,  \n",
    "    'cassinglets':  2,  \n",
    "    'alphacas':     'yes',\n",
    "    'alpha':        0.73,\n",
    "}\n",
    "\n",
    "# Get authentication from the environment                                                                 \n",
    "USER = os.environ['TCCLOUD_USER']                                                                         \n",
    "API_KEY = os.environ['TCCLOUD_API_KEY']\n",
    "TC = tcc.Client(url='http://fire-05-31:30080', user=USER, api_key=API_KEY, engine='terachem')"
   ]
  },
  {
   "cell_type": "code",
   "execution_count": 3,
   "metadata": {
    "collapsed": false
   },
   "outputs": [
    {
     "name": "stdout",
     "output_type": "stream",
     "text": [
      " initializing LOT from file\n"
     ]
    }
   ],
   "source": [
    "# level of theory\n",
    "filepath='../data/ethylene.xyz'\n",
    "states=[(1,0),(1,1)]\n",
    "lot=TCC.from_options(states=[(1,0),(1,1)],extra_kwargs={'TC':TC,'tcc_options':tcc_options},fnm=filepath)\n"
   ]
  },
  {
   "cell_type": "code",
   "execution_count": 4,
   "metadata": {
    "collapsed": false
   },
   "outputs": [
    {
     "name": "stdout",
     "output_type": "stream",
     "text": [
      "#========================================================#\n",
      "#| \u001b[92m              Building the PES objects              \u001b[0m |#\n",
      "#========================================================#\n",
      " PES1 multiplicity: 1 PES2 multiplicity: 1\n"
     ]
    }
   ],
   "source": [
    "# => Create PES objects <= #\n",
    "printcool(\"Building the PES objects\")\n",
    "pes1 = PES.from_options(lot=lot,ad_idx=states[0][1],multiplicity=states[0][0])\n",
    "pes2 = PES.from_options(lot=lot,ad_idx=states[1][1],multiplicity=states[1][0])\n",
    "pes = Penalty_PES(pes1,pes2,lot)"
   ]
  },
  {
   "cell_type": "code",
   "execution_count": 5,
   "metadata": {
    "collapsed": false
   },
   "outputs": [
    {
     "name": "stdout",
     "output_type": "stream",
     "text": [
      "#================================================================#\n",
      "#| \u001b[92m              Build the pyGSM Molecule object               \u001b[0m |#\n",
      "#| \u001b[92m  with Translation and Rotation Internal Coordinates (TRIC) \u001b[0m |#\n",
      "#================================================================#\n",
      " reading cartesian coordinates from file\n",
      " making primitives from options!\n",
      " making primitive Hessian\n",
      " forming Hessian in basis\n"
     ]
    }
   ],
   "source": [
    "# => Molecule <= #\n",
    "printcool(\"Build the pyGSM Molecule object \\n with Translation and Rotation Internal Coordinates (TRIC)\")\n",
    "M = Molecule.from_options(fnm=filepath,PES=pes,coordinate_type=\"TRIC\")"
   ]
  },
  {
   "cell_type": "code",
   "execution_count": 6,
   "metadata": {
    "collapsed": false
   },
   "outputs": [
    {
     "name": "stdout",
     "output_type": "stream",
     "text": [
      "-46055.1159033\n",
      "204.079238172\n"
     ]
    }
   ],
   "source": [
    "print(M.energy)\n",
    "print(M.difference_energy)"
   ]
  },
  {
   "cell_type": "code",
   "execution_count": 7,
   "metadata": {
    "collapsed": false
   },
   "outputs": [
    {
     "name": "stdout",
     "output_type": "stream",
     "text": [
      "#============================================================================================================#\n",
      "#| \u001b[92m                                             copy molecule                                              \u001b[0m |#\n",
      "#| \u001b[92m  Note that the copy from options is recommended since it properly creates new coord_obj and PES object \u001b[0m |#\n",
      "#============================================================================================================#\n",
      " initializing LOT from file\n",
      " PES1 multiplicity: 1 PES2 multiplicity: 1\n",
      " setting primitives from options!\n",
      " getting cartesian coordinates from geom\n",
      " getting coord_object from options\n"
     ]
    }
   ],
   "source": [
    "printcool(\"copy molecule \\n Note that the copy from options is recommended since it properly creates new coord_obj and PES object\")\n",
    "newMolecule = Molecule.copy_from_options(M)"
   ]
  },
  {
   "cell_type": "code",
   "execution_count": 8,
   "metadata": {
    "collapsed": false
   },
   "outputs": [],
   "source": [
    "# => Optimizer object <= #\n",
    "ef = eigenvector_follow.from_options(DMAX=0.05,print_level=1) #Linesearch=NoLineSearch\n",
    "\n",
    "# this is how to run optimizer by itself\n",
    "#E,geoms = ef.optimize(\n",
    "#    molecule=M,\n",
    "#    refE=M.energy,\n",
    "#    opt_type='UNCONSTRAINED',\n",
    "#    opt_steps=5,\n",
    "#    )"
   ]
  },
  {
   "cell_type": "code",
   "execution_count": 9,
   "metadata": {
    "collapsed": false
   },
   "outputs": [
    {
     "name": "stdout",
     "output_type": "stream",
     "text": [
      "#========================================================#\n",
      "#| \u001b[92m               Building the GSM object              \u001b[0m |#\n",
      "#========================================================#\n",
      "\n",
      "        __        __   _                            _        \n",
      "        \\ \\      / /__| | ___ ___  _ __ ___   ___  | |_ ___  \n",
      "         \\ \\ /\\ / / _ \\ |/ __/ _ \\| '_ ` _ \\ / _ \\ | __/ _ \\ \n",
      "          \\ V  V /  __/ | (_| (_) | | | | | |  __/ | || (_) |\n",
      "           \\_/\\_/ \\___|_|\\___\\___/|_| |_| |_|\\___|  \\__\\___/ \n",
      "                                        ____ ____  __  __ \n",
      "                           _ __  _   _ / ___/ ___||  \\/  |\n",
      "                          | '_ \\| | | | |  _\\___ \\| |\\/| |\n",
      "                          | |_) | |_| | |_| |___) | |  | |\n",
      "                          | .__/ \\__, |\\____|____/|_|  |_|\n",
      "                          |_|    |___/                    \n",
      "#==========================================================================#\n",
      "#| If this code has benefited your research, please support us by citing: |#\n",
      "#|                                                                        |# \n",
      "#| Aldaz, C.; Kammeraad J. A.; Zimmerman P. M. \"Discovery of conical      |#\n",
      "#| intersection mediated photochemistry with growing string methods\",     |#\n",
      "#| Phys. Chem. Chem. Phys., 2018, 20, 27394                               |#\n",
      "#| http://dx.doi.org/10.1039/c8cp04703k                                   |#\n",
      "#|                                                                        |# \n",
      "#| Wang, L.-P.; Song, C.C. (2016) \"Geometry optimization made simple with |#\n",
      "#| translation and rotation coordinates\", J. Chem, Phys. 144, 214108.     |#\n",
      "#| http://dx.doi.org/10.1063/1.4952956                                    |#\n",
      "#==========================================================================#\n",
      "\n",
      "\n",
      "               \n",
      " gaddmax: 0.0288675134595\n",
      " making primitive Hessian\n",
      "(' adding ', Distance 6-1)\n",
      " Done initializing isomer\n",
      " making primitive Hessian\n",
      " Primitive Internal Coordinates\n",
      "[Distance 1-2, Distance 1-3, Distance 1-4, Distance 4-5, Distance 4-6, Distance 6-1, Angle 2-1-4, Angle 3-1-4, Angle 1-4-6, Angle 5-4-6, Out-of-Plane 1-2-3-4, Out-of-Plane 4-1-5-6, Dihedral 2-1-4-5, Dihedral 2-1-4-6, Dihedral 3-1-4-5, Dihedral 3-1-4-6, Translation-X 1-6, Translation-Y 1-6, Translation-Z 1-6, Rotation-A 1-6, Rotation-B 1-6, Rotation-C 1-6]\n",
      " number of primitives is 22\n"
     ]
    }
   ],
   "source": [
    "# => Create GSM object <= #\n",
    "printcool(\" Building the GSM object\")\n",
    "driving_coords = [('TORSION',2,1,4,6,120.),('ADD',6,1),('BREAK',6,4,1.5)] #extra parameter in break is used because break driving coord was overpowering\n",
    "gsm = SE_Cross.from_options(reactant=M,nnodes=20,driving_coords=driving_coords,DQMAG_MAX=0.5,BDIST_RATIO=0.9,optimizer=ef)"
   ]
  },
  {
   "cell_type": "code",
   "execution_count": 10,
   "metadata": {
    "collapsed": false,
    "scrolled": false
   },
   "outputs": [
    {
     "name": "stdout",
     "output_type": "stream",
     "text": [
      "#========================================================#\n",
      "#| \u001b[92m                    Starting GSM                    \u001b[0m |#\n",
      "#========================================================#\n",
      "#========================================================#\n",
      "#| \u001b[92m                Doing SE-MECI search                \u001b[0m |#\n",
      "#========================================================#\n",
      " Initial energy is -46055.1159\n",
      " current torv: 0.000 align to 120.000 diff(deg): 120.000\n",
      " bond 6 target (less than): 1.000 current d: 2.117 diff: 1.117 \n",
      " bond 6 target (greater than): 1.500, current d: 1.087 diff: -0.413 \n",
      " Initial bdist is 2.409\n",
      " Adding reactant node\n",
      " adding node: 1 from node 0\n",
      " current torv: 0.000 align to 120.000 diff(deg): 120.000\n",
      " bond 6 target (less than): 1.000 current d: 2.117 diff: 1.117 \n",
      " bond 6 target (greater than): 1.500, current d: 1.087 diff: -0.413 \n",
      " dqmag: 0.500 from bdist: 2.409\n",
      " dq0[constraint]: -0.500\n",
      " Iter: 1 Err-dQ = 3.83216e-02 RMSD: 5.45954e-02 Damp: 1.00000e+00\n",
      " Iter: 2 Err-dQ (Best) = 4.10971e-04 (3.83216e-02) RMSD: 6.52423e-03 Damp: 1.00000e+00 (Good)\n",
      " Iter: 3 Err-dQ (Best) = 5.05068e-08 (4.10971e-04) RMSD: 6.61678e-05 Damp: 1.00000e+00 (Good)\n",
      " Cartesian coordinates obtained after 3 microiterations (rmsd = 6.617e-05 |dQ| = 5.051e-08)\n",
      " initializing LOT from file\n",
      " PES1 multiplicity: 1 PES2 multiplicity: 1\n",
      " setting primitives from options!\n",
      " getting cartesian coordinates from geom\n",
      " getting coord_object from options\n",
      " getting energy for node 1: 524.9339\n",
      " nn=2,nR=2\n",
      "#========================================================#\n",
      "#| \u001b[92m                  In growth_iters                   \u001b[0m |#\n",
      "#========================================================#\n",
      " current torv: 0.356 align to 120.000 diff(deg): 99.614\n",
      " bond 6 target (less than): 1.000 current d: 1.954 diff: 0.954 \n",
      " bond 6 target (greater than): 1.500, current d: 1.082 diff: -0.418 \n",
      " Optimizing node 1\n",
      " setting node 1 opt_type to ICTAN\n",
      " initial E 524.9339\n",
      " On opt step 1 \n",
      " actual_step= 0.23\n",
      " reducing step, new step = 0.05\n",
      " pgradrms [[ 3.3441]]\n",
      " DMAX 0.05\n",
      " Opt step: 1 E: 369.2856 predE: -303.7372 ratio: 0.512 gradrms: 3.02777 ss: 0.050 DMAX: 0.050\n",
      " difference energy is 181.0613\n",
      "\n",
      " On opt step 2 \n",
      " actual_step= 0.20\n",
      " reducing step, new step = 0.05\n",
      " pgradrms [[ 3.1491]]\n",
      " DMAX 0.05\n",
      " Opt step: 2 E: 241.3152 predE: -252.1147 ratio: 0.508 gradrms: 2.84886 ss: 0.050 DMAX: 0.050\n",
      " difference energy is 184.4686\n",
      "\n",
      " On opt step 3 \n",
      " actual_step= 0.23\n",
      " reducing step, new step = 0.05\n",
      " pgradrms [[ 2.9568]]\n",
      " DMAX 0.05\n",
      " Opt step: 3 E: 142.5349 predE: -189.5040 ratio: 0.521 gradrms: 2.75901 ss: 0.050 DMAX: 0.050\n",
      " difference energy is 184.7623\n",
      "\n",
      " On opt step 4 \n",
      " actual_step= 0.21\n",
      " reducing step, new step = 0.05\n",
      " pgradrms [[ 2.8637]]\n",
      " DMAX 0.05\n",
      " Opt step: 4 E: 48.2931 predE: -182.2114 ratio: 0.517 gradrms: 2.65207 ss: 0.050 DMAX: 0.050\n",
      " difference energy is 186.4540\n",
      "\n",
      " On opt step 5 \n",
      " actual_step= 0.20\n",
      " reducing step, new step = 0.05\n",
      " pgradrms [[ 2.7477]]\n",
      " DMAX 0.05\n",
      " Opt step: 5 E: -41.2305 predE: -170.5392 ratio: 0.525 gradrms: 2.58822 ss: 0.050 DMAX: 0.050\n",
      " difference energy is 187.3572\n",
      "\n",
      " opt-summary\n",
      " Opt step: 1 E: 369.2856 predE: -303.7372 ratio: 0.512 gradrms: 3.02777 ss: 0.050 DMAX: 0.050\n",
      " Opt step: 2 E: 241.3152 predE: -252.1147 ratio: 0.508 gradrms: 2.84886 ss: 0.050 DMAX: 0.050\n",
      " Opt step: 3 E: 142.5349 predE: -189.5040 ratio: 0.521 gradrms: 2.75901 ss: 0.050 DMAX: 0.050\n",
      " Opt step: 4 E: 48.2931 predE: -182.2114 ratio: 0.517 gradrms: 2.65207 ss: 0.050 DMAX: 0.050\n",
      " Opt step: 5 E: -41.2305 predE: -170.5392 ratio: 0.525 gradrms: 2.58822 ss: 0.050 DMAX: 0.050\n",
      "\n",
      " node:  1 gradrms: 2.588\n",
      "\n",
      " gopt_iter:  0 totalgrad: 8.97 gradrms:  0.61 max E:   0.0\n",
      "\n",
      " WARNING: Printing dE as max-step in molden output \n",
      " Condition 2 satisfied\n",
      " Growth-phase over\n",
      " initializing LOT from file\n",
      " PES1 multiplicity: 1 PES2 multiplicity: 1\n",
      " setting primitives from options!\n",
      " getting cartesian coordinates from geom\n",
      " getting coord_object from options\n",
      " SE_Cross growth phase over\n",
      " Warning last node still not fully optimized\n",
      " initial E 397.7567\n",
      " On opt step 1 \n",
      " actual_step= 0.20\n",
      " reducing step, new step = 0.05\n",
      " pgradrms [[ 2.527]]\n",
      " DMAX 0.05\n",
      " Opt step: 1 E: 325.6851 predE: -137.3103 ratio: 0.525 gradrms: 2.47796 ss: 0.050 DMAX: 0.050\n",
      " difference energy is 185.2071\n",
      "\n",
      " On opt step 2 \n",
      " actual_step= 0.21\n",
      " reducing step, new step = 0.05\n",
      " pgradrms [[ 2.4817]]\n",
      " DMAX 0.05\n",
      " Opt step: 2 E: 241.3765 predE: -161.5529 ratio: 0.522 gradrms: 2.39424 ss: 0.050 DMAX: 0.050\n",
      " difference energy is 184.9572\n",
      "\n",
      " On opt step 3 \n",
      " actual_step= 0.18\n",
      " reducing step, new step = 0.05\n",
      " pgradrms [[ 2.3983]]\n",
      " DMAX 0.05\n",
      " Opt step: 3 E: 145.7707 predE: -181.9025 ratio: 0.526 gradrms: 2.26940 ss: 0.050 DMAX: 0.050\n",
      " difference energy is 185.2863\n",
      "\n",
      " On opt step 4 \n",
      " actual_step= 0.21\n",
      " reducing step, new step = 0.05\n",
      " pgradrms [[ 2.274]]\n",
      " DMAX 0.05\n",
      " Opt step: 4 E: 48.3427 predE: -185.0931 ratio: 0.526 gradrms: 1.97659 ss: 0.050 DMAX: 0.050\n",
      " difference energy is 185.6251\n",
      "\n",
      " On opt step 5 \n",
      " actual_step= 0.21\n",
      " reducing step, new step = 0.05\n",
      " pgradrms [[ 1.9828]]\n",
      " DMAX 0.05\n",
      " Opt step: 5 E: -17.8580 predE: -129.1364 ratio: 0.513 gradrms: 2.13990 ss: 0.050 DMAX: 0.050\n",
      " difference energy is 183.1354\n",
      "\n",
      " On opt step 6 \n",
      " actual_step= 0.24\n",
      " reducing step, new step = 0.05\n",
      " pgradrms [[ 2.1445]]\n"
     ]
    },
    {
     "ename": "KeyboardInterrupt",
     "evalue": "",
     "output_type": "error",
     "traceback": [
      "\u001b[1;31m---------------------------------------------------------------------------\u001b[0m",
      "\u001b[1;31mKeyboardInterrupt\u001b[0m                         Traceback (most recent call last)",
      "\u001b[1;32m<ipython-input-10-427ab31561eb>\u001b[0m in \u001b[0;36m<module>\u001b[1;34m()\u001b[0m\n\u001b[0;32m      1\u001b[0m \u001b[1;31m# => Run GSM <= #\u001b[0m\u001b[1;33m\u001b[0m\u001b[1;33m\u001b[0m\u001b[0m\n\u001b[0;32m      2\u001b[0m \u001b[0mprintcool\u001b[0m\u001b[1;33m(\u001b[0m\u001b[1;34m\"Starting GSM\"\u001b[0m\u001b[1;33m)\u001b[0m\u001b[1;33m\u001b[0m\u001b[0m\n\u001b[1;32m----> 3\u001b[1;33m \u001b[0mgsm\u001b[0m\u001b[1;33m.\u001b[0m\u001b[0mgo_gsm\u001b[0m\u001b[1;33m(\u001b[0m\u001b[0mopt_steps\u001b[0m\u001b[1;33m=\u001b[0m\u001b[1;36m5\u001b[0m\u001b[1;33m)\u001b[0m\u001b[1;33m\u001b[0m\u001b[0m\n\u001b[0m",
      "\u001b[1;32m/home/caldaz/module/pyGSM/se_cross.py\u001b[0m in \u001b[0;36mgo_gsm\u001b[1;34m(self, max_iters, opt_steps, rtype)\u001b[0m\n\u001b[0;32m     55\u001b[0m                     \u001b[0mopt_type\u001b[0m\u001b[1;33m=\u001b[0m\u001b[1;34m'ICTAN'\u001b[0m\u001b[1;33m,\u001b[0m\u001b[1;33m\u001b[0m\u001b[0m\n\u001b[0;32m     56\u001b[0m                     \u001b[0mopt_steps\u001b[0m\u001b[1;33m=\u001b[0m\u001b[1;36m50\u001b[0m\u001b[1;33m,\u001b[0m\u001b[1;33m\u001b[0m\u001b[0m\n\u001b[1;32m---> 57\u001b[1;33m                     \u001b[0mictan\u001b[0m\u001b[1;33m=\u001b[0m\u001b[0mictan\u001b[0m\u001b[1;33m,\u001b[0m\u001b[1;33m\u001b[0m\u001b[0m\n\u001b[0m\u001b[0;32m     58\u001b[0m                     )\n\u001b[0;32m     59\u001b[0m             \u001b[1;31m# MECI optimization\u001b[0m\u001b[1;33m\u001b[0m\u001b[1;33m\u001b[0m\u001b[0m\n",
      "\u001b[1;32m/home/caldaz/module/pyGSM/eigenvector_follow.pyc\u001b[0m in \u001b[0;36moptimize\u001b[1;34m(self, molecule, refE, opt_type, opt_steps, ictan)\u001b[0m\n\u001b[0;32m    116\u001b[0m \u001b[1;33m\u001b[0m\u001b[0m\n\u001b[0;32m    117\u001b[0m             \u001b[1;31m#print(\" ### Starting  line search ###\")\u001b[0m\u001b[1;33m\u001b[0m\u001b[1;33m\u001b[0m\u001b[0m\n\u001b[1;32m--> 118\u001b[1;33m             \u001b[0mls\u001b[0m \u001b[1;33m=\u001b[0m \u001b[0mself\u001b[0m\u001b[1;33m.\u001b[0m\u001b[0mLinesearch\u001b[0m\u001b[1;33m(\u001b[0m\u001b[0mn\u001b[0m\u001b[1;33m,\u001b[0m \u001b[0mx\u001b[0m\u001b[1;33m,\u001b[0m \u001b[0mfx\u001b[0m\u001b[1;33m,\u001b[0m \u001b[0mg\u001b[0m\u001b[1;33m,\u001b[0m \u001b[0mdq\u001b[0m\u001b[1;33m,\u001b[0m \u001b[0mstep\u001b[0m\u001b[1;33m,\u001b[0m \u001b[0mxp\u001b[0m\u001b[1;33m,\u001b[0m \u001b[0mgp\u001b[0m\u001b[1;33m,\u001b[0m\u001b[0mconstraint_steps\u001b[0m\u001b[1;33m,\u001b[0m\u001b[0mself\u001b[0m\u001b[1;33m.\u001b[0m\u001b[0mlinesearch_parameters\u001b[0m\u001b[1;33m,\u001b[0m\u001b[0mmolecule\u001b[0m\u001b[1;33m)\u001b[0m\u001b[1;33m\u001b[0m\u001b[0m\n\u001b[0m\u001b[0;32m    119\u001b[0m             \u001b[1;32mif\u001b[0m \u001b[0mls\u001b[0m\u001b[1;33m[\u001b[0m\u001b[1;34m'status'\u001b[0m\u001b[1;33m]\u001b[0m \u001b[1;33m==\u001b[0m\u001b[1;33m-\u001b[0m\u001b[1;36m2\u001b[0m\u001b[1;33m:\u001b[0m\u001b[1;33m\u001b[0m\u001b[0m\n\u001b[0;32m    120\u001b[0m                 \u001b[0mx\u001b[0m \u001b[1;33m=\u001b[0m \u001b[0mxp\u001b[0m\u001b[1;33m.\u001b[0m\u001b[0mcopy\u001b[0m\u001b[1;33m(\u001b[0m\u001b[1;33m)\u001b[0m\u001b[1;33m\u001b[0m\u001b[0m\n",
      "\u001b[1;32m/home/caldaz/module/pyGSM/_linesearch.pyc\u001b[0m in \u001b[0;36mNoLineSearch\u001b[1;34m(n, x, fx, g, d, step, xp, gp, constraint_step, parameters, molecule)\u001b[0m\n\u001b[0;32m      6\u001b[0m \u001b[1;33m\u001b[0m\u001b[0m\n\u001b[0;32m      7\u001b[0m     \u001b[1;31m# use these so molecule xyz doesn't change\u001b[0m\u001b[1;33m\u001b[0m\u001b[1;33m\u001b[0m\u001b[0m\n\u001b[1;32m----> 8\u001b[1;33m     \u001b[0mfx\u001b[0m \u001b[1;33m=\u001b[0m \u001b[0mmolecule\u001b[0m\u001b[1;33m.\u001b[0m\u001b[0mPES\u001b[0m\u001b[1;33m.\u001b[0m\u001b[0mget_energy\u001b[0m\u001b[1;33m(\u001b[0m\u001b[0mxyz\u001b[0m\u001b[1;33m)\u001b[0m\u001b[1;33m\u001b[0m\u001b[0m\n\u001b[0m\u001b[0;32m      9\u001b[0m     \u001b[0mgx\u001b[0m \u001b[1;33m=\u001b[0m \u001b[0mmolecule\u001b[0m\u001b[1;33m.\u001b[0m\u001b[0mPES\u001b[0m\u001b[1;33m.\u001b[0m\u001b[0mget_gradient\u001b[0m\u001b[1;33m(\u001b[0m\u001b[0mxyz\u001b[0m\u001b[1;33m)\u001b[0m\u001b[1;33m\u001b[0m\u001b[0m\n\u001b[0;32m     10\u001b[0m     \u001b[0mg\u001b[0m \u001b[1;33m=\u001b[0m \u001b[0mmolecule\u001b[0m\u001b[1;33m.\u001b[0m\u001b[0mcoord_obj\u001b[0m\u001b[1;33m.\u001b[0m\u001b[0mcalcGrad\u001b[0m\u001b[1;33m(\u001b[0m\u001b[0mxyz\u001b[0m\u001b[1;33m,\u001b[0m\u001b[0mgx\u001b[0m\u001b[1;33m)\u001b[0m\u001b[1;33m\u001b[0m\u001b[0m\n",
      "\u001b[1;32m/home/caldaz/module/pyGSM/penalty_pes.pyc\u001b[0m in \u001b[0;36mget_energy\u001b[1;34m(self, geom)\u001b[0m\n\u001b[0;32m     38\u001b[0m \u001b[1;33m\u001b[0m\u001b[0m\n\u001b[0;32m     39\u001b[0m     \u001b[1;32mdef\u001b[0m \u001b[0mget_energy\u001b[0m\u001b[1;33m(\u001b[0m\u001b[0mself\u001b[0m\u001b[1;33m,\u001b[0m\u001b[0mgeom\u001b[0m\u001b[1;33m)\u001b[0m\u001b[1;33m:\u001b[0m\u001b[1;33m\u001b[0m\u001b[0m\n\u001b[1;32m---> 40\u001b[1;33m         \u001b[0mE1\u001b[0m \u001b[1;33m=\u001b[0m \u001b[0mself\u001b[0m\u001b[1;33m.\u001b[0m\u001b[0mPES1\u001b[0m\u001b[1;33m.\u001b[0m\u001b[0mget_energy\u001b[0m\u001b[1;33m(\u001b[0m\u001b[0mgeom\u001b[0m\u001b[1;33m)\u001b[0m\u001b[1;33m\u001b[0m\u001b[0m\n\u001b[0m\u001b[0;32m     41\u001b[0m         \u001b[0mE2\u001b[0m \u001b[1;33m=\u001b[0m \u001b[0mself\u001b[0m\u001b[1;33m.\u001b[0m\u001b[0mPES2\u001b[0m\u001b[1;33m.\u001b[0m\u001b[0mget_energy\u001b[0m\u001b[1;33m(\u001b[0m\u001b[0mgeom\u001b[0m\u001b[1;33m)\u001b[0m\u001b[1;33m\u001b[0m\u001b[0m\n\u001b[0;32m     42\u001b[0m         \u001b[1;31m#avgE = 0.5*(self.PES1.get_energy(geom) + self.PES2.get_energy(geom))\u001b[0m\u001b[1;33m\u001b[0m\u001b[1;33m\u001b[0m\u001b[0m\n",
      "\u001b[1;32m/home/caldaz/module/pyGSM/pes.pyc\u001b[0m in \u001b[0;36mget_energy\u001b[1;34m(self, xyz)\u001b[0m\n\u001b[0;32m     79\u001b[0m                 \u001b[0md\u001b[0m \u001b[1;33m=\u001b[0m \u001b[0mnp\u001b[0m\u001b[1;33m.\u001b[0m\u001b[0mlinalg\u001b[0m\u001b[1;33m.\u001b[0m\u001b[0mnorm\u001b[0m\u001b[1;33m(\u001b[0m\u001b[0mdiff\u001b[0m\u001b[1;33m)\u001b[0m\u001b[1;33m\u001b[0m\u001b[0m\n\u001b[0;32m     80\u001b[0m                 \u001b[0mfdE\u001b[0m \u001b[1;33m+=\u001b[0m  \u001b[0mforce\u001b[0m\u001b[1;33m*\u001b[0m\u001b[0md\u001b[0m\u001b[1;33m*\u001b[0m\u001b[0mKCAL_MOL_PER_AU\u001b[0m\u001b[1;33m\u001b[0m\u001b[0m\n\u001b[1;32m---> 81\u001b[1;33m         \u001b[1;32mreturn\u001b[0m \u001b[0mself\u001b[0m\u001b[1;33m.\u001b[0m\u001b[0mlot\u001b[0m\u001b[1;33m.\u001b[0m\u001b[0mget_energy\u001b[0m\u001b[1;33m(\u001b[0m\u001b[0mxyz\u001b[0m\u001b[1;33m,\u001b[0m\u001b[0mself\u001b[0m\u001b[1;33m.\u001b[0m\u001b[0mmultiplicity\u001b[0m\u001b[1;33m,\u001b[0m\u001b[0mself\u001b[0m\u001b[1;33m.\u001b[0m\u001b[0mad_idx\u001b[0m\u001b[1;33m)\u001b[0m \u001b[1;33m+\u001b[0m\u001b[0mfdE\u001b[0m\u001b[1;33m\u001b[0m\u001b[0m\n\u001b[0m\u001b[0;32m     82\u001b[0m \u001b[1;33m\u001b[0m\u001b[0m\n\u001b[0;32m     83\u001b[0m     \u001b[1;31m#TODO this needs to be fixed\u001b[0m\u001b[1;33m\u001b[0m\u001b[1;33m\u001b[0m\u001b[0m\n",
      "\u001b[1;32m/home/caldaz/module/pyGSM/terachemcloud.pyc\u001b[0m in \u001b[0;36mget_energy\u001b[1;34m(self, coords, multiplicity, state)\u001b[0m\n\u001b[0;32m     71\u001b[0m         \u001b[1;32mif\u001b[0m \u001b[0mself\u001b[0m\u001b[1;33m.\u001b[0m\u001b[0mhasRanForCurrentCoords\u001b[0m\u001b[1;33m==\u001b[0m\u001b[0mFalse\u001b[0m \u001b[1;32mor\u001b[0m \u001b[1;33m(\u001b[0m\u001b[0mcoords\u001b[0m \u001b[1;33m!=\u001b[0m \u001b[0mself\u001b[0m\u001b[1;33m.\u001b[0m\u001b[0mcurrentCoords\u001b[0m\u001b[1;33m)\u001b[0m\u001b[1;33m.\u001b[0m\u001b[0mall\u001b[0m\u001b[1;33m(\u001b[0m\u001b[1;33m)\u001b[0m\u001b[1;33m:\u001b[0m\u001b[1;33m\u001b[0m\u001b[0m\n\u001b[0;32m     72\u001b[0m             \u001b[0mself\u001b[0m\u001b[1;33m.\u001b[0m\u001b[0mcurrentCoords\u001b[0m \u001b[1;33m=\u001b[0m \u001b[0mcoords\u001b[0m\u001b[1;33m.\u001b[0m\u001b[0mcopy\u001b[0m\u001b[1;33m(\u001b[0m\u001b[1;33m)\u001b[0m\u001b[1;33m\u001b[0m\u001b[0m\n\u001b[1;32m---> 73\u001b[1;33m             \u001b[0mself\u001b[0m\u001b[1;33m.\u001b[0m\u001b[0mrun\u001b[0m\u001b[1;33m(\u001b[0m\u001b[0mcoords\u001b[0m\u001b[1;33m)\u001b[0m\u001b[1;33m\u001b[0m\u001b[0m\n\u001b[0m\u001b[0;32m     74\u001b[0m         \u001b[1;32mreturn\u001b[0m \u001b[0mself\u001b[0m\u001b[1;33m.\u001b[0m\u001b[0msearch_PES_tuple\u001b[0m\u001b[1;33m(\u001b[0m\u001b[0mself\u001b[0m\u001b[1;33m.\u001b[0m\u001b[0mE\u001b[0m\u001b[1;33m,\u001b[0m\u001b[0mmultiplicity\u001b[0m\u001b[1;33m,\u001b[0m\u001b[0mstate\u001b[0m\u001b[1;33m)\u001b[0m\u001b[1;33m[\u001b[0m\u001b[1;36m0\u001b[0m\u001b[1;33m]\u001b[0m\u001b[1;33m[\u001b[0m\u001b[1;36m2\u001b[0m\u001b[1;33m]\u001b[0m\u001b[1;33m*\u001b[0m\u001b[0mKCAL_MOL_PER_AU\u001b[0m\u001b[1;33m\u001b[0m\u001b[0m\n\u001b[0;32m     75\u001b[0m \u001b[1;33m\u001b[0m\u001b[0m\n",
      "\u001b[1;32m/home/caldaz/module/pyGSM/terachemcloud.pyc\u001b[0m in \u001b[0;36mrun\u001b[1;34m(self, coords)\u001b[0m\n\u001b[0;32m     50\u001b[0m             \u001b[1;32mif\u001b[0m \u001b[0mself\u001b[0m\u001b[1;33m.\u001b[0m\u001b[0morbfile\u001b[0m \u001b[1;32mis\u001b[0m \u001b[1;32mnot\u001b[0m \u001b[0mNone\u001b[0m\u001b[1;33m:\u001b[0m\u001b[1;33m\u001b[0m\u001b[0m\n\u001b[0;32m     51\u001b[0m                 \u001b[0mgrad_options\u001b[0m\u001b[1;33m[\u001b[0m\u001b[1;34m'guess'\u001b[0m\u001b[1;33m]\u001b[0m \u001b[1;33m=\u001b[0m \u001b[0mself\u001b[0m\u001b[1;33m.\u001b[0m\u001b[0morbfile\u001b[0m\u001b[1;33m\u001b[0m\u001b[0m\n\u001b[1;32m---> 52\u001b[1;33m             \u001b[0mresults\u001b[0m \u001b[1;33m=\u001b[0m \u001b[0mself\u001b[0m\u001b[1;33m.\u001b[0m\u001b[0mTC\u001b[0m\u001b[1;33m.\u001b[0m\u001b[0mcompute\u001b[0m\u001b[1;33m(\u001b[0m\u001b[0mcoords\u001b[0m\u001b[1;33m,\u001b[0m\u001b[0mgrad_options\u001b[0m\u001b[1;33m)\u001b[0m\u001b[1;33m\u001b[0m\u001b[0m\n\u001b[0m\u001b[0;32m     53\u001b[0m             \u001b[1;31m#print((json.dumps(results, indent=2, sort_keys=True)))\u001b[0m\u001b[1;33m\u001b[0m\u001b[1;33m\u001b[0m\u001b[0m\n\u001b[0;32m     54\u001b[0m             \u001b[0mself\u001b[0m\u001b[1;33m.\u001b[0m\u001b[0morbfile\u001b[0m \u001b[1;33m=\u001b[0m \u001b[0mresults\u001b[0m\u001b[1;33m[\u001b[0m\u001b[1;34m'orbfile'\u001b[0m\u001b[1;33m]\u001b[0m\u001b[1;33m\u001b[0m\u001b[0m\n",
      "\u001b[1;32m/global/user_software/tcc/2.0.0/lib/python2.7/site-packages/tcc/client.pyc\u001b[0m in \u001b[0;36mcompute\u001b[1;34m(self, geom, options, sleep_seconds, max_poll)\u001b[0m\n\u001b[0;32m    292\u001b[0m         \u001b[0mjob_id\u001b[0m \u001b[1;33m=\u001b[0m \u001b[0mself\u001b[0m\u001b[1;33m.\u001b[0m\u001b[0msubmit\u001b[0m\u001b[1;33m(\u001b[0m\u001b[0mgeom\u001b[0m\u001b[1;33m,\u001b[0m \u001b[0moptions\u001b[0m\u001b[1;33m)\u001b[0m\u001b[1;33m\u001b[0m\u001b[0m\n\u001b[0;32m    293\u001b[0m \u001b[1;33m\u001b[0m\u001b[0m\n\u001b[1;32m--> 294\u001b[1;33m         \u001b[0mresults\u001b[0m \u001b[1;33m=\u001b[0m \u001b[0mself\u001b[0m\u001b[1;33m.\u001b[0m\u001b[0mpoll_for_results\u001b[0m\u001b[1;33m(\u001b[0m\u001b[0mjob_id\u001b[0m\u001b[1;33m,\u001b[0m \u001b[0msleep_seconds\u001b[0m\u001b[1;33m,\u001b[0m \u001b[0mmax_poll\u001b[0m\u001b[1;33m)\u001b[0m\u001b[1;33m\u001b[0m\u001b[0m\n\u001b[0m\u001b[0;32m    295\u001b[0m \u001b[1;33m\u001b[0m\u001b[0m\n\u001b[0;32m    296\u001b[0m         \u001b[1;32mreturn\u001b[0m \u001b[0mresults\u001b[0m\u001b[1;33m\u001b[0m\u001b[0m\n",
      "\u001b[1;32m/global/user_software/tcc/2.0.0/lib/python2.7/site-packages/tcc/client.pyc\u001b[0m in \u001b[0;36mpoll_for_results\u001b[1;34m(self, job_id, sleep_seconds, max_poll)\u001b[0m\n\u001b[0;32m    221\u001b[0m                 \u001b[1;32mbreak\u001b[0m\u001b[1;33m\u001b[0m\u001b[0m\n\u001b[0;32m    222\u001b[0m \u001b[1;33m\u001b[0m\u001b[0m\n\u001b[1;32m--> 223\u001b[1;33m             \u001b[0mtime\u001b[0m\u001b[1;33m.\u001b[0m\u001b[0msleep\u001b[0m\u001b[1;33m(\u001b[0m\u001b[0msleep_seconds\u001b[0m\u001b[1;33m)\u001b[0m\u001b[1;33m\u001b[0m\u001b[0m\n\u001b[0m\u001b[0;32m    224\u001b[0m \u001b[1;33m\u001b[0m\u001b[0m\n\u001b[0;32m    225\u001b[0m         \u001b[1;32mif\u001b[0m \u001b[0mself\u001b[0m\u001b[1;33m.\u001b[0m\u001b[0mverbose\u001b[0m \u001b[1;32mand\u001b[0m \u001b[1;32mnot\u001b[0m \u001b[0mself\u001b[0m\u001b[1;33m.\u001b[0m\u001b[0mis_finished\u001b[0m\u001b[1;33m(\u001b[0m\u001b[0mresults\u001b[0m\u001b[1;33m)\u001b[0m\u001b[1;33m:\u001b[0m\u001b[1;33m\u001b[0m\u001b[0m\n",
      "\u001b[1;31mKeyboardInterrupt\u001b[0m: "
     ]
    }
   ],
   "source": [
    "# => Run GSM <= #\n",
    "printcool(\"Starting GSM\")\n",
    "gsm.go_gsm(opt_steps=5)"
   ]
  },
  {
   "cell_type": "code",
   "execution_count": null,
   "metadata": {
    "collapsed": true
   },
   "outputs": [],
   "source": [
    "# => post processing <= #\n",
    "manage_xyz.write_xyz('et_meci.xyz',gsm.nodes[gsm.nR].geometry,scale=1.)"
   ]
  }
 ],
 "metadata": {
  "kernelspec": {
   "display_name": "Python 2",
   "language": "python",
   "name": "python2"
  },
  "language_info": {
   "codemirror_mode": {
    "name": "ipython",
    "version": 2
   },
   "file_extension": ".py",
   "mimetype": "text/x-python",
   "name": "python",
   "nbconvert_exporter": "python",
   "pygments_lexer": "ipython2",
   "version": "2.7.15"
  }
 },
 "nbformat": 4,
 "nbformat_minor": 0
}
