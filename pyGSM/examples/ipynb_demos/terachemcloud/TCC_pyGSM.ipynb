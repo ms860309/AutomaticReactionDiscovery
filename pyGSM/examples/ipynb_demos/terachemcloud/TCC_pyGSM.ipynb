{
 "cells": [
  {
   "cell_type": "code",
   "execution_count": 1,
   "metadata": {
    "collapsed": false
   },
   "outputs": [],
   "source": [
    "import sys\n",
    "sys.path.insert(0,'/home/caldaz/module/pyGSM')\n",
    "# LOT import\n",
    "from terachemcloud import TCC\n",
    "\n",
    "#PES import\n",
    "from pes import PES\n",
    "from penalty_pes import Penalty_PES\n",
    "\n",
    "#optimizer import\n",
    "from eigenvector_follow import eigenvector_follow\n",
    "\n",
    "#molecule import\n",
    "from molecule import Molecule\n",
    "\n",
    "#gsm import\n",
    "from se_cross import SE_Cross\n",
    "\n",
    "# etc\n",
    "import numpy as np\n",
    "from nifty import pvec1d,pmat2d,click,printcool\n",
    "import manage_xyz\n",
    "import matplotlib\n",
    "import matplotlib.pyplot as plt\n",
    "import networkx as nx\n",
    "%matplotlib inline\n",
    "\n",
    "import tcc\n",
    "import os   "
   ]
  },
  {
   "cell_type": "code",
   "execution_count": 2,
   "metadata": {
    "collapsed": false
   },
   "outputs": [],
   "source": [
    "##### => Job Data <= #####\n",
    "tcc_options = { \n",
    "    # TCC options\n",
    "    'runtype':      'gradient',\n",
    "    'jobname':      'ethene test',\n",
    "    'units':        'bohr',\n",
    "        \n",
    "    # TeraChem engine options\n",
    "    'atoms':        None,\n",
    "    'charge':       0,  \n",
    "    'spinmult':     1,  \n",
    "    'closed_shell': True,\n",
    "    'restricted':   True,\n",
    "\n",
    "    'method':       'hf',\n",
    "    'basis':        '6-31gss',\n",
    "        \n",
    "    'precision':    'double',\n",
    "    'threall':      1e-20,\n",
    "\n",
    "    # alpha-SA-CASSCF options\n",
    "    'casci':       'yes',\n",
    "    'closed':       7,  \n",
    "    'active':       2,  \n",
    "    'cassinglets':  2,\n",
    "    'fon' :  'yes',\n",
    "    #'alphacas':     'yes',\n",
    "    #'alpha':        0.73,\n",
    "}\n",
    "\n",
    "# Get authentication from the environment                                                                 \n",
    "USER = os.environ['TCCLOUD_USER']                                                                         \n",
    "API_KEY = os.environ['TCCLOUD_API_KEY']\n",
    "TC = tcc.Client(url='http://fire-05-31:30080', user=USER, api_key=API_KEY, engine='terachem')"
   ]
  },
  {
   "cell_type": "code",
   "execution_count": 3,
   "metadata": {
    "collapsed": false
   },
   "outputs": [
    {
     "name": "stdout",
     "output_type": "stream",
     "text": [
      " initializing LOT from file\n"
     ]
    }
   ],
   "source": [
    "# level of theory\n",
    "filepath='../data/ethylene.xyz'\n",
    "states=[(1,0),(1,1)]\n",
    "lot=TCC.from_options(states=[(1,0),(1,1)],job_data={'TC':TC,'tcc_options':tcc_options},fnm=filepath)\n"
   ]
  },
  {
   "cell_type": "code",
   "execution_count": 4,
   "metadata": {
    "collapsed": false
   },
   "outputs": [
    {
     "name": "stdout",
     "output_type": "stream",
     "text": [
      "#========================================================#\n",
      "#| \u001b[92m              Building the PES objects              \u001b[0m |#\n",
      "#========================================================#\n",
      " PES1 multiplicity: 1 PES2 multiplicity: 1\n"
     ]
    }
   ],
   "source": [
    "# => Create PES objects <= #\n",
    "printcool(\"Building the PES objects\")\n",
    "pes1 = PES.from_options(lot=lot,ad_idx=states[0][1],multiplicity=states[0][0])\n",
    "pes2 = PES.from_options(lot=lot,ad_idx=states[1][1],multiplicity=states[1][0])\n",
    "pes = Penalty_PES(pes1,pes2,lot)"
   ]
  },
  {
   "cell_type": "code",
   "execution_count": 5,
   "metadata": {
    "collapsed": false
   },
   "outputs": [
    {
     "name": "stdout",
     "output_type": "stream",
     "text": [
      "#================================================================#\n",
      "#| \u001b[92m              Build the pyGSM Molecule object               \u001b[0m |#\n",
      "#| \u001b[92m  with Translation and Rotation Internal Coordinates (TRIC) \u001b[0m |#\n",
      "#================================================================#\n",
      " reading cartesian coordinates from file\n",
      " Time to get coords= 0.006\n",
      " initializing LOT from file\n",
      " PES1 multiplicity: 1 PES2 multiplicity: 1\n",
      " Time to create PES,elements 0.001\n",
      " making primitives from options\n",
      " make prim 0.006\n",
      " Time to make prims 0.007\n",
      " Timings: Build G: 0.006 Eig: 0.001\n",
      " Time  to build coordinate system= 0.014\n",
      " making primitive Hessian\n",
      " Time to build Prim Hessian 0.001\n",
      " forming Hessian in basis\n"
     ]
    }
   ],
   "source": [
    "# => Molecule <= #\n",
    "printcool(\"Build the pyGSM Molecule object \\n with Translation and Rotation Internal Coordinates (TRIC)\")\n",
    "M = Molecule.from_options(fnm=filepath,PES=pes,coordinate_type=\"TRIC\")"
   ]
  },
  {
   "cell_type": "code",
   "execution_count": 6,
   "metadata": {
    "collapsed": false
   },
   "outputs": [
    {
     "name": "stdout",
     "output_type": "stream",
     "text": [
      " orbfile is \n",
      "job not finished\n",
      "sleeping for 1\n",
      "job not finished\n",
      "sleeping for 1\n",
      "job not finished\n",
      "sleeping for 1\n",
      "job not finished\n",
      "sleeping for 1\n",
      "job not finished\n",
      "sleeping for 1\n",
      "job not finished\n",
      "sleeping for 1\n",
      "job not finished\n",
      "sleeping for 1\n",
      "job not finished\n",
      "sleeping for 1\n",
      "job not finished\n",
      "sleeping for 1\n",
      "job not finished\n",
      "sleeping for 1\n",
      "job not finished\n",
      "sleeping for 1\n",
      "job not finished\n",
      "sleeping for 1\n",
      "job not finished\n",
      "sleeping for 1\n",
      "job not finished\n",
      "sleeping for 1\n",
      "job not finished\n",
      "sleeping for 1\n",
      "job not finished\n",
      "sleeping for 1\n",
      "job not finished\n",
      "sleeping for 1\n",
      "job not finished\n",
      "sleeping for 1\n",
      "job not finished\n",
      "sleeping for 1\n",
      "job not finished\n",
      "sleeping for 1\n",
      "job not finished\n",
      "sleeping for 1\n",
      "job not finished\n",
      "sleeping for 1\n",
      "job not finished\n",
      "sleeping for 1\n",
      "job not finished\n",
      "sleeping for 1\n",
      "job not finished\n",
      "sleeping for 1\n",
      "job not finished\n",
      "sleeping for 1\n",
      "job not finished\n",
      "sleeping for 1\n",
      "job not finished\n",
      "sleeping for 1\n",
      "job not finished\n",
      "sleeping for 1\n",
      "job not finished\n",
      "sleeping for 1\n",
      "job not finished\n",
      "sleeping for 1\n",
      "job not finished\n",
      "sleeping for 1\n",
      "job not finished\n",
      "sleeping for 1\n",
      "job not finished\n",
      "sleeping for 1\n",
      "job not finished\n",
      "sleeping for 1\n",
      "job not finished\n",
      "sleeping for 1\n",
      "job not finished\n",
      "sleeping for 1\n",
      "job not finished\n",
      "sleeping for 1\n",
      "job not finished\n",
      "sleeping for 1\n",
      "job not finished\n",
      "sleeping for 1\n",
      "job not finished\n",
      "sleeping for 1\n",
      "job not finished\n",
      "sleeping for 1\n",
      "job not finished\n",
      "sleeping for 1\n",
      "job not finished\n",
      "sleeping for 1\n",
      "job not finished\n",
      "sleeping for 1\n",
      "job not finished\n",
      "sleeping for 1\n",
      "job not finished\n",
      "sleeping for 1\n",
      "job not finished\n",
      "sleeping for 1\n",
      "job not finished\n",
      "sleeping for 1\n",
      "job not finished\n",
      "sleeping for 1\n",
      "job not finished\n",
      "sleeping for 1\n",
      "job not finished\n",
      "sleeping for 1\n",
      "job not finished\n",
      "sleeping for 1\n",
      "job not finished\n",
      "sleeping for 1\n",
      "job not finished\n",
      "sleeping for 1\n",
      "job not finished\n",
      "sleeping for 1\n",
      "job not finished\n",
      "sleeping for 1\n",
      "job not finished\n",
      "sleeping for 1\n",
      "job not finished\n",
      "sleeping for 1\n",
      "job not finished\n",
      "sleeping for 1\n",
      "job not finished\n",
      "sleeping for 1\n",
      "job not finished\n",
      "sleeping for 1\n",
      "job not finished\n",
      "sleeping for 1\n",
      "job not finished\n",
      "sleeping for 1\n",
      "job not finished\n",
      "sleeping for 1\n",
      "job not finished\n",
      "sleeping for 1\n",
      "job not finished\n",
      "sleeping for 1\n",
      "job not finished\n",
      "sleeping for 1\n",
      "job not finished\n",
      "sleeping for 1\n",
      "job not finished\n",
      "sleeping for 1\n",
      "job not finished\n",
      "sleeping for 1\n",
      "job not finished\n",
      "sleeping for 1\n",
      "job not finished\n",
      "sleeping for 1\n",
      "job not finished\n",
      "sleeping for 1\n",
      "job not finished\n",
      "sleeping for 1\n",
      "job not finished\n",
      "sleeping for 1\n",
      "job not finished\n",
      "sleeping for 1\n",
      "job not finished\n",
      "sleeping for 1\n",
      "job not finished\n",
      "sleeping for 1\n",
      "job not finished\n",
      "sleeping for 1\n",
      "job not finished\n",
      "sleeping for 1\n",
      "job not finished\n",
      "sleeping for 1\n",
      "job not finished\n",
      "sleeping for 1\n",
      "job failed\n",
      "sleeping for 1\n",
      "{\n",
      "  \"celery_id\": \"8894e7e7-058e-40b4-b462-7c7cb5c5ff67\", \n",
      "  \"errors\": \"Problem connecting to server: [Errno 111] Connection refused\\n\\nServer Address: ('localhost', 11111)\\nCould not open logfile\", \n",
      "  \"job_id\": \"ef597db9-9768-4896-8060-329a5d927970\", \n",
      "  \"job_status\": \"FAILURE\", \n",
      "  \"message\": \"job failed\", \n",
      "  \"timestamp\": \"2019-04-16 20:56:19.466220\", \n",
      "  \"user_id\": \"caldaz\"\n",
      "}\n"
     ]
    },
    {
     "ename": "KeyError",
     "evalue": "'orbfile'",
     "output_type": "error",
     "traceback": [
      "\u001b[1;31m---------------------------------------------------------------------------\u001b[0m",
      "\u001b[1;31mKeyError\u001b[0m                                  Traceback (most recent call last)",
      "\u001b[1;32m<ipython-input-6-33c5218c1368>\u001b[0m in \u001b[0;36m<module>\u001b[1;34m()\u001b[0m\n\u001b[1;32m----> 1\u001b[1;33m \u001b[1;32mprint\u001b[0m\u001b[1;33m(\u001b[0m\u001b[0mM\u001b[0m\u001b[1;33m.\u001b[0m\u001b[0menergy\u001b[0m\u001b[1;33m)\u001b[0m\u001b[1;33m\u001b[0m\u001b[0m\n\u001b[0m\u001b[0;32m      2\u001b[0m \u001b[1;32mprint\u001b[0m\u001b[1;33m(\u001b[0m\u001b[0mM\u001b[0m\u001b[1;33m.\u001b[0m\u001b[0mdifference_energy\u001b[0m\u001b[1;33m)\u001b[0m\u001b[1;33m\u001b[0m\u001b[0m\n",
      "\u001b[1;32m/home/caldaz/module/pyGSM/molecule.pyc\u001b[0m in \u001b[0;36menergy\u001b[1;34m(self)\u001b[0m\n\u001b[0;32m    357\u001b[0m     \u001b[1;33m@\u001b[0m\u001b[0mproperty\u001b[0m\u001b[1;33m\u001b[0m\u001b[0m\n\u001b[0;32m    358\u001b[0m     \u001b[1;32mdef\u001b[0m \u001b[0menergy\u001b[0m\u001b[1;33m(\u001b[0m\u001b[0mself\u001b[0m\u001b[1;33m)\u001b[0m\u001b[1;33m:\u001b[0m\u001b[1;33m\u001b[0m\u001b[0m\n\u001b[1;32m--> 359\u001b[1;33m         \u001b[1;32mreturn\u001b[0m \u001b[0mself\u001b[0m\u001b[1;33m.\u001b[0m\u001b[0mPES\u001b[0m\u001b[1;33m.\u001b[0m\u001b[0mget_energy\u001b[0m\u001b[1;33m(\u001b[0m\u001b[0mself\u001b[0m\u001b[1;33m.\u001b[0m\u001b[0mxyz\u001b[0m\u001b[1;33m)\u001b[0m\u001b[1;33m\u001b[0m\u001b[0m\n\u001b[0m\u001b[0;32m    360\u001b[0m         \u001b[1;31m#return 0.\u001b[0m\u001b[1;33m\u001b[0m\u001b[1;33m\u001b[0m\u001b[0m\n\u001b[0;32m    361\u001b[0m \u001b[1;33m\u001b[0m\u001b[0m\n",
      "\u001b[1;32m/home/caldaz/module/pyGSM/penalty_pes.pyc\u001b[0m in \u001b[0;36mget_energy\u001b[1;34m(self, geom)\u001b[0m\n\u001b[0;32m     33\u001b[0m \u001b[1;33m\u001b[0m\u001b[0m\n\u001b[0;32m     34\u001b[0m     \u001b[1;32mdef\u001b[0m \u001b[0mget_energy\u001b[0m\u001b[1;33m(\u001b[0m\u001b[0mself\u001b[0m\u001b[1;33m,\u001b[0m\u001b[0mgeom\u001b[0m\u001b[1;33m)\u001b[0m\u001b[1;33m:\u001b[0m\u001b[1;33m\u001b[0m\u001b[0m\n\u001b[1;32m---> 35\u001b[1;33m         \u001b[0mE1\u001b[0m \u001b[1;33m=\u001b[0m \u001b[0mself\u001b[0m\u001b[1;33m.\u001b[0m\u001b[0mPES1\u001b[0m\u001b[1;33m.\u001b[0m\u001b[0mget_energy\u001b[0m\u001b[1;33m(\u001b[0m\u001b[0mgeom\u001b[0m\u001b[1;33m)\u001b[0m\u001b[1;33m\u001b[0m\u001b[0m\n\u001b[0m\u001b[0;32m     36\u001b[0m         \u001b[0mE2\u001b[0m \u001b[1;33m=\u001b[0m \u001b[0mself\u001b[0m\u001b[1;33m.\u001b[0m\u001b[0mPES2\u001b[0m\u001b[1;33m.\u001b[0m\u001b[0mget_energy\u001b[0m\u001b[1;33m(\u001b[0m\u001b[0mgeom\u001b[0m\u001b[1;33m)\u001b[0m\u001b[1;33m\u001b[0m\u001b[0m\n\u001b[0;32m     37\u001b[0m         \u001b[1;31m#avgE = 0.5*(self.PES1.get_energy(geom) + self.PES2.get_energy(geom))\u001b[0m\u001b[1;33m\u001b[0m\u001b[1;33m\u001b[0m\u001b[0m\n",
      "\u001b[1;32m/home/caldaz/module/pyGSM/pes.pyc\u001b[0m in \u001b[0;36mget_energy\u001b[1;34m(self, xyz)\u001b[0m\n\u001b[0;32m     80\u001b[0m                 \u001b[0md\u001b[0m \u001b[1;33m=\u001b[0m \u001b[0mnp\u001b[0m\u001b[1;33m.\u001b[0m\u001b[0mlinalg\u001b[0m\u001b[1;33m.\u001b[0m\u001b[0mnorm\u001b[0m\u001b[1;33m(\u001b[0m\u001b[0mdiff\u001b[0m\u001b[1;33m)\u001b[0m\u001b[1;33m\u001b[0m\u001b[0m\n\u001b[0;32m     81\u001b[0m                 \u001b[0mfdE\u001b[0m \u001b[1;33m+=\u001b[0m  \u001b[0mforce\u001b[0m\u001b[1;33m*\u001b[0m\u001b[0md\u001b[0m\u001b[1;33m*\u001b[0m\u001b[0mKCAL_MOL_PER_AU\u001b[0m\u001b[1;33m\u001b[0m\u001b[0m\n\u001b[1;32m---> 82\u001b[1;33m         \u001b[1;32mreturn\u001b[0m \u001b[0mself\u001b[0m\u001b[1;33m.\u001b[0m\u001b[0mlot\u001b[0m\u001b[1;33m.\u001b[0m\u001b[0mget_energy\u001b[0m\u001b[1;33m(\u001b[0m\u001b[0mxyz\u001b[0m\u001b[1;33m,\u001b[0m\u001b[0mself\u001b[0m\u001b[1;33m.\u001b[0m\u001b[0mmultiplicity\u001b[0m\u001b[1;33m,\u001b[0m\u001b[0mself\u001b[0m\u001b[1;33m.\u001b[0m\u001b[0mad_idx\u001b[0m\u001b[1;33m)\u001b[0m \u001b[1;33m+\u001b[0m\u001b[0mfdE\u001b[0m\u001b[1;33m\u001b[0m\u001b[0m\n\u001b[0m\u001b[0;32m     83\u001b[0m \u001b[1;33m\u001b[0m\u001b[0m\n\u001b[0;32m     84\u001b[0m     \u001b[1;31m#TODO this needs to be fixed\u001b[0m\u001b[1;33m\u001b[0m\u001b[1;33m\u001b[0m\u001b[0m\n",
      "\u001b[1;32m/home/caldaz/module/pyGSM/terachemcloud.py\u001b[0m in \u001b[0;36mget_energy\u001b[1;34m(self, coords, multiplicity, state)\u001b[0m\n\u001b[0;32m     81\u001b[0m         \u001b[1;32mif\u001b[0m \u001b[0mself\u001b[0m\u001b[1;33m.\u001b[0m\u001b[0mhasRanForCurrentCoords\u001b[0m\u001b[1;33m==\u001b[0m\u001b[0mFalse\u001b[0m \u001b[1;32mor\u001b[0m \u001b[1;33m(\u001b[0m\u001b[0mcoords\u001b[0m \u001b[1;33m!=\u001b[0m \u001b[0mself\u001b[0m\u001b[1;33m.\u001b[0m\u001b[0mcurrentCoords\u001b[0m\u001b[1;33m)\u001b[0m\u001b[1;33m.\u001b[0m\u001b[0mall\u001b[0m\u001b[1;33m(\u001b[0m\u001b[1;33m)\u001b[0m\u001b[1;33m:\u001b[0m\u001b[1;33m\u001b[0m\u001b[0m\n\u001b[0;32m     82\u001b[0m             \u001b[0mself\u001b[0m\u001b[1;33m.\u001b[0m\u001b[0mcurrentCoords\u001b[0m \u001b[1;33m=\u001b[0m \u001b[0mcoords\u001b[0m\u001b[1;33m.\u001b[0m\u001b[0mcopy\u001b[0m\u001b[1;33m(\u001b[0m\u001b[1;33m)\u001b[0m\u001b[1;33m\u001b[0m\u001b[0m\n\u001b[1;32m---> 83\u001b[1;33m             \u001b[0mself\u001b[0m\u001b[1;33m.\u001b[0m\u001b[0mrun\u001b[0m\u001b[1;33m(\u001b[0m\u001b[0mcoords\u001b[0m\u001b[1;33m)\u001b[0m\u001b[1;33m\u001b[0m\u001b[0m\n\u001b[0m\u001b[0;32m     84\u001b[0m         \u001b[1;32mreturn\u001b[0m \u001b[0mself\u001b[0m\u001b[1;33m.\u001b[0m\u001b[0msearch_PES_tuple\u001b[0m\u001b[1;33m(\u001b[0m\u001b[0mself\u001b[0m\u001b[1;33m.\u001b[0m\u001b[0mE\u001b[0m\u001b[1;33m,\u001b[0m\u001b[0mmultiplicity\u001b[0m\u001b[1;33m,\u001b[0m\u001b[0mstate\u001b[0m\u001b[1;33m)\u001b[0m\u001b[1;33m[\u001b[0m\u001b[1;36m0\u001b[0m\u001b[1;33m]\u001b[0m\u001b[1;33m[\u001b[0m\u001b[1;36m2\u001b[0m\u001b[1;33m]\u001b[0m\u001b[1;33m*\u001b[0m\u001b[0mKCAL_MOL_PER_AU\u001b[0m\u001b[1;33m\u001b[0m\u001b[0m\n\u001b[0;32m     85\u001b[0m \u001b[1;33m\u001b[0m\u001b[0m\n",
      "\u001b[1;32m/home/caldaz/module/pyGSM/terachemcloud.py\u001b[0m in \u001b[0;36mrun\u001b[1;34m(self, coords)\u001b[0m\n\u001b[0;32m     62\u001b[0m \u001b[1;33m\u001b[0m\u001b[0m\n\u001b[0;32m     63\u001b[0m             \u001b[1;32mprint\u001b[0m\u001b[1;33m(\u001b[0m\u001b[1;33m(\u001b[0m\u001b[0mjson\u001b[0m\u001b[1;33m.\u001b[0m\u001b[0mdumps\u001b[0m\u001b[1;33m(\u001b[0m\u001b[0mresults\u001b[0m\u001b[1;33m,\u001b[0m \u001b[0mindent\u001b[0m\u001b[1;33m=\u001b[0m\u001b[1;36m2\u001b[0m\u001b[1;33m,\u001b[0m \u001b[0msort_keys\u001b[0m\u001b[1;33m=\u001b[0m\u001b[0mTrue\u001b[0m\u001b[1;33m)\u001b[0m\u001b[1;33m)\u001b[0m\u001b[1;33m)\u001b[0m\u001b[1;33m\u001b[0m\u001b[0m\n\u001b[1;32m---> 64\u001b[1;33m             \u001b[0mself\u001b[0m\u001b[1;33m.\u001b[0m\u001b[0morbfile\u001b[0m \u001b[1;33m=\u001b[0m \u001b[0mresults\u001b[0m\u001b[1;33m[\u001b[0m\u001b[1;34m'orbfile'\u001b[0m\u001b[1;33m]\u001b[0m\u001b[1;33m\u001b[0m\u001b[0m\n\u001b[0m\u001b[0;32m     65\u001b[0m             \u001b[0mself\u001b[0m\u001b[1;33m.\u001b[0m\u001b[0mE\u001b[0m\u001b[1;33m.\u001b[0m\u001b[0mappend\u001b[0m\u001b[1;33m(\u001b[0m\u001b[1;33m(\u001b[0m\u001b[0mmultiplicity\u001b[0m\u001b[1;33m,\u001b[0m\u001b[0mad_idx\u001b[0m\u001b[1;33m,\u001b[0m\u001b[0mresults\u001b[0m\u001b[1;33m[\u001b[0m\u001b[1;34m'energy'\u001b[0m\u001b[1;33m]\u001b[0m\u001b[1;33m[\u001b[0m\u001b[0mad_idx\u001b[0m\u001b[1;33m]\u001b[0m\u001b[1;33m)\u001b[0m\u001b[1;33m)\u001b[0m\u001b[1;33m\u001b[0m\u001b[0m\n\u001b[0;32m     66\u001b[0m             \u001b[0mself\u001b[0m\u001b[1;33m.\u001b[0m\u001b[0mgrada\u001b[0m\u001b[1;33m.\u001b[0m\u001b[0mappend\u001b[0m\u001b[1;33m(\u001b[0m\u001b[1;33m(\u001b[0m\u001b[0mmultiplicity\u001b[0m\u001b[1;33m,\u001b[0m\u001b[0mad_idx\u001b[0m\u001b[1;33m,\u001b[0m\u001b[0mresults\u001b[0m\u001b[1;33m[\u001b[0m\u001b[1;34m'gradient'\u001b[0m\u001b[1;33m]\u001b[0m\u001b[1;33m)\u001b[0m\u001b[1;33m)\u001b[0m\u001b[1;33m\u001b[0m\u001b[0m\n",
      "\u001b[1;31mKeyError\u001b[0m: 'orbfile'"
     ]
    }
   ],
   "source": [
    "print(M.energy)\n",
    "print(M.difference_energy)"
   ]
  },
  {
   "cell_type": "code",
   "execution_count": null,
   "metadata": {
    "collapsed": false
   },
   "outputs": [],
   "source": [
    "printcool(\"copy molecule \\n Note that the copy from options is recommended since it properly creates new coord_obj and PES object\")\n",
    "newMolecule = Molecule.copy_from_options(M)"
   ]
  },
  {
   "cell_type": "code",
   "execution_count": null,
   "metadata": {
    "collapsed": false
   },
   "outputs": [],
   "source": [
    "# => Optimizer object <= #\n",
    "ef = eigenvector_follow.from_options(DMAX=0.05,print_level=1) #Linesearch=NoLineSearch\n",
    "\n",
    "# this is how to run optimizer by itself\n",
    "#E,geoms = ef.optimize(\n",
    "#    molecule=M,\n",
    "#    refE=M.energy,\n",
    "#    opt_type='UNCONSTRAINED',\n",
    "#    opt_steps=5,\n",
    "#    )"
   ]
  },
  {
   "cell_type": "code",
   "execution_count": null,
   "metadata": {
    "collapsed": false
   },
   "outputs": [],
   "source": [
    "# => Create GSM object <= #\n",
    "printcool(\" Building the GSM object\")\n",
    "driving_coords = [('TORSION',2,1,4,6,120.),('TORSION',2,1,4,5,180.)] \n",
    "#extra torsion here to ensure proper orientation w.r.t et_meci\n",
    "gsm = SE_Cross.from_options(reactant=M,nnodes=20,driving_coords=driving_coords,DQMAG_MAX=0.5,BDIST_RATIO=0.9,optimizer=ef)"
   ]
  },
  {
   "cell_type": "code",
   "execution_count": null,
   "metadata": {
    "collapsed": false,
    "scrolled": false
   },
   "outputs": [],
   "source": [
    "# => Run GSM <= #\n",
    "printcool(\"Starting GSM\")\n",
    "gsm.go_gsm(opt_steps=5)"
   ]
  },
  {
   "cell_type": "code",
   "execution_count": null,
   "metadata": {
    "collapsed": true
   },
   "outputs": [],
   "source": [
    "# => post processing <= #\n",
    "manage_xyz.write_xyz('et_meci.xyz',gsm.nodes[gsm.nR].geometry,scale=1.)"
   ]
  }
 ],
 "metadata": {
  "kernelspec": {
   "display_name": "Python 2",
   "language": "python",
   "name": "python2"
  },
  "language_info": {
   "codemirror_mode": {
    "name": "ipython",
    "version": 2
   },
   "file_extension": ".py",
   "mimetype": "text/x-python",
   "name": "python",
   "nbconvert_exporter": "python",
   "pygments_lexer": "ipython2",
   "version": "2.7.15"
  }
 },
 "nbformat": 4,
 "nbformat_minor": 0
}
