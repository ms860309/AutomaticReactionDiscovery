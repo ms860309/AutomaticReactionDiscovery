{
 "cells": [
  {
   "cell_type": "code",
   "execution_count": 1,
   "metadata": {
    "collapsed": false
   },
   "outputs": [
    {
     "data": {
      "application/3dmoljs_load.v0": "<div id=\"3dmolviewer_155302010366\"  style=\"position: relative; width: 640px; height: 480px\">\n        <p id=\"3dmolwarning_155302010366\" style=\"background-color:#ffcccc;color:black\">You appear to be running in JupyterLab.  You need to install the 3dmol extension: <br>\n        <tt>jupyter labextension install jupyterlab_3dmol</tt></p>\n        </div>\n<script>\n\nvar loadScriptAsync = function(uri){\n  return new Promise((resolve, reject) => {\n    var tag = document.createElement('script');\n    tag.src = uri;\n    tag.async = true;\n    tag.onload = () => {\n      resolve();\n    };\n  var firstScriptTag = document.getElementsByTagName('script')[0];\n  firstScriptTag.parentNode.insertBefore(tag, firstScriptTag);\n});\n};\n\nif(typeof $3Dmolpromise === 'undefined') {\n$3Dmolpromise = null;\n  $3Dmolpromise = loadScriptAsync('https://3dmol.csb.pitt.edu/build/3Dmol.js');\n}\n\nvar viewer_155302010366 = null;\nvar warn = document.getElementById(\"3dmolwarning_155302010366\");\nif(warn) {\n    warn.parentNode.removeChild(warn);\n}\n$3Dmolpromise.then(function() {\nviewer_155302010366 = $3Dmol.createViewer($(\"#3dmolviewer_155302010366\"),{backgroundColor:\"white\"});\n$3Dmol.download(\"pdb:1hvr\", viewer_155302010366, {}, function() {\n\tviewer_155302010366.setStyle({\"cartoon\": {\"color\": \"spectrum\"}});\nviewer_155302010366.render();\n})\n});\n</script>",
      "text/html": [
       "<div id=\"3dmolviewer_155302010366\"  style=\"position: relative; width: 640px; height: 480px\">\n",
       "        <p id=\"3dmolwarning_155302010366\" style=\"background-color:#ffcccc;color:black\">You appear to be running in JupyterLab.  You need to install the 3dmol extension: <br>\n",
       "        <tt>jupyter labextension install jupyterlab_3dmol</tt></p>\n",
       "        </div>\n",
       "<script>\n",
       "\n",
       "var loadScriptAsync = function(uri){\n",
       "  return new Promise((resolve, reject) => {\n",
       "    var tag = document.createElement('script');\n",
       "    tag.src = uri;\n",
       "    tag.async = true;\n",
       "    tag.onload = () => {\n",
       "      resolve();\n",
       "    };\n",
       "  var firstScriptTag = document.getElementsByTagName('script')[0];\n",
       "  firstScriptTag.parentNode.insertBefore(tag, firstScriptTag);\n",
       "});\n",
       "};\n",
       "\n",
       "if(typeof $3Dmolpromise === 'undefined') {\n",
       "$3Dmolpromise = null;\n",
       "  $3Dmolpromise = loadScriptAsync('https://3dmol.csb.pitt.edu/build/3Dmol.js');\n",
       "}\n",
       "\n",
       "var viewer_155302010366 = null;\n",
       "var warn = document.getElementById(\"3dmolwarning_155302010366\");\n",
       "if(warn) {\n",
       "    warn.parentNode.removeChild(warn);\n",
       "}\n",
       "$3Dmolpromise.then(function() {\n",
       "viewer_155302010366 = $3Dmol.createViewer($(\"#3dmolviewer_155302010366\"),{backgroundColor:\"white\"});\n",
       "$3Dmol.download(\"pdb:1hvr\", viewer_155302010366, {}, function() {\n",
       "\tviewer_155302010366.setStyle({\"cartoon\": {\"color\": \"spectrum\"}});\n",
       "viewer_155302010366.render();\n",
       "})\n",
       "});\n",
       "</script>"
      ]
     },
     "metadata": {},
     "output_type": "display_data"
    },
    {
     "data": {
      "text/plain": [
       "<py3Dmol.view at 0x7fb61c067f90>"
      ]
     },
     "execution_count": 1,
     "metadata": {},
     "output_type": "execute_result"
    }
   ],
   "source": [
    "import py3Dmol\n",
    "view = py3Dmol.view(query='pdb:1hvr')\n",
    "view.setStyle({'cartoon':{'color':'spectrum'}})\n",
    "view"
   ]
  },
  {
   "cell_type": "code",
   "execution_count": 2,
   "metadata": {
    "collapsed": false
   },
   "outputs": [
    {
     "data": {
      "application/3dmoljs_load.v0": "<div id=\"3dmolviewer_155302011882\"  style=\"position: relative; width: 640px; height: 480px\">\n        <p id=\"3dmolwarning_155302011882\" style=\"background-color:#ffcccc;color:black\">You appear to be running in JupyterLab.  You need to install the 3dmol extension: <br>\n        <tt>jupyter labextension install jupyterlab_3dmol</tt></p>\n        </div>\n<script>\n\nvar loadScriptAsync = function(uri){\n  return new Promise((resolve, reject) => {\n    var tag = document.createElement('script');\n    tag.src = uri;\n    tag.async = true;\n    tag.onload = () => {\n      resolve();\n    };\n  var firstScriptTag = document.getElementsByTagName('script')[0];\n  firstScriptTag.parentNode.insertBefore(tag, firstScriptTag);\n});\n};\n\nif(typeof $3Dmolpromise === 'undefined') {\n$3Dmolpromise = null;\n  $3Dmolpromise = loadScriptAsync('https://3dmol.csb.pitt.edu/build/3Dmol.js');\n}\n\nvar viewer_155302011882 = null;\nvar warn = document.getElementById(\"3dmolwarning_155302011882\");\nif(warn) {\n    warn.parentNode.removeChild(warn);\n}\n$3Dmolpromise.then(function() {\nviewer_155302011882 = $3Dmol.createViewer($(\"#3dmolviewer_155302011882\"),{backgroundColor:\"white\"});\n$3Dmol.download(\"pdb:system\", viewer_155302011882, {}, function() {\n\tviewer_155302011882.setStyle({\"cartoon\": {\"color\": \"spectrum\"}});\nviewer_155302011882.render();\n})\n});\n</script>",
      "text/html": [
       "<div id=\"3dmolviewer_155302011882\"  style=\"position: relative; width: 640px; height: 480px\">\n",
       "        <p id=\"3dmolwarning_155302011882\" style=\"background-color:#ffcccc;color:black\">You appear to be running in JupyterLab.  You need to install the 3dmol extension: <br>\n",
       "        <tt>jupyter labextension install jupyterlab_3dmol</tt></p>\n",
       "        </div>\n",
       "<script>\n",
       "\n",
       "var loadScriptAsync = function(uri){\n",
       "  return new Promise((resolve, reject) => {\n",
       "    var tag = document.createElement('script');\n",
       "    tag.src = uri;\n",
       "    tag.async = true;\n",
       "    tag.onload = () => {\n",
       "      resolve();\n",
       "    };\n",
       "  var firstScriptTag = document.getElementsByTagName('script')[0];\n",
       "  firstScriptTag.parentNode.insertBefore(tag, firstScriptTag);\n",
       "});\n",
       "};\n",
       "\n",
       "if(typeof $3Dmolpromise === 'undefined') {\n",
       "$3Dmolpromise = null;\n",
       "  $3Dmolpromise = loadScriptAsync('https://3dmol.csb.pitt.edu/build/3Dmol.js');\n",
       "}\n",
       "\n",
       "var viewer_155302011882 = null;\n",
       "var warn = document.getElementById(\"3dmolwarning_155302011882\");\n",
       "if(warn) {\n",
       "    warn.parentNode.removeChild(warn);\n",
       "}\n",
       "$3Dmolpromise.then(function() {\n",
       "viewer_155302011882 = $3Dmol.createViewer($(\"#3dmolviewer_155302011882\"),{backgroundColor:\"white\"});\n",
       "$3Dmol.download(\"pdb:system\", viewer_155302011882, {}, function() {\n",
       "\tviewer_155302011882.setStyle({\"cartoon\": {\"color\": \"spectrum\"}});\n",
       "viewer_155302011882.render();\n",
       "})\n",
       "});\n",
       "</script>"
      ]
     },
     "metadata": {},
     "output_type": "display_data"
    },
    {
     "data": {
      "text/plain": [
       "<py3Dmol.view at 0x7fb61c07b8d0>"
      ]
     },
     "execution_count": 2,
     "metadata": {},
     "output_type": "execute_result"
    }
   ],
   "source": [
    "view = py3Dmol.view(query='pdb:system')\n",
    "view.setStyle({'cartoon':{'color':'spectrum'}})\n",
    "view"
   ]
  },
  {
   "cell_type": "code",
   "execution_count": 4,
   "metadata": {
    "collapsed": false
   },
   "outputs": [
    {
     "name": "stdout",
     "output_type": "stream",
     "text": [
      "Help on class view in module py3Dmol:\n",
      "\n",
      "class view(__builtin__.object)\n",
      " |  A class for constructing embedded 3Dmol.js views in ipython notebooks.\n",
      " |  The results are completely static which means there is no need for there\n",
      " |  to be an active kernel but also that there is no communication between\n",
      " |  the javascript viewer and ipython.\n",
      " |  \n",
      " |  Optionally, a viewergrid tuple (rows,columns) can be passed to create\n",
      " |  a grid of viewers in a single canvas object.  Successive commands than need to\n",
      " |  specify which viewer they apply to (with viewer=(r,c)) or will apply to all\n",
      " |  viewers in the grid.\n",
      " |  \n",
      " |  The API for the created object is exactly that for $3Dmol.GLViewer, with\n",
      " |  the exception that the functions all return None.\n",
      " |  http://3dmol.csb.pitt.edu/doc/$3Dmol.GLViewer.html\n",
      " |  \n",
      " |  Methods defined here:\n",
      " |  \n",
      " |  __getattr__(self, name)\n",
      " |      auto-instantiate javascript calls based on whatever the user provided\n",
      " |  \n",
      " |  __init__(self, width=640, height=480, query='', viewergrid=None, linked=True, options={}, js='https://3dmol.csb.pitt.edu/build/3Dmol.js')\n",
      " |      Create a 3Dmol.js view.\n",
      " |      width -- width in pixels of container\n",
      " |      height -- height in pixels of container\n",
      " |      query -- optional argument to provide to $3Dmol.download\n",
      " |      options -- optional options to provide to $3Dmol.download\n",
      " |      js -- url for 3Dmol.js\n",
      " |  \n",
      " |  insert(self, containerid)\n",
      " |      Instead of inserting into notebook here, insert html\n",
      " |      into existing container\n",
      " |  \n",
      " |  png(self)\n",
      " |      output png image of viewer, which must already be instantiated\n",
      " |  \n",
      " |  show(self)\n",
      " |      Instantiate a new viewer window. Calling this will orphan any previously instantiated viewer windows.\n",
      " |  \n",
      " |  update(self)\n",
      " |      Apply commands to existing viewer (will auto-instantiate if necessary).\n",
      " |  \n",
      " |  ----------------------------------------------------------------------\n",
      " |  Data descriptors defined here:\n",
      " |  \n",
      " |  __dict__\n",
      " |      dictionary for instance variables (if defined)\n",
      " |  \n",
      " |  __weakref__\n",
      " |      list of weak references to the object (if defined)\n",
      "\n"
     ]
    }
   ],
   "source": [
    "help(py3Dmol.view)"
   ]
  },
  {
   "cell_type": "code",
   "execution_count": null,
   "metadata": {
    "collapsed": true
   },
   "outputs": [],
   "source": []
  }
 ],
 "metadata": {
  "kernelspec": {
   "display_name": "Python 2",
   "language": "python",
   "name": "python2"
  },
  "language_info": {
   "codemirror_mode": {
    "name": "ipython",
    "version": 2
   },
   "file_extension": ".py",
   "mimetype": "text/x-python",
   "name": "python",
   "nbconvert_exporter": "python",
   "pygments_lexer": "ipython2",
   "version": "2.7.15"
  }
 },
 "nbformat": 4,
 "nbformat_minor": 0
}
