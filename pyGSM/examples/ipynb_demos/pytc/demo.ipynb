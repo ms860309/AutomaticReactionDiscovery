{
 "cells": [
  {
   "cell_type": "code",
   "execution_count": 53,
   "metadata": {},
   "outputs": [],
   "source": [
    "from molecule import Molecule\n",
    "from molpro import Molpro\n",
    "from pes import PES\n",
    "from avg_pes import Avg_PES\n",
    "import numpy as np\n",
    "from nifty import pvec1d,pmat2d\n",
    "import matplotlib\n",
    "import matplotlib.pyplot as plt\n",
    "%matplotlib inline"
   ]
  },
  {
   "cell_type": "code",
   "execution_count": 57,
   "metadata": {},
   "outputs": [
    {
     "name": "stdout",
     "output_type": "stream",
     "text": [
      " initializing LOT from file\n",
      " reading cartesian coordinates from file\n",
      " making primitives from options!\n",
      " making primitive Hessian\n",
      "printing diagonals\n",
      " 0.35  0.35  0.35  0.35  0.35  0.35  0.35  0.35  0.35  0.35  0.35  0.35  0.35  0.35  0.16  0.16  0.16  0.16  0.16  0.16  0.16  0.16  0.16  0.16  0.16  0.16  0.04  0.04  0.04  0.04  0.04  0.04  0.02  0.02  0.02  0.02  0.02  0.02  0.02  0.02  0.02  0.02  0.02  0.02  0.02  0.02  0.02  0.02  0.05  0.05  0.05  0.05  0.05  0.05  0.05  0.05  0.05  0.05  0.05  0.05  0.05  0.05  0.05  0.05  0.05  0.05  0.05  0.05  0.05  0.05  0.05  0.05  0.05  0.05  0.05  0.05  0.05  0.05  0.05  0.05  0.05  0.05  0.05  0.05  0.05  0.05  0.05  0.05  0.05  0.05  0.05  0.05  0.05  0.05  0.05  0.05 \n",
      "forming Hessian in basis\n"
     ]
    }
   ],
   "source": [
    "#filepath='examples/tests/fluoroethene.xyz'\n",
    "filepath='examples/tests/butadiene_ethene.xyz'\n",
    "nocc=11\n",
    "nactive=2\n",
    "lot=Molpro.from_options(states=[(1,0),(1,1)],charge=0,nocc=nocc,nactive=nactive,basis='6-31G',do_coupling=False,nproc=4,fnm=filepath)\n",
    "pes1 = PES.from_options(lot=lot,ad_idx=0,multiplicity=1)\n",
    "pes2 = PES.from_options(lot=lot,ad_idx=1,multiplicity=1)\n",
    "pes = Avg_PES(pes1,pes2,lot=lot)\n",
    "M = Molecule.from_options(fnm=filepath,PES=pes,coordinate_type=\"HDLC\")\n"
   ]
  },
  {
   "cell_type": "code",
   "execution_count": 5,
   "metadata": {},
   "outputs": [
    {
     "name": "stdout",
     "output_type": "stream",
     "text": [
      " molecule object\n",
      "Option:\n",
      "  Key: fnm\n",
      "  Value: examples/tests/fluoroethene.xyz\n",
      "  Required: False\n",
      "  Allowed Types: [<type 'str'>]\n",
      "  Allowed Values: None\n",
      "  Doc: File name to create the Molecule object from. Only used if geom is none.\n",
      "\n",
      "Option:\n",
      "  Key: ftype\n",
      "  Value: xyz\n",
      "  Required: False\n",
      "  Allowed Types: [<type 'str'>]\n",
      "  Allowed Values: None\n",
      "  Doc: filetype (optional) will attempt to read filetype if not given\n",
      "\n",
      "Option:\n",
      "  Key: coordinate_type\n",
      "  Value: TRIC\n",
      "  Required: False\n",
      "  Allowed Types: None\n",
      "  Allowed Values: ['Cartesian', 'DLC', 'HDLC', 'TRIC']\n",
      "  Doc: The type of coordinate system to build\n",
      "\n",
      "Option:\n",
      "  Key: coord_obj\n",
      "  Value: Internal coordinate system (atoms numbered from 1):\n",
      "Distance 1-2\n",
      "Distance 1-3\n",
      "Distance 1-4\n",
      "Distance 2-5\n",
      "Distance 2-6\n",
      "Angle 2-1-4\n",
      "Angle 3-1-4\n",
      "Angle 1-2-6\n",
      "Angle 5-2-6\n",
      "Out-of-Plane 1-2-3-4\n",
      "Out-of-Plane 2-1-5-6\n",
      "Dihedral 3-1-2-5\n",
      "Dihedral 3-1-2-6\n",
      "Dihedral 4-1-2-5\n",
      "Dihedral 4-1-2-6\n",
      "Translation-X 1-6\n",
      "Translation-Y 1-6\n",
      "Translation-Z 1-6\n",
      "Rotation-A 1-6\n",
      "Rotation-B 1-6\n",
      "Rotation-C 1-6\n",
      "<class 'slots.Distance'> : 5\n",
      "<class 'slots.Angle'> : 4\n",
      "<class 'slots.OutOfPlane'> : 2\n",
      "<class 'slots.Dihedral'> : 4\n",
      "<class 'slots.TranslationX'> : 1\n",
      "<class 'slots.TranslationY'> : 1\n",
      "<class 'slots.TranslationZ'> : 1\n",
      "<class 'slots.RotationA'> : 1\n",
      "<class 'slots.RotationB'> : 1\n",
      "<class 'slots.RotationC'> : 1\n",
      "  Required: False\n",
      "  Allowed Types: [<class 'dlc_new.DelocalizedInternalCoordinates'>, <class 'cartesian.CartesianCoordinates'>]\n",
      "  Allowed Values: None\n",
      "  Doc: A coordinate object.\n",
      "\n",
      "Option:\n",
      "  Key: geom\n",
      "  Value: None\n",
      "  Required: False\n",
      "  Allowed Types: [<type 'list'>]\n",
      "  Allowed Values: None\n",
      "  Doc: geometry including atomic symbols\n",
      "\n",
      "Option:\n",
      "  Key: xyz\n",
      "  Value: [[-4.5106  2.1651 -0.0364]\n",
      " [-3.1799  2.1668 -0.0227]\n",
      " [-5.2034  2.9443  0.835 ]\n",
      " [-5.0514  1.5425 -0.7423]\n",
      " [-2.6402  2.7897  0.6834]\n",
      " [-2.622   1.5459 -0.717 ]]\n",
      "  Required: False\n",
      "  Allowed Types: [<type 'numpy.ndarray'>]\n",
      "  Allowed Values: None\n",
      "  Doc: The Cartesian coordinates in Angstrom\n",
      "\n",
      "Option:\n",
      "  Key: PES\n",
      "  Value: <avg_pes.Avg_PES object at 0x7f8b71529790>\n",
      "  Required: True\n",
      "  Allowed Types: [<class 'pes.PES'>, <class 'avg_pes.Avg_PES'>, <class 'penalty_pes.Penalty_PES'>]\n",
      "  Allowed Values: None\n",
      "  Doc: potential energy surface object to evaulate energies, gradients, etc. Pes is defined by charge, state, multiplicity,etc. \n",
      "\n",
      "Option:\n",
      "  Key: Primitive_Hessian\n",
      "  Value: [[0.35  0.    0.    0.    0.    0.    0.    0.    0.    0.    0.    0.\n",
      "  0.    0.    0.    0.    0.    0.    0.    0.    0.   ]\n",
      " [0.    0.35  0.    0.    0.    0.    0.    0.    0.    0.    0.    0.\n",
      "  0.    0.    0.    0.    0.    0.    0.    0.    0.   ]\n",
      " [0.    0.    0.35  0.    0.    0.    0.    0.    0.    0.    0.    0.\n",
      "  0.    0.    0.    0.    0.    0.    0.    0.    0.   ]\n",
      " [0.    0.    0.    0.35  0.    0.    0.    0.    0.    0.    0.    0.\n",
      "  0.    0.    0.    0.    0.    0.    0.    0.    0.   ]\n",
      " [0.    0.    0.    0.    0.35  0.    0.    0.    0.    0.    0.    0.\n",
      "  0.    0.    0.    0.    0.    0.    0.    0.    0.   ]\n",
      " [0.    0.    0.    0.    0.    0.16  0.    0.    0.    0.    0.    0.\n",
      "  0.    0.    0.    0.    0.    0.    0.    0.    0.   ]\n",
      " [0.    0.    0.    0.    0.    0.    0.16  0.    0.    0.    0.    0.\n",
      "  0.    0.    0.    0.    0.    0.    0.    0.    0.   ]\n",
      " [0.    0.    0.    0.    0.    0.    0.    0.16  0.    0.    0.    0.\n",
      "  0.    0.    0.    0.    0.    0.    0.    0.    0.   ]\n",
      " [0.    0.    0.    0.    0.    0.    0.    0.    0.16  0.    0.    0.\n",
      "  0.    0.    0.    0.    0.    0.    0.    0.    0.   ]\n",
      " [0.    0.    0.    0.    0.    0.    0.    0.    0.    0.045 0.    0.\n",
      "  0.    0.    0.    0.    0.    0.    0.    0.    0.   ]\n",
      " [0.    0.    0.    0.    0.    0.    0.    0.    0.    0.    0.045 0.\n",
      "  0.    0.    0.    0.    0.    0.    0.    0.    0.   ]\n",
      " [0.    0.    0.    0.    0.    0.    0.    0.    0.    0.    0.    0.023\n",
      "  0.    0.    0.    0.    0.    0.    0.    0.    0.   ]\n",
      " [0.    0.    0.    0.    0.    0.    0.    0.    0.    0.    0.    0.\n",
      "  0.023 0.    0.    0.    0.    0.    0.    0.    0.   ]\n",
      " [0.    0.    0.    0.    0.    0.    0.    0.    0.    0.    0.    0.\n",
      "  0.    0.023 0.    0.    0.    0.    0.    0.    0.   ]\n",
      " [0.    0.    0.    0.    0.    0.    0.    0.    0.    0.    0.    0.\n",
      "  0.    0.    0.023 0.    0.    0.    0.    0.    0.   ]\n",
      " [0.    0.    0.    0.    0.    0.    0.    0.    0.    0.    0.    0.\n",
      "  0.    0.    0.    0.05  0.    0.    0.    0.    0.   ]\n",
      " [0.    0.    0.    0.    0.    0.    0.    0.    0.    0.    0.    0.\n",
      "  0.    0.    0.    0.    0.05  0.    0.    0.    0.   ]\n",
      " [0.    0.    0.    0.    0.    0.    0.    0.    0.    0.    0.    0.\n",
      "  0.    0.    0.    0.    0.    0.05  0.    0.    0.   ]\n",
      " [0.    0.    0.    0.    0.    0.    0.    0.    0.    0.    0.    0.\n",
      "  0.    0.    0.    0.    0.    0.    0.05  0.    0.   ]\n",
      " [0.    0.    0.    0.    0.    0.    0.    0.    0.    0.    0.    0.\n",
      "  0.    0.    0.    0.    0.    0.    0.    0.05  0.   ]\n",
      " [0.    0.    0.    0.    0.    0.    0.    0.    0.    0.    0.    0.\n",
      "  0.    0.    0.    0.    0.    0.    0.    0.    0.05 ]]\n",
      "  Required: False\n",
      "  Allowed Types: None\n",
      "  Allowed Values: None\n",
      "  Doc: Primitive hessian save file for doing optimization.\n",
      "\n",
      "Option:\n",
      "  Key: Hessian\n",
      "  Value: [[ 0.05    0.     -0.     -0.      0.      0.      0.     -0.     -0.\n",
      "   0.     -0.      0.      0.     -0.     -0.     -0.     -0.      0.    ]\n",
      " [-0.      0.05    0.     -0.     -0.     -0.      0.      0.      0.\n",
      "  -0.     -0.      0.     -0.      0.     -0.      0.      0.     -0.    ]\n",
      " [-0.      0.      0.05    0.     -0.      0.     -0.      0.     -0.\n",
      "  -0.     -0.     -0.      0.     -0.     -0.     -0.     -0.      0.    ]\n",
      " [-0.     -0.      0.      0.05   -0.      0.     -0.      0.      0.\n",
      "  -0.      0.     -0.     -0.     -0.      0.      0.     -0.      0.    ]\n",
      " [ 0.     -0.     -0.     -0.      0.05    0.      0.     -0.     -0.\n",
      "  -0.      0.     -0.      0.     -0.      0.     -0.     -0.      0.    ]\n",
      " [ 0.     -0.      0.      0.      0.      0.1818  0.     -0.0428 -0.0047\n",
      "  -0.0003  0.0002 -0.0373  0.0065 -0.      0.0186 -0.006   0.      0.    ]\n",
      " [ 0.      0.     -0.     -0.      0.      0.      0.05   -0.     -0.\n",
      "   0.     -0.      0.      0.      0.      0.     -0.     -0.      0.    ]\n",
      " [-0.      0.      0.      0.     -0.     -0.0428 -0.      0.3181 -0.0061\n",
      "  -0.0033  0.0283 -0.0125 -0.0054  0.     -0.0462  0.0063  0.     -0.    ]\n",
      " [-0.      0.     -0.      0.     -0.     -0.0047 -0.     -0.0061  0.2614\n",
      "  -0.0053  0.002   0.0004 -0.0835  0.      0.0121  0.042   0.     -0.    ]\n",
      " [ 0.     -0.     -0.     -0.     -0.     -0.0003  0.     -0.0033 -0.0053\n",
      "   0.3332  0.0032  0.0014 -0.0286  0.     -0.01   -0.044   0.      0.    ]\n",
      " [-0.     -0.     -0.      0.      0.      0.0002 -0.      0.0283  0.002\n",
      "   0.0032  0.3118  0.0043  0.0039 -0.      0.0695 -0.0107 -0.     -0.    ]\n",
      " [ 0.      0.     -0.     -0.     -0.     -0.0373  0.     -0.0125  0.0004\n",
      "   0.0014  0.0043  0.3411  0.0051  0.     -0.0034  0.0042  0.      0.    ]\n",
      " [ 0.     -0.      0.     -0.      0.      0.0065  0.     -0.0054 -0.0835\n",
      "  -0.0286  0.0039  0.0051  0.2364 -0.     -0.0008 -0.0278 -0.     -0.    ]\n",
      " [-0.      0.     -0.     -0.     -0.     -0.      0.      0.      0.\n",
      "   0.     -0.      0.     -0.      0.0232 -0.     -0.      0.0009  0.0002]\n",
      " [-0.     -0.     -0.      0.      0.      0.0186  0.     -0.0462  0.0121\n",
      "  -0.01    0.0695 -0.0034 -0.0008 -0.      0.217  -0.0018 -0.     -0.    ]\n",
      " [-0.      0.     -0.      0.     -0.     -0.006  -0.      0.0063  0.042\n",
      "  -0.044  -0.0107  0.0042 -0.0278 -0.     -0.0018  0.1891  0.      0.    ]\n",
      " [-0.      0.     -0.     -0.     -0.      0.     -0.      0.      0.\n",
      "   0.     -0.      0.     -0.      0.0009 -0.      0.      0.0278 -0.0002]\n",
      " [ 0.     -0.      0.      0.      0.      0.      0.     -0.     -0.\n",
      "   0.     -0.      0.     -0.      0.0002 -0.      0.     -0.0002  0.0281]]\n",
      "  Required: False\n",
      "  Allowed Types: None\n",
      "  Allowed Values: None\n",
      "  Doc: Hessian save file in the basis of coordinate_type.\n",
      "\n",
      "Option:\n",
      "  Key: comment\n",
      "  Value: \n",
      "  Required: False\n",
      "  Allowed Types: None\n",
      "  Allowed Values: None\n",
      "  Doc: A string that is saved on the molecule, used for descriptive purposes\n",
      "\n",
      "\n"
     ]
    }
   ],
   "source": [
    "print(M)"
   ]
  },
  {
   "cell_type": "code",
   "execution_count": 10,
   "metadata": {},
   "outputs": [
    {
     "name": "stdout",
     "output_type": "stream",
     "text": [
      "printing gradient\n",
      " 0.00000 -0.00000  0.00000 -0.00000 -0.00000 -0.03900  0.00000  0.11042 -0.00865 -0.00021 -0.08551  0.03612 -0.01385  0.00000 -0.06188  0.03393  0.00000  0.00000 \n"
     ]
    }
   ],
   "source": [
    "print(\"printing gradient\")\n",
    "pvec1d(M.gradient,5,'f')"
   ]
  },
  {
   "cell_type": "code",
   "execution_count": 8,
   "metadata": {},
   "outputs": [
    {
     "data": {
      "text/plain": [
       "-110849.50076732112"
      ]
     },
     "execution_count": 8,
     "metadata": {},
     "output_type": "execute_result"
    }
   ],
   "source": [
    "M.energy"
   ]
  },
  {
   "cell_type": "code",
   "execution_count": 58,
   "metadata": {},
   "outputs": [
    {
     "name": "stdout",
     "output_type": "stream",
     "text": [
      "primitive internal coordinates\n",
      "[Distance 1-9, Distance 1-2, Distance 1-8, Distance 2-3, Distance 2-7, Distance 3-4, Distance 3-16, Distance 4-14, Distance 4-15, Distance 5-10, Distance 5-11, Distance 5-6, Distance 6-13, Distance 6-12, Angle 2-1-9, Angle 8-1-9, Angle 1-2-7, Angle 3-2-7, Angle 2-3-16, Angle 4-3-16, Angle 3-4-15, Angle 14-4-15, Angle 10-5-11, Angle 6-5-11, Angle 12-6-13, Angle 5-6-13, Out-of-Plane 1-2-8-9, Out-of-Plane 2-1-3-7, Out-of-Plane 3-2-4-16, Out-of-Plane 4-3-14-15, Out-of-Plane 5-6-10-11, Out-of-Plane 6-5-12-13, Dihedral 9-1-2-3, Dihedral 9-1-2-7, Dihedral 8-1-2-3, Dihedral 8-1-2-7, Dihedral 1-2-3-4, Dihedral 1-2-3-16, Dihedral 7-2-3-4, Dihedral 7-2-3-16, Dihedral 2-3-4-14, Dihedral 2-3-4-15, Dihedral 16-3-4-14, Dihedral 16-3-4-15, Dihedral 10-5-6-13, Dihedral 10-5-6-12, Dihedral 11-5-6-13, Dihedral 11-5-6-12, Cartesian-X 1, Cartesian-X 2, Cartesian-X 3, Cartesian-X 4, Cartesian-X 5, Cartesian-X 6, Cartesian-X 7, Cartesian-X 8, Cartesian-X 9, Cartesian-X 10, Cartesian-X 11, Cartesian-X 12, Cartesian-X 13, Cartesian-X 14, Cartesian-X 15, Cartesian-X 16, Cartesian-Y 1, Cartesian-Y 2, Cartesian-Y 3, Cartesian-Y 4, Cartesian-Y 5, Cartesian-Y 6, Cartesian-Y 7, Cartesian-Y 8, Cartesian-Y 9, Cartesian-Y 10, Cartesian-Y 11, Cartesian-Y 12, Cartesian-Y 13, Cartesian-Y 14, Cartesian-Y 15, Cartesian-Y 16, Cartesian-Z 1, Cartesian-Z 2, Cartesian-Z 3, Cartesian-Z 4, Cartesian-Z 5, Cartesian-Z 6, Cartesian-Z 7, Cartesian-Z 8, Cartesian-Z 9, Cartesian-Z 10, Cartesian-Z 11, Cartesian-Z 12, Cartesian-Z 13, Cartesian-Z 14, Cartesian-Z 15, Cartesian-Z 16]\n"
     ]
    }
   ],
   "source": [
    "print(\"primitive internal coordinates\")\n",
    "from nifty import commadash\n",
    "print(M.primitive_internal_coordinates)"
   ]
  },
  {
   "cell_type": "code",
   "execution_count": 10,
   "metadata": {},
   "outputs": [
    {
     "name": "stdout",
     "output_type": "stream",
     "text": [
      "primitive number of internal coordinates\n",
      "15\n"
     ]
    }
   ],
   "source": [
    "print(\"primitive number of internal coordinates\")\n",
    "print(M.num_primitives)"
   ]
  },
  {
   "cell_type": "code",
   "execution_count": 13,
   "metadata": {},
   "outputs": [
    {
     "name": "stdout",
     "output_type": "stream",
     "text": [
      "getting the value of a primitive 0\n",
      "1.3308189789788099\n"
     ]
    }
   ],
   "source": [
    "print(\"getting the value of a primitive 0\")\n",
    "print(M.primitive_internal_coordinates[0].value(M.xyz))"
   ]
  },
  {
   "cell_type": "code",
   "execution_count": 15,
   "metadata": {},
   "outputs": [
    {
     "name": "stdout",
     "output_type": "stream",
     "text": [
      "printing delocalized coordinates basis\n",
      " 0.0 -0.0 -0.0  0.0  0.0  0.3  0.0 -0.8  0.0 -0.0  0.3 -0.1  0.1 -0.0  0.5 -0.1 -0.0 -0.0 \n",
      " 0.0 -0.0  0.0 -0.0  0.0  0.1  0.0 -0.2 -0.2  0.6 -0.5 -0.4  0.0 -0.0 -0.2 -0.2  0.0  0.0 \n",
      "-0.0  0.0 -0.0  0.0 -0.0 -0.1 -0.0 -0.3  0.4  0.3 -0.3  0.6 -0.4  0.0 -0.1  0.1  0.0  0.0 \n",
      "-0.0 -0.0  0.0  0.0  0.0  0.1 -0.0 -0.2  0.3 -0.6 -0.5 -0.4 -0.2 -0.0 -0.1  0.3  0.0  0.0 \n",
      " 0.0 -0.0  0.0 -0.0  0.0 -0.0  0.0 -0.3 -0.5 -0.3 -0.4  0.5  0.5 -0.0 -0.1 -0.1 -0.0  0.0 \n",
      "-0.0  0.0 -0.0 -0.0 -0.0 -0.6 -0.0 -0.3  0.3 -0.1  0.2 -0.1  0.1 -0.0 -0.4 -0.5 -0.0 -0.0 \n",
      "-0.0  0.0 -0.0  0.0 -0.0 -0.5 -0.0  0.1  0.3  0.2 -0.2 -0.1  0.5 -0.0  0.5  0.3 -0.0 -0.0 \n",
      " 0.0  0.0 -0.0 -0.0 -0.0 -0.5  0.0 -0.3 -0.5  0.1  0.2 -0.1 -0.2  0.0 -0.2  0.6  0.0 -0.0 \n",
      " 0.0  0.0 -0.0 -0.0 -0.0 -0.3  0.0  0.1 -0.3 -0.2 -0.3 -0.0 -0.5  0.0  0.5 -0.4 -0.0 -0.0 \n",
      "-0.0  0.0 -0.0 -0.0  0.0  0.0 -0.0  0.0  0.0  0.0 -0.0  0.0  0.0  0.1  0.0  0.0  0.4  0.3 \n",
      " 0.0 -0.0  0.0  0.0  0.0  0.0  0.0  0.0 -0.0 -0.0 -0.0  0.0 -0.0 -0.0 -0.0 -0.0 -0.3  0.4 \n",
      "-0.0  0.0  0.0  0.0  0.0  0.0 -0.0  0.0 -0.0  0.0 -0.0  0.0 -0.0 -0.5 -0.0 -0.0  0.0 -0.6 \n",
      "-0.0 -0.0 -0.0 -0.0 -0.0  0.0  0.0  0.0 -0.0  0.0 -0.0  0.0 -0.0 -0.6 -0.0 -0.0 -0.5  0.1 \n",
      " 0.0 -0.0  0.0 -0.0 -0.0 -0.0  0.0  0.0  0.0 -0.0  0.0  0.0 -0.0 -0.4  0.0 -0.0  0.7 -0.0 \n",
      "-0.0  0.0 -0.0  0.0 -0.0 -0.0 -0.0 -0.0  0.0 -0.0  0.0  0.0 -0.0 -0.4  0.0 -0.0  0.1  0.6 \n",
      " 0.7  0.7  0.3 -0.2  0.0  0.0  0.0 -0.0  0.0  0.0  0.0  0.0  0.0 -0.0 -0.0  0.0  0.0 -0.0 \n",
      "-0.3  0.0 -0.1 -1.0 -0.0  0.0 -0.0  0.0  0.0 -0.0 -0.0  0.0  0.0 -0.0  0.0 -0.0  0.0  0.0 \n",
      " 0.3  0.1 -0.9  0.0  0.0  0.0  0.0  0.0  0.0 -0.0 -0.0  0.0 -0.0 -0.0 -0.0 -0.0  0.0 -0.0 \n",
      " 0.0 -0.0  0.0 -0.0  0.1 -0.0  1.0  0.0  0.0 -0.0 -0.0  0.0 -0.0  0.0  0.0  0.0  0.0  0.0 \n",
      " 0.5 -0.6  0.1 -0.2  0.7 -0.0 -0.1 -0.0  0.0 -0.0 -0.0 -0.0  0.0 -0.0  0.0 -0.0  0.0  0.0 \n",
      "-0.4  0.5 -0.1  0.2  0.7 -0.0 -0.1 -0.0 -0.0  0.0  0.0  0.0 -0.0 -0.0 -0.0 -0.0  0.0  0.0 \n"
     ]
    }
   ],
   "source": [
    "print(\"printing delocalized coordinates basis\")\n",
    "pmat2d(M.coord_basis,format='f')"
   ]
  },
  {
   "cell_type": "code",
   "execution_count": 18,
   "metadata": {},
   "outputs": [
    {
     "name": "stdout",
     "output_type": "stream",
     "text": [
      "printing coordinates in basis\n",
      "-3.2 -2.5 -1.3 -1.3 -0.0 -3.4 -0.0 -2.9 -0.4  0.2 -1.8 -0.9 -0.2 -0.7  0.8 -0.2 -3.8  0.3 \n"
     ]
    }
   ],
   "source": [
    "print(\"printing coordinates in basis\")\n",
    "pmat2d(M.coordinates.T,format='f')"
   ]
  },
  {
   "cell_type": "code",
   "execution_count": 32,
   "metadata": {},
   "outputs": [
    {
     "name": "stdout",
     "output_type": "stream",
     "text": [
      "taking step and printing new xyz,geom and coordinates\n",
      "Iter: 1 Err-dQ = 2.77242e-03 RMSD: 5.77350e-02 Damp: 1.00000e+00\n",
      "Iter: 2 Err-dQ (Best) = 4.44068e-08 (2.77242e-03) RMSD: 8.15263e-04 Damp: 1.00000e+00 (Good)\n",
      "Cartesian coordinates obtained after 2 microiterations (rmsd = 8.153e-04 |dQ| = 4.441e-08)\n",
      "\n",
      "new coordinates (in basis)\n",
      "-1.9 -2.5 -1.3 -1.3 -0.0 -3.4 -0.0 -2.9 -0.4  0.2 -1.8 -0.9 -0.2 -0.7  0.8 -0.2 -3.8  0.3 \n",
      "\n",
      "new xyz\n",
      "-3.5137  1.5489  0.0892 \n",
      "-2.4157  2.0435  0.6558 \n",
      "-4.7408  1.9416  0.5206 \n",
      "-3.4370  0.8296 -0.7202 \n",
      "-2.4933  2.7626  1.4649 \n",
      "-1.4331  1.7327  0.3145 \n",
      "\n",
      "new geometry\n",
      "C  -3.5137 1.5489 0.0892\n",
      "C  -2.4157 2.0435 0.6558\n",
      "F  -4.7408 1.9416 0.5206\n",
      "H  -3.4370 0.8296 -0.7202\n",
      "H  -2.4933 2.7626 1.4649\n",
      "H  -1.4331 1.7327 0.3145\n"
     ]
    }
   ],
   "source": [
    "dq = np.zeros((M.num_coordinates,1))\n",
    "dq[0]=0.1\n",
    "print(\"taking step and printing new xyz,geom and coordinates\")\n",
    "M.update_xyz(dq)\n",
    "print\n",
    "print(\"new coordinates (in basis)\")\n",
    "pmat2d(M.coordinates.T,format='f')\n",
    "print\n",
    "print(\"new xyz\")\n",
    "pmat2d(M.xyz,4,format='f')\n",
    "print\n",
    "print(\"new geometry\")\n",
    "for atom in M.geometry:\n",
    "    print(\"%-2s %5.4f %5.4f %5.4f\") % (atom[0],atom[1],atom[2],atom[3])"
   ]
  },
  {
   "cell_type": "code",
   "execution_count": 19,
   "metadata": {},
   "outputs": [
    {
     "name": "stdout",
     "output_type": "stream",
     "text": [
      "update coordinate basis\n",
      " 0.0 -0.0 -0.0  0.0  0.0  0.3  0.0 -0.8  0.0 -0.0  0.3 -0.1  0.1 -0.0  0.5 -0.1 -0.0 -0.0 \n",
      " 0.0 -0.0  0.0 -0.0  0.0  0.1  0.0 -0.2 -0.2  0.6 -0.5 -0.4  0.0 -0.0 -0.2 -0.2  0.0  0.0 \n",
      "-0.0  0.0 -0.0  0.0 -0.0 -0.1 -0.0 -0.3  0.4  0.3 -0.3  0.6 -0.4  0.0 -0.1  0.1  0.0  0.0 \n",
      "-0.0 -0.0  0.0  0.0  0.0  0.1 -0.0 -0.2  0.3 -0.6 -0.5 -0.4 -0.2 -0.0 -0.1  0.3  0.0  0.0 \n",
      " 0.0 -0.0  0.0 -0.0  0.0 -0.0  0.0 -0.3 -0.5 -0.3 -0.4  0.5  0.5 -0.0 -0.1 -0.1 -0.0  0.0 \n",
      "-0.0  0.0 -0.0 -0.0 -0.0 -0.6 -0.0 -0.3  0.3 -0.1  0.2 -0.1  0.1 -0.0 -0.4 -0.5 -0.0 -0.0 \n",
      "-0.0  0.0 -0.0  0.0 -0.0 -0.5 -0.0  0.1  0.3  0.2 -0.2 -0.1  0.5 -0.0  0.5  0.3 -0.0 -0.0 \n",
      " 0.0  0.0 -0.0 -0.0 -0.0 -0.5  0.0 -0.3 -0.5  0.1  0.2 -0.1 -0.2  0.0 -0.2  0.6  0.0 -0.0 \n",
      " 0.0  0.0 -0.0 -0.0 -0.0 -0.3  0.0  0.1 -0.3 -0.2 -0.3 -0.0 -0.5  0.0  0.5 -0.4 -0.0 -0.0 \n",
      "-0.0  0.0 -0.0 -0.0  0.0  0.0 -0.0  0.0  0.0  0.0 -0.0  0.0  0.0  0.1  0.0  0.0  0.4  0.3 \n",
      " 0.0 -0.0  0.0  0.0  0.0  0.0  0.0  0.0 -0.0 -0.0 -0.0  0.0 -0.0 -0.0 -0.0 -0.0 -0.3  0.4 \n",
      "-0.0  0.0  0.0  0.0  0.0  0.0 -0.0  0.0 -0.0  0.0 -0.0  0.0 -0.0 -0.5 -0.0 -0.0  0.0 -0.6 \n",
      "-0.0 -0.0 -0.0 -0.0 -0.0  0.0  0.0  0.0 -0.0  0.0 -0.0  0.0 -0.0 -0.6 -0.0 -0.0 -0.5  0.1 \n",
      " 0.0 -0.0  0.0 -0.0 -0.0 -0.0  0.0  0.0  0.0 -0.0  0.0  0.0 -0.0 -0.4  0.0 -0.0  0.7 -0.0 \n",
      "-0.0  0.0 -0.0  0.0 -0.0 -0.0 -0.0 -0.0  0.0 -0.0  0.0  0.0 -0.0 -0.4  0.0 -0.0  0.1  0.6 \n",
      " 0.7  0.7  0.3 -0.2  0.0  0.0  0.0 -0.0  0.0  0.0  0.0  0.0  0.0 -0.0 -0.0  0.0  0.0 -0.0 \n",
      "-0.3  0.0 -0.1 -1.0 -0.0  0.0 -0.0  0.0  0.0 -0.0 -0.0  0.0  0.0 -0.0  0.0 -0.0  0.0  0.0 \n",
      " 0.3  0.1 -0.9  0.0  0.0  0.0  0.0  0.0  0.0 -0.0 -0.0  0.0 -0.0 -0.0 -0.0 -0.0  0.0 -0.0 \n",
      " 0.0 -0.0  0.0 -0.0  0.1 -0.0  1.0  0.0  0.0 -0.0 -0.0  0.0 -0.0  0.0  0.0  0.0  0.0  0.0 \n",
      " 0.5 -0.6  0.1 -0.2  0.7 -0.0 -0.1 -0.0  0.0 -0.0 -0.0 -0.0  0.0 -0.0  0.0 -0.0  0.0  0.0 \n",
      "-0.4  0.5 -0.1  0.2  0.7 -0.0 -0.1 -0.0 -0.0  0.0  0.0  0.0 -0.0 -0.0 -0.0 -0.0  0.0  0.0 \n"
     ]
    }
   ],
   "source": [
    "# update coordinate basis\n",
    "print(\"update coordinate basis\")\n",
    "pmat2d(M.update_coordinate_basis(),format='f')  #also used with constraints\n"
   ]
  },
  {
   "cell_type": "code",
   "execution_count": 35,
   "metadata": {},
   "outputs": [
    {
     "name": "stdout",
     "output_type": "stream",
     "text": [
      "coords in new basis\n",
      "-1.9 -2.5 -1.3 -1.3 -0.0 -3.4 -0.0 -2.9 -0.4  0.2 -1.8 -0.9 -0.2 -0.7  0.8 -0.2 -3.8  0.3 \n"
     ]
    }
   ],
   "source": [
    "print(\"coords in new basis\")\n",
    "pmat2d(M.coordinates.T,format='f')\n"
   ]
  },
  {
   "cell_type": "code",
   "execution_count": 37,
   "metadata": {},
   "outputs": [
    {
     "name": "stdout",
     "output_type": "stream",
     "text": [
      "update Hessian in  basis\n",
      " 0.0  0.0 -0.0 -0.0  0.0  0.0  0.0 -0.0 -0.0  0.0 -0.0  0.0  0.0 -0.0 -0.0 -0.0 -0.0  0.0 \n",
      "-0.0  0.0  0.0 -0.0 -0.0 -0.0  0.0  0.0  0.0 -0.0 -0.0  0.0 -0.0  0.0 -0.0  0.0  0.0 -0.0 \n",
      "-0.0  0.0  0.1  0.0 -0.0  0.0 -0.0  0.0 -0.0 -0.0 -0.0 -0.0  0.0 -0.0 -0.0 -0.0 -0.0  0.0 \n",
      "-0.0 -0.0  0.0  0.1 -0.0  0.0 -0.0  0.0  0.0 -0.0  0.0 -0.0 -0.0 -0.0  0.0  0.0 -0.0  0.0 \n",
      " 0.0 -0.0 -0.0 -0.0  0.1  0.0  0.0 -0.0 -0.0 -0.0  0.0 -0.0  0.0 -0.0  0.0 -0.0 -0.0  0.0 \n",
      " 0.0 -0.0  0.0  0.0  0.0  0.2  0.0 -0.0 -0.0 -0.0  0.0 -0.0  0.0 -0.0  0.0 -0.0  0.0  0.0 \n",
      " 0.0  0.0 -0.0 -0.0  0.0  0.0  0.1 -0.0 -0.0  0.0 -0.0  0.0  0.0  0.0  0.0 -0.0 -0.0  0.0 \n",
      "-0.0  0.0  0.0  0.0 -0.0 -0.0 -0.0  0.3 -0.0 -0.0  0.0 -0.0 -0.0  0.0 -0.0  0.0  0.0 -0.0 \n",
      "-0.0  0.0 -0.0  0.0 -0.0 -0.0 -0.0 -0.0  0.3 -0.0  0.0  0.0 -0.1  0.0  0.0  0.0  0.0 -0.0 \n",
      " 0.0 -0.0 -0.0 -0.0 -0.0 -0.0  0.0 -0.0 -0.0  0.3  0.0  0.0 -0.0  0.0 -0.0 -0.0  0.0  0.0 \n",
      "-0.0 -0.0 -0.0  0.0  0.0  0.0 -0.0  0.0  0.0  0.0  0.3  0.0  0.0 -0.0  0.1 -0.0 -0.0 -0.0 \n",
      " 0.0  0.0 -0.0 -0.0 -0.0 -0.0  0.0 -0.0  0.0  0.0  0.0  0.3  0.0  0.0 -0.0  0.0  0.0  0.0 \n",
      " 0.0 -0.0  0.0 -0.0  0.0  0.0  0.0 -0.0 -0.1 -0.0  0.0  0.0  0.2 -0.0 -0.0 -0.0 -0.0 -0.0 \n",
      "-0.0  0.0 -0.0 -0.0 -0.0 -0.0  0.0  0.0  0.0  0.0 -0.0  0.0 -0.0  0.0 -0.0 -0.0  0.0  0.0 \n",
      "-0.0 -0.0 -0.0  0.0  0.0  0.0  0.0 -0.0  0.0 -0.0  0.1 -0.0 -0.0 -0.0  0.2 -0.0 -0.0 -0.0 \n",
      "-0.0  0.0 -0.0  0.0 -0.0 -0.0 -0.0  0.0  0.0 -0.0 -0.0  0.0 -0.0 -0.0 -0.0  0.2  0.0  0.0 \n",
      "-0.0  0.0 -0.0 -0.0 -0.0  0.0 -0.0  0.0  0.0  0.0 -0.0  0.0 -0.0  0.0 -0.0  0.0  0.0 -0.0 \n",
      " 0.0 -0.0  0.0  0.0  0.0  0.0  0.0 -0.0 -0.0  0.0 -0.0  0.0 -0.0  0.0 -0.0  0.0 -0.0  0.0 \n"
     ]
    }
   ],
   "source": [
    "print(\"update Hessian in  basis\")\n",
    "pmat2d(M.form_Hessian_in_basis(),format='f')\n"
   ]
  },
  {
   "cell_type": "code",
   "execution_count": 73,
   "metadata": {},
   "outputs": [
    {
     "name": "stdout",
     "output_type": "stream",
     "text": [
      "96\n"
     ]
    },
    {
     "data": {
      "image/png": "[encoded data removed]",
      "text/plain": [
       "<Figure size 432x288 with 1 Axes>"
      ]
     },
     "metadata": {
      "needs_background": "light"
     },
     "output_type": "display_data"
    }
   ],
   "source": [
    "print(M.num_primitives)\n",
    "B = M.coord_obj.Prims.wilsonB(M.xyz)\n",
    "BBT = np.dot(B,B.T)\n",
    "#plt.imshow(M.coord_obj.Prims.wilsonB(M.xyz), cmap=plt.cm.get_cmap('RdBu'))\n",
    "plt.imshow(BBT, cmap=plt.cm.get_cmap('Reds'))\n",
    "plt.show()"
   ]
  },
  {
   "cell_type": "code",
   "execution_count": 62,
   "metadata": {},
   "outputs": [
    {
     "name": "stdout",
     "output_type": "stream",
     "text": [
      "-0.1  0.9  0.4  0.0  0.0  0.0  0.0  0.0  0.0  0.0  0.0  0.0  0.0  0.0  0.0  0.0  0.0  0.0  0.0  0.0  0.0  0.0  0.0  0.0  0.1 -0.9 -0.4  0.0  0.0  0.0  0.0  0.0  0.0  0.0  0.0  0.0  0.0  0.0  0.0  0.0  0.0  0.0  0.0  0.0  0.0  0.0  0.0  0.0 \n",
      " 0.6 -0.7  0.4 -0.6  0.7 -0.4  0.0  0.0  0.0  0.0  0.0  0.0  0.0  0.0  0.0  0.0  0.0  0.0  0.0  0.0  0.0  0.0  0.0  0.0  0.0  0.0  0.0  0.0  0.0  0.0  0.0  0.0  0.0  0.0  0.0  0.0  0.0  0.0  0.0  0.0  0.0  0.0  0.0  0.0  0.0  0.0  0.0  0.0 \n",
      "-0.5 -0.2 -0.8  0.0  0.0  0.0  0.0  0.0  0.0  0.0  0.0  0.0  0.0  0.0  0.0  0.0  0.0  0.0  0.0  0.0  0.0  0.5  0.2  0.8  0.0  0.0  0.0  0.0  0.0  0.0  0.0  0.0  0.0  0.0  0.0  0.0  0.0  0.0  0.0  0.0  0.0  0.0  0.0  0.0  0.0  0.0  0.0  0.0 \n",
      " 0.0  0.0  0.0  0.1 -0.9 -0.3 -0.1  0.9  0.3  0.0  0.0  0.0  0.0  0.0  0.0  0.0  0.0  0.0  0.0  0.0  0.0  0.0  0.0  0.0  0.0  0.0  0.0  0.0  0.0  0.0  0.0  0.0  0.0  0.0  0.0  0.0  0.0  0.0  0.0  0.0  0.0  0.0  0.0  0.0  0.0  0.0  0.0  0.0 \n",
      " 0.0  0.0  0.0  0.5  0.3  0.8  0.0  0.0  0.0  0.0  0.0  0.0  0.0  0.0  0.0  0.0  0.0  0.0 -0.5 -0.3 -0.8  0.0  0.0  0.0  0.0  0.0  0.0  0.0  0.0  0.0  0.0  0.0  0.0  0.0  0.0  0.0  0.0  0.0  0.0  0.0  0.0  0.0  0.0  0.0  0.0  0.0  0.0  0.0 \n",
      " 0.0  0.0  0.0  0.0  0.0  0.0 -0.7 -0.6 -0.5  0.7  0.6  0.5  0.0  0.0  0.0  0.0  0.0  0.0  0.0  0.0  0.0  0.0  0.0  0.0  0.0  0.0  0.0  0.0  0.0  0.0  0.0  0.0  0.0  0.0  0.0  0.0  0.0  0.0  0.0  0.0  0.0  0.0  0.0  0.0  0.0  0.0  0.0  0.0 \n",
      " 0.0  0.0  0.0  0.0  0.0  0.0  0.9 -0.4  0.2  0.0  0.0  0.0  0.0  0.0  0.0  0.0  0.0  0.0  0.0  0.0  0.0  0.0  0.0  0.0  0.0  0.0  0.0  0.0  0.0  0.0  0.0  0.0  0.0  0.0  0.0  0.0  0.0  0.0  0.0  0.0  0.0  0.0  0.0  0.0  0.0 -0.9  0.4 -0.2 \n",
      " 0.0  0.0  0.0  0.0  0.0  0.0  0.0  0.0  0.0  0.2 -0.9 -0.3  0.0  0.0  0.0  0.0  0.0  0.0  0.0  0.0  0.0  0.0  0.0  0.0  0.0  0.0  0.0  0.0  0.0  0.0  0.0  0.0  0.0  0.0  0.0  0.0  0.0  0.0  0.0 -0.2  0.9  0.3  0.0  0.0  0.0  0.0  0.0  0.0 \n",
      " 0.0  0.0  0.0  0.0  0.0  0.0  0.0  0.0  0.0 -0.9  0.3 -0.2  0.0  0.0  0.0  0.0  0.0  0.0  0.0  0.0  0.0  0.0  0.0  0.0  0.0  0.0  0.0  0.0  0.0  0.0  0.0  0.0  0.0  0.0  0.0  0.0  0.0  0.0  0.0  0.0  0.0  0.0  0.9 -0.3  0.2  0.0  0.0  0.0 \n",
      " 0.0  0.0  0.0  0.0  0.0  0.0  0.0  0.0  0.0  0.0  0.0  0.0 -0.8 -0.4 -0.4  0.0  0.0  0.0  0.0  0.0  0.0  0.0  0.0  0.0  0.0  0.0  0.0  0.8  0.4  0.4  0.0  0.0  0.0  0.0  0.0  0.0  0.0  0.0  0.0  0.0  0.0  0.0  0.0  0.0  0.0  0.0  0.0  0.0 \n",
      " 0.0  0.0  0.0  0.0  0.0  0.0  0.0  0.0  0.0  0.0  0.0  0.0  0.4  0.8 -0.4  0.0  0.0  0.0  0.0  0.0  0.0  0.0  0.0  0.0  0.0  0.0  0.0  0.0  0.0  0.0 -0.4 -0.8  0.4  0.0  0.0  0.0  0.0  0.0  0.0  0.0  0.0  0.0  0.0  0.0  0.0  0.0  0.0  0.0 \n",
      " 0.0  0.0  0.0  0.0  0.0  0.0  0.0  0.0  0.0  0.0  0.0  0.0  0.4 -0.4  0.8 -0.4  0.4 -0.8  0.0  0.0  0.0  0.0  0.0  0.0  0.0  0.0  0.0  0.0  0.0  0.0  0.0  0.0  0.0  0.0  0.0  0.0  0.0  0.0  0.0  0.0  0.0  0.0  0.0  0.0  0.0  0.0  0.0  0.0 \n",
      " 0.0  0.0  0.0  0.0  0.0  0.0  0.0  0.0  0.0  0.0  0.0  0.0  0.0  0.0  0.0 -0.4 -0.8  0.4  0.0  0.0  0.0  0.0  0.0  0.0  0.0  0.0  0.0  0.0  0.0  0.0  0.0  0.0  0.0  0.0  0.0  0.0  0.4  0.8 -0.4  0.0  0.0  0.0  0.0  0.0  0.0  0.0  0.0  0.0 \n",
      " 0.0  0.0  0.0  0.0  0.0  0.0  0.0  0.0  0.0  0.0  0.0  0.0  0.0  0.0  0.0  0.8  0.4  0.4  0.0  0.0  0.0  0.0  0.0  0.0  0.0  0.0  0.0  0.0  0.0  0.0  0.0  0.0  0.0 -0.8 -0.4 -0.4  0.0  0.0  0.0  0.0  0.0  0.0  0.0  0.0  0.0  0.0  0.0  0.0 \n",
      "-0.8 -0.3 -1.2  0.2  0.5  0.5  0.0  0.0  0.0  0.0  0.0  0.0  0.0  0.0  0.0  0.0  0.0  0.0  0.0  0.0  0.0  0.0  0.0  0.0  0.6 -0.2  0.7  0.0  0.0  0.0  0.0  0.0  0.0  0.0  0.0  0.0  0.0  0.0  0.0  0.0  0.0  0.0  0.0  0.0  0.0  0.0  0.0  0.0 \n",
      " 0.9 -1.1  0.7  0.0  0.0  0.0  0.0  0.0  0.0  0.0  0.0  0.0  0.0  0.0  0.0  0.0  0.0  0.0  0.0  0.0  0.0 -0.3  0.9 -0.0 -0.6  0.2 -0.7  0.0  0.0  0.0  0.0  0.0  0.0  0.0  0.0  0.0  0.0  0.0  0.0  0.0  0.0  0.0  0.0  0.0  0.0  0.0  0.0  0.0 \n",
      " 0.2  0.5  0.5  0.1 -1.4 -0.5  0.0  0.0  0.0  0.0  0.0  0.0  0.0  0.0  0.0  0.0  0.0  0.0 -0.3  0.8 -0.1  0.0  0.0  0.0  0.0  0.0  0.0  0.0  0.0  0.0  0.0  0.0  0.0  0.0  0.0  0.0  0.0  0.0  0.0  0.0  0.0  0.0  0.0  0.0  0.0  0.0  0.0  0.0 \n",
      " 0.0  0.0  0.0 -0.8  1.0 -0.6  0.4 -0.1  0.5  0.0  0.0  0.0  0.0  0.0  0.0  0.0  0.0  0.0  0.4 -0.8  0.0  0.0  0.0  0.0  0.0  0.0  0.0  0.0  0.0  0.0  0.0  0.0  0.0  0.0  0.0  0.0  0.0  0.0  0.0  0.0  0.0  0.0  0.0  0.0  0.0  0.0  0.0  0.0 \n",
      " 0.0  0.0  0.0  0.6 -0.0  0.3 -0.9 -0.8 -0.7  0.0  0.0  0.0  0.0  0.0  0.0  0.0  0.0  0.0  0.0  0.0  0.0  0.0  0.0  0.0  0.0  0.0  0.0  0.0  0.0  0.0  0.0  0.0  0.0  0.0  0.0  0.0  0.0  0.0  0.0  0.0  0.0  0.0  0.0  0.0  0.0  0.3  0.8  0.4 \n",
      " 0.0  0.0  0.0  0.0  0.0  0.0 -0.2  1.4  0.4  0.5 -0.6 -0.0  0.0  0.0  0.0  0.0  0.0  0.0  0.0  0.0  0.0  0.0  0.0  0.0  0.0  0.0  0.0  0.0  0.0  0.0  0.0  0.0  0.0  0.0  0.0  0.0  0.0  0.0  0.0  0.0  0.0  0.0  0.0  0.0  0.0 -0.3 -0.8 -0.4 \n",
      " 0.0  0.0  0.0  0.0  0.0  0.0 -0.5  0.6  0.1  0.3 -1.4 -0.5  0.0  0.0  0.0  0.0  0.0  0.0  0.0  0.0  0.0  0.0  0.0  0.0  0.0  0.0  0.0  0.0  0.0  0.0  0.0  0.0  0.0  0.0  0.0  0.0  0.0  0.0  0.0  0.0  0.0  0.0  0.2  0.8  0.4  0.0  0.0  0.0 \n",
      " 0.0  0.0  0.0  0.0  0.0  0.0  0.0  0.0  0.0  1.1  0.9  0.7  0.0  0.0  0.0  0.0  0.0  0.0  0.0  0.0  0.0  0.0  0.0  0.0  0.0  0.0  0.0  0.0  0.0  0.0  0.0  0.0  0.0  0.0  0.0  0.0  0.0  0.0  0.0 -0.9 -0.1 -0.3 -0.2 -0.8 -0.4  0.0  0.0  0.0 \n",
      " 0.0  0.0  0.0  0.0  0.0  0.0  0.0  0.0  0.0  0.0  0.0  0.0  0.6 -0.6  1.3  0.0  0.0  0.0  0.0  0.0  0.0  0.0  0.0  0.0  0.0  0.0  0.0  0.0  0.6 -0.7 -0.7 -0.1 -0.6  0.0  0.0  0.0  0.0  0.0  0.0  0.0  0.0  0.0  0.0  0.0  0.0  0.0  0.0  0.0 \n",
      " 0.0  0.0  0.0  0.0  0.0  0.0  0.0  0.0  0.0  0.0  0.0  0.0 -1.2 -0.6 -0.6  0.5  0.5 -0.0  0.0  0.0  0.0  0.0  0.0  0.0  0.0  0.0  0.0  0.0  0.0  0.0  0.6  0.1  0.6  0.0  0.0  0.0  0.0  0.0  0.0  0.0  0.0  0.0  0.0  0.0  0.0  0.0  0.0  0.0 \n",
      " 0.0  0.0  0.0  0.0  0.0  0.0  0.0  0.0  0.0  0.0  0.0  0.0  0.0  0.0  0.0 -0.6  0.6 -1.3  0.0  0.0  0.0  0.0  0.0  0.0  0.0  0.0  0.0  0.0  0.0  0.0  0.0  0.0  0.0 -0.0 -0.6  0.7  0.7  0.1  0.6  0.0  0.0  0.0  0.0  0.0  0.0  0.0  0.0  0.0 \n",
      " 0.0  0.0  0.0  0.0  0.0  0.0  0.0  0.0  0.0  0.0  0.0  0.0 -0.5 -0.5  0.0  1.2  0.6  0.6  0.0  0.0  0.0  0.0  0.0  0.0  0.0  0.0  0.0  0.0  0.0  0.0  0.0  0.0  0.0  0.0  0.0  0.0 -0.7 -0.1 -0.6  0.0  0.0  0.0  0.0  0.0  0.0  0.0  0.0  0.0 \n",
      "-1.3 -0.5  0.9  0.4  0.2 -0.3  0.0  0.0  0.0  0.0  0.0  0.0  0.0  0.0  0.0  0.0  0.0  0.0  0.0  0.0  0.0  0.5  0.2 -0.3  0.5  0.2 -0.3  0.0  0.0  0.0  0.0  0.0  0.0  0.0  0.0  0.0  0.0  0.0  0.0  0.0  0.0  0.0  0.0  0.0  0.0  0.0  0.0  0.0 \n",
      "-0.4 -0.2  0.3  1.2  0.4 -0.9 -0.4 -0.1  0.3  0.0  0.0  0.0  0.0  0.0  0.0  0.0  0.0  0.0 -0.4 -0.2  0.3  0.0  0.0  0.0  0.0  0.0  0.0  0.0  0.0  0.0  0.0  0.0  0.0  0.0  0.0  0.0  0.0  0.0  0.0  0.0  0.0  0.0  0.0  0.0  0.0  0.0  0.0  0.0 \n",
      " 0.0  0.0  0.0 -0.2 -0.2  0.4  0.5  0.5 -1.4 -0.2 -0.2  0.5  0.0  0.0  0.0  0.0  0.0  0.0  0.0  0.0  0.0  0.0  0.0  0.0  0.0  0.0  0.0  0.0  0.0  0.0  0.0  0.0  0.0  0.0  0.0  0.0  0.0  0.0  0.0  0.0  0.0  0.0  0.0  0.0  0.0 -0.2 -0.2  0.5 \n",
      " 0.0  0.0  0.0  0.0  0.0  0.0  0.2  0.2 -0.4 -0.6 -0.6  1.5  0.0  0.0  0.0  0.0  0.0  0.0  0.0  0.0  0.0  0.0  0.0  0.0  0.0  0.0  0.0  0.0  0.0  0.0  0.0  0.0  0.0  0.0  0.0  0.0  0.0  0.0  0.0  0.2  0.2 -0.5  0.2  0.2 -0.5  0.0  0.0  0.0 \n",
      " 0.0  0.0  0.0  0.0  0.0  0.0  0.0  0.0  0.0  0.0  0.0  0.0 -1.0  1.0  1.0  0.3 -0.3 -0.3  0.0  0.0  0.0  0.0  0.0  0.0  0.0  0.0  0.0  0.4 -0.4 -0.3  0.4 -0.4 -0.3  0.0  0.0  0.0  0.0  0.0  0.0  0.0  0.0  0.0  0.0  0.0  0.0  0.0  0.0  0.0 \n",
      " 0.0  0.0  0.0  0.0  0.0  0.0  0.0  0.0  0.0  0.0  0.0  0.0  0.3 -0.3 -0.3 -1.0  1.0  0.9  0.0  0.0  0.0  0.0  0.0  0.0  0.0  0.0  0.0  0.0  0.0  0.0  0.0  0.0  0.0  0.4 -0.4 -0.3  0.4 -0.4 -0.3  0.0  0.0  0.0  0.0  0.0  0.0  0.0  0.0  0.0 \n",
      "-0.8 -0.3  0.5 -0.7 -0.3  0.5  0.7  0.2 -0.5  0.0  0.0  0.0  0.0  0.0  0.0  0.0  0.0  0.0  0.0  0.0  0.0  0.0  0.0  0.0  0.8  0.3 -0.6  0.0  0.0  0.0  0.0  0.0  0.0  0.0  0.0  0.0  0.0  0.0  0.0  0.0  0.0  0.0  0.0  0.0  0.0  0.0  0.0  0.0 \n"
     ]
    },
    {
     "name": "stdout",
     "output_type": "stream",
     "text": [
      "-1.5 -0.6  1.1  1.5  0.5 -1.1  0.0  0.0  0.0  0.0  0.0  0.0  0.0  0.0  0.0  0.0  0.0  0.0 -0.8 -0.3  0.6  0.0  0.0  0.0  0.8  0.3 -0.6  0.0  0.0  0.0  0.0  0.0  0.0  0.0  0.0  0.0  0.0  0.0  0.0  0.0  0.0  0.0  0.0  0.0  0.0  0.0  0.0  0.0 \n",
      " 1.6  0.6 -1.1 -1.4 -0.5  1.0  0.7  0.2 -0.5  0.0  0.0  0.0  0.0  0.0  0.0  0.0  0.0  0.0  0.0  0.0  0.0 -0.8 -0.3  0.6  0.0  0.0  0.0  0.0  0.0  0.0  0.0  0.0  0.0  0.0  0.0  0.0  0.0  0.0  0.0  0.0  0.0  0.0  0.0  0.0  0.0  0.0  0.0  0.0 \n",
      " 0.9  0.4 -0.6  0.7  0.2 -0.6  0.0  0.0  0.0  0.0  0.0  0.0  0.0  0.0  0.0  0.0  0.0  0.0 -0.8 -0.3  0.6 -0.8 -0.3  0.6  0.0  0.0  0.0  0.0  0.0  0.0  0.0  0.0  0.0  0.0  0.0  0.0  0.0  0.0  0.0  0.0  0.0  0.0  0.0  0.0  0.0  0.0  0.0  0.0 \n",
      "-0.7 -0.3  0.5  1.3  0.6 -1.2 -0.9 -0.6  1.5  0.3  0.3 -0.8  0.0  0.0  0.0  0.0  0.0  0.0  0.0  0.0  0.0  0.0  0.0  0.0  0.0  0.0  0.0  0.0  0.0  0.0  0.0  0.0  0.0  0.0  0.0  0.0  0.0  0.0  0.0  0.0  0.0  0.0  0.0  0.0  0.0  0.0  0.0  0.0 \n",
      "-0.7 -0.3  0.5  1.0  0.3 -0.5  0.1  0.3 -0.9  0.0  0.0  0.0  0.0  0.0  0.0  0.0  0.0  0.0  0.0  0.0  0.0  0.0  0.0  0.0  0.0  0.0  0.0  0.0  0.0  0.0  0.0  0.0  0.0  0.0  0.0  0.0  0.0  0.0  0.0  0.0  0.0  0.0  0.0  0.0  0.0 -0.4 -0.3  0.9 \n",
      " 0.0  0.0  0.0 -0.9 -0.2  0.4 -0.2 -0.4  1.1  0.3  0.3 -0.8  0.0  0.0  0.0  0.0  0.0  0.0  0.8  0.3 -0.6  0.0  0.0  0.0  0.0  0.0  0.0  0.0  0.0  0.0  0.0  0.0  0.0  0.0  0.0  0.0  0.0  0.0  0.0  0.0  0.0  0.0  0.0  0.0  0.0  0.0  0.0  0.0 \n",
      " 0.0  0.0  0.0 -1.1 -0.5  1.1  0.7  0.5 -1.4  0.0  0.0  0.0  0.0  0.0  0.0  0.0  0.0  0.0  0.8  0.3 -0.6  0.0  0.0  0.0  0.0  0.0  0.0  0.0  0.0  0.0  0.0  0.0  0.0  0.0  0.0  0.0  0.0  0.0  0.0  0.0  0.0  0.0  0.0  0.0  0.0 -0.4 -0.3  0.9 \n",
      " 0.0  0.0  0.0 -0.3 -0.3  0.7  0.3  0.3 -0.8  0.3  0.3 -0.9  0.0  0.0  0.0  0.0  0.0  0.0  0.0  0.0  0.0  0.0  0.0  0.0  0.0  0.0  0.0  0.0  0.0  0.0  0.0  0.0  0.0  0.0  0.0  0.0  0.0  0.0  0.0 -0.3 -0.4  0.9  0.0  0.0  0.0  0.0  0.0  0.0 \n",
      " 0.0  0.0  0.0 -0.3 -0.3  0.7  0.6  0.6 -1.6 -0.7 -0.7  1.8  0.0  0.0  0.0  0.0  0.0  0.0  0.0  0.0  0.0  0.0  0.0  0.0  0.0  0.0  0.0  0.0  0.0  0.0  0.0  0.0  0.0  0.0  0.0  0.0  0.0  0.0  0.0  0.0  0.0  0.0  0.3  0.4 -1.0  0.0  0.0  0.0 \n",
      " 0.0  0.0  0.0  0.0  0.0  0.0 -0.7 -0.6  1.7  0.6  0.7 -1.7  0.0  0.0  0.0  0.0  0.0  0.0  0.0  0.0  0.0  0.0  0.0  0.0  0.0  0.0  0.0  0.0  0.0  0.0  0.0  0.0  0.0  0.0  0.0  0.0  0.0  0.0  0.0 -0.3 -0.4  0.9  0.0  0.0  0.0  0.4  0.3 -0.9 \n",
      " 0.0  0.0  0.0  0.0  0.0  0.0 -0.4 -0.3  0.9 -0.3 -0.4  1.0  0.0  0.0  0.0  0.0  0.0  0.0  0.0  0.0  0.0  0.0  0.0  0.0  0.0  0.0  0.0  0.0  0.0  0.0  0.0  0.0  0.0  0.0  0.0  0.0  0.0  0.0  0.0  0.0  0.0  0.0  0.3  0.4 -1.0  0.4  0.3 -0.9 \n",
      " 0.0  0.0  0.0  0.0  0.0  0.0  0.0  0.0  0.0  0.0  0.0  0.0  1.2 -1.2 -1.1 -1.2  1.2  1.1  0.0  0.0  0.0  0.0  0.0  0.0  0.0  0.0  0.0 -0.6  0.6  0.6  0.0  0.0  0.0  0.0  0.0  0.0  0.6 -0.6 -0.6  0.0  0.0  0.0  0.0  0.0  0.0  0.0  0.0  0.0 \n",
      " 0.0  0.0  0.0  0.0  0.0  0.0  0.0  0.0  0.0  0.0  0.0  0.0  0.6 -0.6 -0.6  0.6 -0.6 -0.6  0.0  0.0  0.0  0.0  0.0  0.0  0.0  0.0  0.0 -0.6  0.6  0.6  0.0  0.0  0.0 -0.6  0.6  0.6  0.0  0.0  0.0  0.0  0.0  0.0  0.0  0.0  0.0  0.0  0.0  0.0 \n",
      " 0.0  0.0  0.0  0.0  0.0  0.0  0.0  0.0  0.0  0.0  0.0  0.0 -0.6  0.6  0.6 -0.6  0.6  0.6  0.0  0.0  0.0  0.0  0.0  0.0  0.0  0.0  0.0  0.0  0.0  0.0  0.6 -0.6 -0.6  0.0  0.0  0.0  0.6 -0.6 -0.6  0.0  0.0  0.0  0.0  0.0  0.0  0.0  0.0  0.0 \n",
      " 0.0  0.0  0.0  0.0  0.0  0.0  0.0  0.0  0.0  0.0  0.0  0.0 -1.2  1.2  1.1  1.2 -1.2 -1.1  0.0  0.0  0.0  0.0  0.0  0.0  0.0  0.0  0.0  0.0  0.0  0.0  0.6 -0.6 -0.6 -0.6  0.6  0.6  0.0  0.0  0.0  0.0  0.0  0.0  0.0  0.0  0.0  0.0  0.0  0.0 \n",
      " 1.0  0.0  0.0  0.0  0.0  0.0  0.0  0.0  0.0  0.0  0.0  0.0  0.0  0.0  0.0  0.0  0.0  0.0  0.0  0.0  0.0  0.0  0.0  0.0  0.0  0.0  0.0  0.0  0.0  0.0  0.0  0.0  0.0  0.0  0.0  0.0  0.0  0.0  0.0  0.0  0.0  0.0  0.0  0.0  0.0  0.0  0.0  0.0 \n",
      " 0.0  0.0  0.0  1.0  0.0  0.0  0.0  0.0  0.0  0.0  0.0  0.0  0.0  0.0  0.0  0.0  0.0  0.0  0.0  0.0  0.0  0.0  0.0  0.0  0.0  0.0  0.0  0.0  0.0  0.0  0.0  0.0  0.0  0.0  0.0  0.0  0.0  0.0  0.0  0.0  0.0  0.0  0.0  0.0  0.0  0.0  0.0  0.0 \n",
      " 0.0  0.0  0.0  0.0  0.0  0.0  1.0  0.0  0.0  0.0  0.0  0.0  0.0  0.0  0.0  0.0  0.0  0.0  0.0  0.0  0.0  0.0  0.0  0.0  0.0  0.0  0.0  0.0  0.0  0.0  0.0  0.0  0.0  0.0  0.0  0.0  0.0  0.0  0.0  0.0  0.0  0.0  0.0  0.0  0.0  0.0  0.0  0.0 \n",
      " 0.0  0.0  0.0  0.0  0.0  0.0  0.0  0.0  0.0  1.0  0.0  0.0  0.0  0.0  0.0  0.0  0.0  0.0  0.0  0.0  0.0  0.0  0.0  0.0  0.0  0.0  0.0  0.0  0.0  0.0  0.0  0.0  0.0  0.0  0.0  0.0  0.0  0.0  0.0  0.0  0.0  0.0  0.0  0.0  0.0  0.0  0.0  0.0 \n",
      " 0.0  0.0  0.0  0.0  0.0  0.0  0.0  0.0  0.0  0.0  0.0  0.0  1.0  0.0  0.0  0.0  0.0  0.0  0.0  0.0  0.0  0.0  0.0  0.0  0.0  0.0  0.0  0.0  0.0  0.0  0.0  0.0  0.0  0.0  0.0  0.0  0.0  0.0  0.0  0.0  0.0  0.0  0.0  0.0  0.0  0.0  0.0  0.0 \n",
      " 0.0  0.0  0.0  0.0  0.0  0.0  0.0  0.0  0.0  0.0  0.0  0.0  0.0  0.0  0.0  1.0  0.0  0.0  0.0  0.0  0.0  0.0  0.0  0.0  0.0  0.0  0.0  0.0  0.0  0.0  0.0  0.0  0.0  0.0  0.0  0.0  0.0  0.0  0.0  0.0  0.0  0.0  0.0  0.0  0.0  0.0  0.0  0.0 \n",
      " 0.0  0.0  0.0  0.0  0.0  0.0  0.0  0.0  0.0  0.0  0.0  0.0  0.0  0.0  0.0  0.0  0.0  0.0  1.0  0.0  0.0  0.0  0.0  0.0  0.0  0.0  0.0  0.0  0.0  0.0  0.0  0.0  0.0  0.0  0.0  0.0  0.0  0.0  0.0  0.0  0.0  0.0  0.0  0.0  0.0  0.0  0.0  0.0 \n",
      " 0.0  0.0  0.0  0.0  0.0  0.0  0.0  0.0  0.0  0.0  0.0  0.0  0.0  0.0  0.0  0.0  0.0  0.0  0.0  0.0  0.0  1.0  0.0  0.0  0.0  0.0  0.0  0.0  0.0  0.0  0.0  0.0  0.0  0.0  0.0  0.0  0.0  0.0  0.0  0.0  0.0  0.0  0.0  0.0  0.0  0.0  0.0  0.0 \n",
      " 0.0  0.0  0.0  0.0  0.0  0.0  0.0  0.0  0.0  0.0  0.0  0.0  0.0  0.0  0.0  0.0  0.0  0.0  0.0  0.0  0.0  0.0  0.0  0.0  1.0  0.0  0.0  0.0  0.0  0.0  0.0  0.0  0.0  0.0  0.0  0.0  0.0  0.0  0.0  0.0  0.0  0.0  0.0  0.0  0.0  0.0  0.0  0.0 \n",
      " 0.0  0.0  0.0  0.0  0.0  0.0  0.0  0.0  0.0  0.0  0.0  0.0  0.0  0.0  0.0  0.0  0.0  0.0  0.0  0.0  0.0  0.0  0.0  0.0  0.0  0.0  0.0  1.0  0.0  0.0  0.0  0.0  0.0  0.0  0.0  0.0  0.0  0.0  0.0  0.0  0.0  0.0  0.0  0.0  0.0  0.0  0.0  0.0 \n",
      " 0.0  0.0  0.0  0.0  0.0  0.0  0.0  0.0  0.0  0.0  0.0  0.0  0.0  0.0  0.0  0.0  0.0  0.0  0.0  0.0  0.0  0.0  0.0  0.0  0.0  0.0  0.0  0.0  0.0  0.0  1.0  0.0  0.0  0.0  0.0  0.0  0.0  0.0  0.0  0.0  0.0  0.0  0.0  0.0  0.0  0.0  0.0  0.0 \n",
      " 0.0  0.0  0.0  0.0  0.0  0.0  0.0  0.0  0.0  0.0  0.0  0.0  0.0  0.0  0.0  0.0  0.0  0.0  0.0  0.0  0.0  0.0  0.0  0.0  0.0  0.0  0.0  0.0  0.0  0.0  0.0  0.0  0.0  1.0  0.0  0.0  0.0  0.0  0.0  0.0  0.0  0.0  0.0  0.0  0.0  0.0  0.0  0.0 \n",
      " 0.0  0.0  0.0  0.0  0.0  0.0  0.0  0.0  0.0  0.0  0.0  0.0  0.0  0.0  0.0  0.0  0.0  0.0  0.0  0.0  0.0  0.0  0.0  0.0  0.0  0.0  0.0  0.0  0.0  0.0  0.0  0.0  0.0  0.0  0.0  0.0  1.0  0.0  0.0  0.0  0.0  0.0  0.0  0.0  0.0  0.0  0.0  0.0 \n",
      " 0.0  0.0  0.0  0.0  0.0  0.0  0.0  0.0  0.0  0.0  0.0  0.0  0.0  0.0  0.0  0.0  0.0  0.0  0.0  0.0  0.0  0.0  0.0  0.0  0.0  0.0  0.0  0.0  0.0  0.0  0.0  0.0  0.0  0.0  0.0  0.0  0.0  0.0  0.0  1.0  0.0  0.0  0.0  0.0  0.0  0.0  0.0  0.0 \n",
      " 0.0  0.0  0.0  0.0  0.0  0.0  0.0  0.0  0.0  0.0  0.0  0.0  0.0  0.0  0.0  0.0  0.0  0.0  0.0  0.0  0.0  0.0  0.0  0.0  0.0  0.0  0.0  0.0  0.0  0.0  0.0  0.0  0.0  0.0  0.0  0.0  0.0  0.0  0.0  0.0  0.0  0.0  1.0  0.0  0.0  0.0  0.0  0.0 \n",
      " 0.0  0.0  0.0  0.0  0.0  0.0  0.0  0.0  0.0  0.0  0.0  0.0  0.0  0.0  0.0  0.0  0.0  0.0  0.0  0.0  0.0  0.0  0.0  0.0  0.0  0.0  0.0  0.0  0.0  0.0  0.0  0.0  0.0  0.0  0.0  0.0  0.0  0.0  0.0  0.0  0.0  0.0  0.0  0.0  0.0  1.0  0.0  0.0 \n",
      " 0.0  1.0  0.0  0.0  0.0  0.0  0.0  0.0  0.0  0.0  0.0  0.0  0.0  0.0  0.0  0.0  0.0  0.0  0.0  0.0  0.0  0.0  0.0  0.0  0.0  0.0  0.0  0.0  0.0  0.0  0.0  0.0  0.0  0.0  0.0  0.0  0.0  0.0  0.0  0.0  0.0  0.0  0.0  0.0  0.0  0.0  0.0  0.0 \n",
      " 0.0  0.0  0.0  0.0  1.0  0.0  0.0  0.0  0.0  0.0  0.0  0.0  0.0  0.0  0.0  0.0  0.0  0.0  0.0  0.0  0.0  0.0  0.0  0.0  0.0  0.0  0.0  0.0  0.0  0.0  0.0  0.0  0.0  0.0  0.0  0.0  0.0  0.0  0.0  0.0  0.0  0.0  0.0  0.0  0.0  0.0  0.0  0.0 \n"
     ]
    },
    {
     "name": "stdout",
     "output_type": "stream",
     "text": [
      " 0.0  0.0  0.0  0.0  0.0  0.0  0.0  1.0  0.0  0.0  0.0  0.0  0.0  0.0  0.0  0.0  0.0  0.0  0.0  0.0  0.0  0.0  0.0  0.0  0.0  0.0  0.0  0.0  0.0  0.0  0.0  0.0  0.0  0.0  0.0  0.0  0.0  0.0  0.0  0.0  0.0  0.0  0.0  0.0  0.0  0.0  0.0  0.0 \n",
      " 0.0  0.0  0.0  0.0  0.0  0.0  0.0  0.0  0.0  0.0  1.0  0.0  0.0  0.0  0.0  0.0  0.0  0.0  0.0  0.0  0.0  0.0  0.0  0.0  0.0  0.0  0.0  0.0  0.0  0.0  0.0  0.0  0.0  0.0  0.0  0.0  0.0  0.0  0.0  0.0  0.0  0.0  0.0  0.0  0.0  0.0  0.0  0.0 \n",
      " 0.0  0.0  0.0  0.0  0.0  0.0  0.0  0.0  0.0  0.0  0.0  0.0  0.0  1.0  0.0  0.0  0.0  0.0  0.0  0.0  0.0  0.0  0.0  0.0  0.0  0.0  0.0  0.0  0.0  0.0  0.0  0.0  0.0  0.0  0.0  0.0  0.0  0.0  0.0  0.0  0.0  0.0  0.0  0.0  0.0  0.0  0.0  0.0 \n",
      " 0.0  0.0  0.0  0.0  0.0  0.0  0.0  0.0  0.0  0.0  0.0  0.0  0.0  0.0  0.0  0.0  1.0  0.0  0.0  0.0  0.0  0.0  0.0  0.0  0.0  0.0  0.0  0.0  0.0  0.0  0.0  0.0  0.0  0.0  0.0  0.0  0.0  0.0  0.0  0.0  0.0  0.0  0.0  0.0  0.0  0.0  0.0  0.0 \n",
      " 0.0  0.0  0.0  0.0  0.0  0.0  0.0  0.0  0.0  0.0  0.0  0.0  0.0  0.0  0.0  0.0  0.0  0.0  0.0  1.0  0.0  0.0  0.0  0.0  0.0  0.0  0.0  0.0  0.0  0.0  0.0  0.0  0.0  0.0  0.0  0.0  0.0  0.0  0.0  0.0  0.0  0.0  0.0  0.0  0.0  0.0  0.0  0.0 \n",
      " 0.0  0.0  0.0  0.0  0.0  0.0  0.0  0.0  0.0  0.0  0.0  0.0  0.0  0.0  0.0  0.0  0.0  0.0  0.0  0.0  0.0  0.0  1.0  0.0  0.0  0.0  0.0  0.0  0.0  0.0  0.0  0.0  0.0  0.0  0.0  0.0  0.0  0.0  0.0  0.0  0.0  0.0  0.0  0.0  0.0  0.0  0.0  0.0 \n",
      " 0.0  0.0  0.0  0.0  0.0  0.0  0.0  0.0  0.0  0.0  0.0  0.0  0.0  0.0  0.0  0.0  0.0  0.0  0.0  0.0  0.0  0.0  0.0  0.0  0.0  1.0  0.0  0.0  0.0  0.0  0.0  0.0  0.0  0.0  0.0  0.0  0.0  0.0  0.0  0.0  0.0  0.0  0.0  0.0  0.0  0.0  0.0  0.0 \n",
      " 0.0  0.0  0.0  0.0  0.0  0.0  0.0  0.0  0.0  0.0  0.0  0.0  0.0  0.0  0.0  0.0  0.0  0.0  0.0  0.0  0.0  0.0  0.0  0.0  0.0  0.0  0.0  0.0  1.0  0.0  0.0  0.0  0.0  0.0  0.0  0.0  0.0  0.0  0.0  0.0  0.0  0.0  0.0  0.0  0.0  0.0  0.0  0.0 \n",
      " 0.0  0.0  0.0  0.0  0.0  0.0  0.0  0.0  0.0  0.0  0.0  0.0  0.0  0.0  0.0  0.0  0.0  0.0  0.0  0.0  0.0  0.0  0.0  0.0  0.0  0.0  0.0  0.0  0.0  0.0  0.0  1.0  0.0  0.0  0.0  0.0  0.0  0.0  0.0  0.0  0.0  0.0  0.0  0.0  0.0  0.0  0.0  0.0 \n",
      " 0.0  0.0  0.0  0.0  0.0  0.0  0.0  0.0  0.0  0.0  0.0  0.0  0.0  0.0  0.0  0.0  0.0  0.0  0.0  0.0  0.0  0.0  0.0  0.0  0.0  0.0  0.0  0.0  0.0  0.0  0.0  0.0  0.0  0.0  1.0  0.0  0.0  0.0  0.0  0.0  0.0  0.0  0.0  0.0  0.0  0.0  0.0  0.0 \n",
      " 0.0  0.0  0.0  0.0  0.0  0.0  0.0  0.0  0.0  0.0  0.0  0.0  0.0  0.0  0.0  0.0  0.0  0.0  0.0  0.0  0.0  0.0  0.0  0.0  0.0  0.0  0.0  0.0  0.0  0.0  0.0  0.0  0.0  0.0  0.0  0.0  0.0  1.0  0.0  0.0  0.0  0.0  0.0  0.0  0.0  0.0  0.0  0.0 \n",
      " 0.0  0.0  0.0  0.0  0.0  0.0  0.0  0.0  0.0  0.0  0.0  0.0  0.0  0.0  0.0  0.0  0.0  0.0  0.0  0.0  0.0  0.0  0.0  0.0  0.0  0.0  0.0  0.0  0.0  0.0  0.0  0.0  0.0  0.0  0.0  0.0  0.0  0.0  0.0  0.0  1.0  0.0  0.0  0.0  0.0  0.0  0.0  0.0 \n",
      " 0.0  0.0  0.0  0.0  0.0  0.0  0.0  0.0  0.0  0.0  0.0  0.0  0.0  0.0  0.0  0.0  0.0  0.0  0.0  0.0  0.0  0.0  0.0  0.0  0.0  0.0  0.0  0.0  0.0  0.0  0.0  0.0  0.0  0.0  0.0  0.0  0.0  0.0  0.0  0.0  0.0  0.0  0.0  1.0  0.0  0.0  0.0  0.0 \n",
      " 0.0  0.0  0.0  0.0  0.0  0.0  0.0  0.0  0.0  0.0  0.0  0.0  0.0  0.0  0.0  0.0  0.0  0.0  0.0  0.0  0.0  0.0  0.0  0.0  0.0  0.0  0.0  0.0  0.0  0.0  0.0  0.0  0.0  0.0  0.0  0.0  0.0  0.0  0.0  0.0  0.0  0.0  0.0  0.0  0.0  0.0  1.0  0.0 \n",
      " 0.0  0.0  1.0  0.0  0.0  0.0  0.0  0.0  0.0  0.0  0.0  0.0  0.0  0.0  0.0  0.0  0.0  0.0  0.0  0.0  0.0  0.0  0.0  0.0  0.0  0.0  0.0  0.0  0.0  0.0  0.0  0.0  0.0  0.0  0.0  0.0  0.0  0.0  0.0  0.0  0.0  0.0  0.0  0.0  0.0  0.0  0.0  0.0 \n",
      " 0.0  0.0  0.0  0.0  0.0  1.0  0.0  0.0  0.0  0.0  0.0  0.0  0.0  0.0  0.0  0.0  0.0  0.0  0.0  0.0  0.0  0.0  0.0  0.0  0.0  0.0  0.0  0.0  0.0  0.0  0.0  0.0  0.0  0.0  0.0  0.0  0.0  0.0  0.0  0.0  0.0  0.0  0.0  0.0  0.0  0.0  0.0  0.0 \n",
      " 0.0  0.0  0.0  0.0  0.0  0.0  0.0  0.0  1.0  0.0  0.0  0.0  0.0  0.0  0.0  0.0  0.0  0.0  0.0  0.0  0.0  0.0  0.0  0.0  0.0  0.0  0.0  0.0  0.0  0.0  0.0  0.0  0.0  0.0  0.0  0.0  0.0  0.0  0.0  0.0  0.0  0.0  0.0  0.0  0.0  0.0  0.0  0.0 \n",
      " 0.0  0.0  0.0  0.0  0.0  0.0  0.0  0.0  0.0  0.0  0.0  1.0  0.0  0.0  0.0  0.0  0.0  0.0  0.0  0.0  0.0  0.0  0.0  0.0  0.0  0.0  0.0  0.0  0.0  0.0  0.0  0.0  0.0  0.0  0.0  0.0  0.0  0.0  0.0  0.0  0.0  0.0  0.0  0.0  0.0  0.0  0.0  0.0 \n",
      " 0.0  0.0  0.0  0.0  0.0  0.0  0.0  0.0  0.0  0.0  0.0  0.0  0.0  0.0  1.0  0.0  0.0  0.0  0.0  0.0  0.0  0.0  0.0  0.0  0.0  0.0  0.0  0.0  0.0  0.0  0.0  0.0  0.0  0.0  0.0  0.0  0.0  0.0  0.0  0.0  0.0  0.0  0.0  0.0  0.0  0.0  0.0  0.0 \n",
      " 0.0  0.0  0.0  0.0  0.0  0.0  0.0  0.0  0.0  0.0  0.0  0.0  0.0  0.0  0.0  0.0  0.0  1.0  0.0  0.0  0.0  0.0  0.0  0.0  0.0  0.0  0.0  0.0  0.0  0.0  0.0  0.0  0.0  0.0  0.0  0.0  0.0  0.0  0.0  0.0  0.0  0.0  0.0  0.0  0.0  0.0  0.0  0.0 \n",
      " 0.0  0.0  0.0  0.0  0.0  0.0  0.0  0.0  0.0  0.0  0.0  0.0  0.0  0.0  0.0  0.0  0.0  0.0  0.0  0.0  1.0  0.0  0.0  0.0  0.0  0.0  0.0  0.0  0.0  0.0  0.0  0.0  0.0  0.0  0.0  0.0  0.0  0.0  0.0  0.0  0.0  0.0  0.0  0.0  0.0  0.0  0.0  0.0 \n",
      " 0.0  0.0  0.0  0.0  0.0  0.0  0.0  0.0  0.0  0.0  0.0  0.0  0.0  0.0  0.0  0.0  0.0  0.0  0.0  0.0  0.0  0.0  0.0  1.0  0.0  0.0  0.0  0.0  0.0  0.0  0.0  0.0  0.0  0.0  0.0  0.0  0.0  0.0  0.0  0.0  0.0  0.0  0.0  0.0  0.0  0.0  0.0  0.0 \n",
      " 0.0  0.0  0.0  0.0  0.0  0.0  0.0  0.0  0.0  0.0  0.0  0.0  0.0  0.0  0.0  0.0  0.0  0.0  0.0  0.0  0.0  0.0  0.0  0.0  0.0  0.0  1.0  0.0  0.0  0.0  0.0  0.0  0.0  0.0  0.0  0.0  0.0  0.0  0.0  0.0  0.0  0.0  0.0  0.0  0.0  0.0  0.0  0.0 \n",
      " 0.0  0.0  0.0  0.0  0.0  0.0  0.0  0.0  0.0  0.0  0.0  0.0  0.0  0.0  0.0  0.0  0.0  0.0  0.0  0.0  0.0  0.0  0.0  0.0  0.0  0.0  0.0  0.0  0.0  1.0  0.0  0.0  0.0  0.0  0.0  0.0  0.0  0.0  0.0  0.0  0.0  0.0  0.0  0.0  0.0  0.0  0.0  0.0 \n",
      " 0.0  0.0  0.0  0.0  0.0  0.0  0.0  0.0  0.0  0.0  0.0  0.0  0.0  0.0  0.0  0.0  0.0  0.0  0.0  0.0  0.0  0.0  0.0  0.0  0.0  0.0  0.0  0.0  0.0  0.0  0.0  0.0  1.0  0.0  0.0  0.0  0.0  0.0  0.0  0.0  0.0  0.0  0.0  0.0  0.0  0.0  0.0  0.0 \n",
      " 0.0  0.0  0.0  0.0  0.0  0.0  0.0  0.0  0.0  0.0  0.0  0.0  0.0  0.0  0.0  0.0  0.0  0.0  0.0  0.0  0.0  0.0  0.0  0.0  0.0  0.0  0.0  0.0  0.0  0.0  0.0  0.0  0.0  0.0  0.0  1.0  0.0  0.0  0.0  0.0  0.0  0.0  0.0  0.0  0.0  0.0  0.0  0.0 \n",
      " 0.0  0.0  0.0  0.0  0.0  0.0  0.0  0.0  0.0  0.0  0.0  0.0  0.0  0.0  0.0  0.0  0.0  0.0  0.0  0.0  0.0  0.0  0.0  0.0  0.0  0.0  0.0  0.0  0.0  0.0  0.0  0.0  0.0  0.0  0.0  0.0  0.0  0.0  1.0  0.0  0.0  0.0  0.0  0.0  0.0  0.0  0.0  0.0 \n",
      " 0.0  0.0  0.0  0.0  0.0  0.0  0.0  0.0  0.0  0.0  0.0  0.0  0.0  0.0  0.0  0.0  0.0  0.0  0.0  0.0  0.0  0.0  0.0  0.0  0.0  0.0  0.0  0.0  0.0  0.0  0.0  0.0  0.0  0.0  0.0  0.0  0.0  0.0  0.0  0.0  0.0  1.0  0.0  0.0  0.0  0.0  0.0  0.0 \n",
      " 0.0  0.0  0.0  0.0  0.0  0.0  0.0  0.0  0.0  0.0  0.0  0.0  0.0  0.0  0.0  0.0  0.0  0.0  0.0  0.0  0.0  0.0  0.0  0.0  0.0  0.0  0.0  0.0  0.0  0.0  0.0  0.0  0.0  0.0  0.0  0.0  0.0  0.0  0.0  0.0  0.0  0.0  0.0  0.0  1.0  0.0  0.0  0.0 \n",
      " 0.0  0.0  0.0  0.0  0.0  0.0  0.0  0.0  0.0  0.0  0.0  0.0  0.0  0.0  0.0  0.0  0.0  0.0  0.0  0.0  0.0  0.0  0.0  0.0  0.0  0.0  0.0  0.0  0.0  0.0  0.0  0.0  0.0  0.0  0.0  0.0  0.0  0.0  0.0  0.0  0.0  0.0  0.0  0.0  0.0  0.0  0.0  1.0 \n"
     ]
    }
   ],
   "source": [
    "pmat2d(M.coord_obj.Prims.wilsonB(M.xyz),format='f')"
   ]
  },
  {
   "cell_type": "code",
   "execution_count": 9,
   "metadata": {},
   "outputs": [
    {
     "name": "stdout",
     "output_type": "stream",
     "text": [
      "copy molecule\n",
      " creating copy, new node id = 1\n",
      " old node id =  0\n",
      "  cp scratch/mp_0000_000 scratch/mp_0000_001\n",
      " initializing LOT from file\n",
      " making primitives from options!\n",
      " getting cartesian coordinates from geom\n",
      " getting coord_object from options\n",
      "\n",
      "\n",
      "###############################\n",
      "Note that the copy from options is recommended since it properly creates new coord_obj and PES object\n"
     ]
    }
   ],
   "source": [
    "\n",
    "# copying molecule automatically copies all Data\n",
    "print(\"copy molecule\")\n",
    "newMolecule = Molecule.copy_from_options(M)\n",
    "print(\"\\n\")\n",
    "print(\"###############################\")\n",
    "print(\"Note that the copy from options is recommended since it properly creates new coord_obj and PES object\")"
   ]
  },
  {
   "cell_type": "code",
   "execution_count": 10,
   "metadata": {},
   "outputs": [
    {
     "name": "stdout",
     "output_type": "stream",
     "text": [
      " molecule object\n",
      "Option:\n",
      "  Key: fnm\n",
      "  Value: examples/tests/fluoroethene.xyz\n",
      "  Required: False\n",
      "  Allowed Types: [<class 'str'>]\n",
      "  Allowed Values: None\n",
      "  Doc: File name to create the Molecule object from. Only used if geom is none.\n",
      "\n",
      "Option:\n",
      "  Key: ftype\n",
      "  Value: xyz\n",
      "  Required: False\n",
      "  Allowed Types: [<class 'str'>]\n",
      "  Allowed Values: None\n",
      "  Doc: filetype (optional) will attempt to read filetype if not given\n",
      "\n",
      "Option:\n",
      "  Key: coordinate_type\n",
      "  Value: DLC\n",
      "  Required: False\n",
      "  Allowed Types: None\n",
      "  Allowed Values: ['Cartesian', 'DLC', 'HDLC', 'TRIC']\n",
      "  Doc: The type of coordinate system to build\n",
      "\n",
      "Option:\n",
      "  Key: coord_obj\n",
      "  Value: Internal coordinate system (atoms numbered from 1):\n",
      "Distance 1-2\n",
      "Distance 1-3\n",
      "Distance 1-4\n",
      "Distance 2-5\n",
      "Distance 2-6\n",
      "Angle 2-1-4\n",
      "Angle 3-1-4\n",
      "Angle 1-2-6\n",
      "Angle 5-2-6\n",
      "Out-of-Plane 1-2-3-4\n",
      "Out-of-Plane 2-1-5-6\n",
      "Dihedral 3-1-2-5\n",
      "Dihedral 3-1-2-6\n",
      "Dihedral 4-1-2-5\n",
      "Dihedral 4-1-2-6\n",
      "<class 'slots.Distance'> : 5\n",
      "<class 'slots.Angle'> : 4\n",
      "<class 'slots.OutOfPlane'> : 2\n",
      "<class 'slots.Dihedral'> : 4\n",
      "  Required: False\n",
      "  Allowed Types: [<class 'dlc_new.DelocalizedInternalCoordinates'>, <class 'cartesian.CartesianCoordinates'>]\n",
      "  Allowed Values: None\n",
      "  Doc: A coordinate object.\n",
      "\n",
      "Option:\n",
      "  Key: geom\n",
      "  Value: [('C', -4.5106396456, 2.1651266319, -0.0363690665), ('C', -3.1798916354, 2.1668043075, -0.0227281881), ('F', -5.2033616144, 2.9443093454, 0.8349535831), ('H', -5.05135079, 1.5424610567, -0.742329569), ('H', -2.640171635, 2.7896675342, 0.6834461377), ('H', -2.6220495963, 1.54592776, -0.7169728972)]\n",
      "  Required: False\n",
      "  Allowed Types: [<class 'list'>]\n",
      "  Allowed Values: None\n",
      "  Doc: geometry including atomic symbols\n",
      "\n",
      "Option:\n",
      "  Key: xyz\n",
      "  Value: [[-4.5106  2.1651 -0.0364]\n",
      " [-3.1799  2.1668 -0.0227]\n",
      " [-5.2034  2.9443  0.835 ]\n",
      " [-5.0514  1.5425 -0.7423]\n",
      " [-2.6402  2.7897  0.6834]\n",
      " [-2.622   1.5459 -0.717 ]]\n",
      "  Required: False\n",
      "  Allowed Types: [<class 'numpy.ndarray'>]\n",
      "  Allowed Values: None\n",
      "  Doc: The Cartesian coordinates in Angstrom\n",
      "\n",
      "Option:\n",
      "  Key: PES\n",
      "  Value: <avg_pes.Avg_PES object at 0x000002C782C358D0>\n",
      "  Required: True\n",
      "  Allowed Types: [<class 'pes.PES'>, <class 'avg_pes.Avg_PES'>, <class 'penalty_pes.Penalty_PES'>]\n",
      "  Allowed Values: None\n",
      "  Doc: potential energy surface object to evaulate energies, gradients, etc. Pes is defined by charge, state, multiplicity,etc. \n",
      "\n",
      "Option:\n",
      "  Key: Primitive_Hessian\n",
      "  Value: [[0.35  0.    0.    0.    0.    0.    0.    0.    0.    0.    0.    0.\n",
      "  0.    0.    0.   ]\n",
      " [0.    0.35  0.    0.    0.    0.    0.    0.    0.    0.    0.    0.\n",
      "  0.    0.    0.   ]\n",
      " [0.    0.    0.35  0.    0.    0.    0.    0.    0.    0.    0.    0.\n",
      "  0.    0.    0.   ]\n",
      " [0.    0.    0.    0.35  0.    0.    0.    0.    0.    0.    0.    0.\n",
      "  0.    0.    0.   ]\n",
      " [0.    0.    0.    0.    0.35  0.    0.    0.    0.    0.    0.    0.\n",
      "  0.    0.    0.   ]\n",
      " [0.    0.    0.    0.    0.    0.16  0.    0.    0.    0.    0.    0.\n",
      "  0.    0.    0.   ]\n",
      " [0.    0.    0.    0.    0.    0.    0.16  0.    0.    0.    0.    0.\n",
      "  0.    0.    0.   ]\n",
      " [0.    0.    0.    0.    0.    0.    0.    0.16  0.    0.    0.    0.\n",
      "  0.    0.    0.   ]\n",
      " [0.    0.    0.    0.    0.    0.    0.    0.    0.16  0.    0.    0.\n",
      "  0.    0.    0.   ]\n",
      " [0.    0.    0.    0.    0.    0.    0.    0.    0.    0.045 0.    0.\n",
      "  0.    0.    0.   ]\n",
      " [0.    0.    0.    0.    0.    0.    0.    0.    0.    0.    0.045 0.\n",
      "  0.    0.    0.   ]\n",
      " [0.    0.    0.    0.    0.    0.    0.    0.    0.    0.    0.    0.023\n",
      "  0.    0.    0.   ]\n",
      " [0.    0.    0.    0.    0.    0.    0.    0.    0.    0.    0.    0.\n",
      "  0.023 0.    0.   ]\n",
      " [0.    0.    0.    0.    0.    0.    0.    0.    0.    0.    0.    0.\n",
      "  0.    0.023 0.   ]\n",
      " [0.    0.    0.    0.    0.    0.    0.    0.    0.    0.    0.    0.\n",
      "  0.    0.    0.023]]\n",
      "  Required: False\n",
      "  Allowed Types: None\n",
      "  Allowed Values: None\n",
      "  Doc: Primitive hessian save file for doing optimization.\n",
      "\n",
      "Option:\n",
      "  Key: Hessian\n",
      "  Value: [[ 0.1818  0.0428 -0.0047  0.0003  0.0002  0.0373 -0.0065 -0.      0.0186\n",
      "  -0.006   0.      0.    ]\n",
      " [ 0.0428  0.3181  0.0061 -0.0033 -0.0283 -0.0125 -0.0054 -0.      0.0462\n",
      "  -0.0063 -0.      0.    ]\n",
      " [-0.0047  0.0061  0.2614  0.0053  0.002  -0.0004  0.0835  0.      0.0121\n",
      "   0.042   0.     -0.    ]\n",
      " [ 0.0003 -0.0033  0.0053  0.3332 -0.0032  0.0014 -0.0286 -0.      0.01\n",
      "   0.044  -0.     -0.    ]\n",
      " [ 0.0002 -0.0283  0.002  -0.0032  0.3118 -0.0043 -0.0039 -0.      0.0695\n",
      "  -0.0107 -0.     -0.    ]\n",
      " [ 0.0373 -0.0125 -0.0004  0.0014 -0.0043  0.3411  0.0051 -0.      0.0034\n",
      "  -0.0042 -0.     -0.    ]\n",
      " [-0.0065 -0.0054  0.0835 -0.0286 -0.0039  0.0051  0.2364  0.      0.0008\n",
      "   0.0278  0.      0.    ]\n",
      " [-0.     -0.      0.     -0.     -0.     -0.      0.      0.0232 -0.\n",
      "  -0.      0.0009  0.0002]\n",
      " [ 0.0186  0.0462  0.0121  0.01    0.0695  0.0034  0.0008 -0.      0.217\n",
      "  -0.0018 -0.     -0.    ]\n",
      " [-0.006  -0.0063  0.042   0.044  -0.0107 -0.0042  0.0278 -0.     -0.0018\n",
      "   0.1891  0.      0.    ]\n",
      " [ 0.     -0.      0.     -0.     -0.     -0.      0.      0.0009 -0.\n",
      "   0.      0.0278 -0.0002]\n",
      " [ 0.      0.     -0.     -0.     -0.     -0.      0.      0.0002 -0.\n",
      "   0.     -0.0002  0.0281]]\n",
      "  Required: False\n",
      "  Allowed Types: None\n",
      "  Allowed Values: None\n",
      "  Doc: Hessian save file in the basis of coordinate_type.\n",
      "\n",
      "Option:\n",
      "  Key: comment\n",
      "  Value: \n",
      "  Required: False\n",
      "  Allowed Types: None\n",
      "  Allowed Values: None\n",
      "  Doc: A string that is saved on the molecule, used for descriptive purposes\n",
      "\n",
      "\n"
     ]
    }
   ],
   "source": [
    "print(newMolecule)"
   ]
  },
  {
   "cell_type": "code",
   "execution_count": 28,
   "metadata": {},
   "outputs": [
    {
     "name": "stdout",
     "output_type": "stream",
     "text": [
      "copy molecule with new geom\n",
      " creating copy, new node id = 1\n",
      " old node id =  0\n",
      "  cp scratch/mp_0000_000 scratch/mp_0000_001\n",
      " initializing LOT from file\n",
      " making primitives from options!\n",
      " getting cartesian coordinates from geom\n",
      " getting coord_object from options\n",
      "[[-3.5196  3.1864  0.9875]\n",
      " [-2.1607  3.1785  0.9906]\n",
      " [-4.3255  3.927   1.8144]\n",
      " [-4.0128  2.5534  0.2703]\n",
      " [-1.5303  3.7705  1.6628]\n",
      " [-1.6585  2.5386  0.2744]]\n"
     ]
    }
   ],
   "source": [
    "print(\"copy molecule with new geom\")\n",
    "newxyz2 = np.ones(M.xyz.shape)\n",
    "newxyz2 += M.xyz\n",
    "newMolecule2 = Molecule.copy_from_options(M,xyz=newxyz2)\n",
    "print(newMolecule2.xyz)\n"
   ]
  },
  {
   "cell_type": "code",
   "execution_count": 36,
   "metadata": {},
   "outputs": [],
   "source": [
    "from eigenvector_follow import eigenvector_follow\n",
    "ef = eigenvector_follow.from_options() #Linesearch=NoLineSearch)"
   ]
  },
  {
   "cell_type": "code",
   "execution_count": 39,
   "metadata": {},
   "outputs": [
    {
     "name": "stdout",
     "output_type": "stream",
     "text": [
      "turning energy off for demonstration purpose\n",
      "self.PES.get_energy(self.xyz)\n",
      "turning energy off for demonstration purpose\n",
      "self.PES.get_energy(self.xyz)\n",
      "initial E 0.0000\n",
      "turning energy off for demonstration purpose\n",
      "self.PES.get_energy(self.xyz)\n",
      "turning energy off for demonstration purpose\n",
      "self.PES.get_energy(self.xyz)\n",
      "turning gradient off for demonstration purpose\n",
      "#gradx = self.PES.get_gradient(self.xyz) \n",
      "#return self.coord_obj.calcGrad(self.xyz,gradx)  #CartesianCoordinate just returns gradx\n"
     ]
    },
    {
     "ename": "AttributeError",
     "evalue": "'float' object has no attribute 'copy'",
     "output_type": "error",
     "traceback": [
      "\u001b[0;31m---------------------------------------------------------------------------\u001b[0m",
      "\u001b[0;31mAttributeError\u001b[0m                            Traceback (most recent call last)",
      "\u001b[0;32m<ipython-input-39-04e1cdf8a8a6>\u001b[0m in \u001b[0;36m<module>\u001b[0;34m\u001b[0m\n\u001b[1;32m      2\u001b[0m     \u001b[0mmolecule\u001b[0m\u001b[0;34m=\u001b[0m\u001b[0mM\u001b[0m\u001b[0;34m,\u001b[0m\u001b[0;34m\u001b[0m\u001b[0;34m\u001b[0m\u001b[0m\n\u001b[1;32m      3\u001b[0m     \u001b[0mrefE\u001b[0m\u001b[0;34m=\u001b[0m\u001b[0mM\u001b[0m\u001b[0;34m.\u001b[0m\u001b[0menergy\u001b[0m\u001b[0;34m,\u001b[0m\u001b[0;34m\u001b[0m\u001b[0;34m\u001b[0m\u001b[0m\n\u001b[0;32m----> 4\u001b[0;31m     \u001b[0mopt_steps\u001b[0m\u001b[0;34m=\u001b[0m\u001b[0;36m5\u001b[0m\u001b[0;34m\u001b[0m\u001b[0;34m\u001b[0m\u001b[0m\n\u001b[0m\u001b[1;32m      5\u001b[0m )\n",
      "\u001b[0;32m~/Desktop/pyGSM/pyGSM/eigenvector_follow.py\u001b[0m in \u001b[0;36moptimize\u001b[0;34m(self, molecule, refE, opt_steps, ictan)\u001b[0m\n\u001b[1;32m     48\u001b[0m         \u001b[0;31m# Evaluate the function value and its gradient.\u001b[0m\u001b[0;34m\u001b[0m\u001b[0;34m\u001b[0m\u001b[0;34m\u001b[0m\u001b[0m\n\u001b[1;32m     49\u001b[0m         \u001b[0mfx\u001b[0m \u001b[0;34m=\u001b[0m \u001b[0mmolecule\u001b[0m\u001b[0;34m.\u001b[0m\u001b[0menergy\u001b[0m\u001b[0;34m\u001b[0m\u001b[0;34m\u001b[0m\u001b[0m\n\u001b[0;32m---> 50\u001b[0;31m         \u001b[0mg\u001b[0m \u001b[0;34m=\u001b[0m \u001b[0mmolecule\u001b[0m\u001b[0;34m.\u001b[0m\u001b[0mgradient\u001b[0m\u001b[0;34m.\u001b[0m\u001b[0mcopy\u001b[0m\u001b[0;34m(\u001b[0m\u001b[0;34m)\u001b[0m\u001b[0;34m\u001b[0m\u001b[0;34m\u001b[0m\u001b[0m\n\u001b[0m\u001b[1;32m     51\u001b[0m \u001b[0;34m\u001b[0m\u001b[0m\n\u001b[1;32m     52\u001b[0m         \u001b[0mupdate_hess\u001b[0m\u001b[0;34m=\u001b[0m\u001b[0;32mFalse\u001b[0m\u001b[0;34m\u001b[0m\u001b[0;34m\u001b[0m\u001b[0m\n",
      "\u001b[0;31mAttributeError\u001b[0m: 'float' object has no attribute 'copy'"
     ]
    }
   ],
   "source": [
    "ef.optimize(\n",
    "    molecule=M,\n",
    "    refE=M.energy,\n",
    "    opt_steps=5\n",
    ")"
   ]
  },
  {
   "cell_type": "code",
   "execution_count": null,
   "metadata": {},
   "outputs": [],
   "source": []
  }
 ],
 "metadata": {
  "kernelspec": {
   "display_name": "Python 2",
   "language": "python",
   "name": "python2"
  },
  "language_info": {
   "codemirror_mode": {
    "name": "ipython",
    "version": 2
   },
   "file_extension": ".py",
   "mimetype": "text/x-python",
   "name": "python",
   "nbconvert_exporter": "python",
   "pygments_lexer": "ipython2",
   "version": "2.7.15"
  }
 },
 "nbformat": 4,
 "nbformat_minor": 2
}
