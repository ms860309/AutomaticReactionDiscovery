{
 "cells": [
  {
   "cell_type": "code",
   "execution_count": 1,
   "metadata": {
    "collapsed": false
   },
   "outputs": [],
   "source": [
    "import sys\n",
    "sys.path.insert(0,'/home/caldaz/module/pyGSM')\n",
    "from molecule import Molecule\n",
    "from pes import PES\n",
    "from avg_pes import Avg_PES\n",
    "import numpy as np\n",
    "from nifty import pvec1d,pmat2d\n",
    "import matplotlib\n",
    "import matplotlib.pyplot as plt\n",
    "from pytc import *\n",
    "import manage_xyz\n",
    "from rhf_lot import *\n",
    "from psiw import *\n",
    "from nifty import getAllCoords,getAtomicSymbols,click,printcool\n",
    "import pybel as pb\n",
    "%matplotlib inline"
   ]
  },
  {
   "cell_type": "code",
   "execution_count": 2,
   "metadata": {
    "collapsed": false
   },
   "outputs": [
    {
     "name": "stdout",
     "output_type": "stream",
     "text": [
      "#========================================================#\n",
      "#| \u001b[92m                  Build resources                   \u001b[0m |#\n",
      "#========================================================#\n",
      "#==============================================================#\n",
      "#| \u001b[92m                      ResourceList:                       \u001b[0m |#\n",
      "#| \u001b[92m                      CPU threads:  16                    \u001b[0m |#\n",
      "#| \u001b[92m                      GPU contexts:  1                    \u001b[0m |#\n",
      "#| \u001b[92m                    GPU context details:                  \u001b[0m |#\n",
      "#| \u001b[92m   N  ID                 Name  CC  CPU Buffer  GPU Buffer \u001b[0m |#\n",
      "#| \u001b[92m   0   0    GeForce GTX TITAN 3.5        1024        1024 \u001b[0m |#\n",
      "#| \u001b[92m                                                          \u001b[0m |#\n",
      "#==============================================================#\n"
     ]
    },
    {
     "data": {
      "text/plain": [
       "'----------------------------------------------------------------\\n'"
      ]
     },
     "execution_count": 2,
     "metadata": {},
     "output_type": "execute_result"
    }
   ],
   "source": [
    "printcool(\"Build resources\")\n",
    "resources = ls.ResourceList.build()\n",
    "printcool('{}'.format(resources))"
   ]
  },
  {
   "cell_type": "code",
   "execution_count": 3,
   "metadata": {
    "collapsed": false
   },
   "outputs": [
    {
     "name": "stdout",
     "output_type": "stream",
     "text": [
      "#========================================================#\n",
      "#| \u001b[92m         build the Lightspeed (pyTC) objecs         \u001b[0m |#\n",
      "#========================================================#\n",
      "Geometry:\n",
      "  QMMM = True\n",
      "  -D3  = False\n",
      "  ECP  = False\n",
      "\n",
      "QM/MM Details:\n",
      "  Total atoms   = 2774\n",
      "  QM atoms      = 56\n",
      "  Link H atoms  = 0\n",
      "\n",
      "Molecule: QM/MM Full Molecule\n",
      "  Natom        =        2774\n",
      "  Charge       =       0.000\n",
      "  Multiplicity =       1.000\n",
      "\n",
      "Molecule: QM/MM QM Molecule\n",
      "  Natom        =          56\n",
      "  Charge       =       0.000\n",
      "  Multiplicity =       1.000\n",
      "\n",
      "Basis: 3-21g\n",
      "  nao     =   308\n",
      "  ncart   =   308\n",
      "  nprim   =   336\n",
      "  nshell  =   196\n",
      "  natom   =    56\n",
      "  pure?   =    No\n",
      "  max L   =     1\n",
      "\n",
      "Basis: cc-pvdz-minao\n",
      "  nao     =   168\n",
      "  ncart   =   168\n",
      "  nprim   =   728\n",
      "  nshell  =   112\n",
      "  natom   =    56\n",
      "  pure?   =   Yes\n",
      "  max L   =     1\n",
      "\n"
     ]
    }
   ],
   "source": [
    "printcool(\"build the Lightspeed (pyTC) objecs\")\n",
    "qmmm = QMMM.from_prmtop(\n",
    "    prmtopfile='../data/system.prmtop',\n",
    "    inpcrdfile='../data/system.inpcrd',\n",
    "    qmindsfile='../data/system.qm',\n",
    "    charge=0.,\n",
    "    )\n",
    "geom = geometry.Geometry.build(\n",
    "    resources=resources,\n",
    "    qmmm=qmmm,\n",
    "    basisname='3-21g',\n",
    "    )\n",
    "print(geom)\n",
    "ref = RHF(RHF.default_options().set_values({\n",
    "    'geometry' : geom, \n",
    "    'dft_functional' : 'B3LYP',\n",
    "    'dft_grid_name' : 'SG0',\n",
    "    }))\n",
    "psiw = RHF_LOT.from_options(rhf=ref)\n"
   ]
  },
  {
   "cell_type": "code",
   "execution_count": 6,
   "metadata": {
    "collapsed": false
   },
   "outputs": [
    {
     "name": "stdout",
     "output_type": "stream",
     "text": [
      "#========================================================#\n",
      "#| \u001b[92m    Build the pyGSM level of theory (LOT) object    \u001b[0m |#\n",
      "#========================================================#\n",
      " initializing LOT from geom\n",
      "#========================================================#\n",
      "#| \u001b[92m              Building the PES objects              \u001b[0m |#\n",
      "#========================================================#\n"
     ]
    }
   ],
   "source": [
    "####### =>  Build the pyGSM objects <= #########\n",
    "# => level of theory <= #\n",
    "printcool(\"Build the pyGSM level of theory (LOT) object\")\n",
    "mol=next(pb.readfile('pdb','../data/system.pdb'))\n",
    "coords = getAllCoords(mol)\n",
    "atoms = getAtomicSymbols(mol)\n",
    "geom= manage_xyz.combine_atom_xyz(atoms,coords)\n",
    "states=[(1,0)]\n",
    "lot = PyTC.from_options(states=states,job_data={'psiw':psiw},geom=geom)\n",
    "\n",
    "# => Create PES objects <= #\n",
    "printcool(\"Building the PES objects\")\n",
    "pes = PES.from_options(lot=lot,ad_idx=0,multiplicity=1)\n"
   ]
  },
  {
   "cell_type": "code",
   "execution_count": 8,
   "metadata": {
    "collapsed": false
   },
   "outputs": [
    {
     "name": "stdout",
     "output_type": "stream",
     "text": [
      "#================================================================#\n",
      "#| \u001b[92m              Build the pyGSM Molecule object               \u001b[0m |#\n",
      "#| \u001b[92m  with Translation and Rotation Internal Coordinates (TRIC) \u001b[0m |#\n",
      "#================================================================#\n",
      " reading cartesian coordinates from file\n",
      " initializing LOT from geom\n",
      " making primitives from options!\n",
      " Timings: Build G: 11.988 Eig: 1.454\n",
      " making primitive Hessian\n",
      " forming Hessian in basis\n"
     ]
    }
   ],
   "source": [
    "# => Molecule <= #\n",
    "printcool(\"Build the pyGSM Molecule object \\n with Translation and Rotation Internal Coordinates (TRIC)\")\n",
    "TRIC_molecule = Molecule.from_options(fnm='../data/system.pdb',PES=pes,coordinate_type=\"TRIC\")\n"
   ]
  },
  {
   "cell_type": "code",
   "execution_count": 9,
   "metadata": {
    "collapsed": true
   },
   "outputs": [],
   "source": [
    "import timeit  \n",
    "n=5\n",
    "\n",
    "def update_coords(M):\n",
    "    M.update_coordinate_basis()\n"
   ]
  },
  {
   "cell_type": "code",
   "execution_count": 10,
   "metadata": {
    "collapsed": false
   },
   "outputs": [
    {
     "name": "stdout",
     "output_type": "stream",
     "text": [
      "#========================================================#\n",
      "#| \u001b[92m           Forming coordinate experiment!           \u001b[0m |#\n",
      "#| \u001b[92m         running update coords for nsteps=5         \u001b[0m |#\n",
      "#========================================================#\n",
      " Timings: Build G: 1.411 Eig: 1.838\n",
      " Timings: Build G: 8.472 Eig: 2.000\n",
      " Timings: Build G: 9.884 Eig: 1.616\n",
      " Timings: Build G: 8.714 Eig: 1.735\n",
      " Timings: Build G: 8.196 Eig: 1.882\n",
      "total time =  45.9957242012\n",
      "avg time =  9.19914484024\n"
     ]
    }
   ],
   "source": [
    "printcool(\"Forming coordinate experiment!\\n running update coords for nsteps={}\".format(n))\n",
    "total_time= timeit.timeit(stmt='update_coords(TRIC_molecule)',setup=\"from __main__ import update_coords, TRIC_molecule\",number=n)\n",
    "avg_time = total_time/n\n",
    "print \"total time = \",total_time\n",
    "print \"avg time = \",avg_time"
   ]
  },
  {
   "cell_type": "code",
   "execution_count": 17,
   "metadata": {
    "collapsed": false
   },
   "outputs": [
    {
     "name": "stdout",
     "output_type": "stream",
     "text": [
      "[364, 9, 9, 9, 9, 9, 9, 9, 9, 9, 9, 9, 9, 9, 9, 9, 9, 9, 9, 9, 9, 9, 9, 9, 9, 9, 9, 9, 9, 9, 9, 9, 9, 9, 9, 9, 9, 9, 9, 9, 9, 9, 9, 9, 9, 9, 9, 9, 9, 9, 9, 9, 9, 9, 9, 9, 9, 9, 9, 9, 9, 9, 9, 9, 9, 9, 9, 9, 9, 9, 9, 9, 9, 9, 9, 9, 9, 9, 9, 9, 9, 9, 9, 9, 9, 9, 9, 9, 9, 9, 9, 9, 9, 9, 9, 9, 9, 9, 9, 9, 9, 9, 9, 9, 9, 9, 9, 9, 9, 9, 9, 9, 9, 9, 9, 9, 9, 9, 9, 9, 9, 9, 9, 9, 9, 9, 9, 9, 9, 9, 9, 9, 9, 9, 9, 9, 9, 9, 9, 9, 9, 9, 9, 9, 9, 9, 9, 9, 9, 9, 9, 9, 9, 9, 9, 9, 9, 9, 9, 9, 9, 9, 9, 9, 9, 9, 9, 9, 9, 9, 9, 9, 9, 9, 9, 9, 9, 9, 9, 9, 9, 9, 9, 9, 9, 9, 9, 9, 9, 9, 9, 9, 9, 9, 9, 9, 9, 9, 9, 9, 9, 9, 9, 9, 9, 9, 9, 9, 9, 9, 9, 9, 9, 9, 9, 9, 9, 9, 9, 9, 9, 9, 9, 9, 9, 9, 9, 9, 9, 9, 9, 9, 9, 9, 9, 9, 9, 9, 9, 9, 9, 9, 9, 9, 9, 9, 9, 9, 9, 9, 9, 9, 9, 9, 9, 9, 9, 9, 9, 9, 9, 9, 9, 9, 9, 9, 9, 9, 9, 9, 9, 9, 9, 9, 9, 9, 9, 9, 9, 9, 9, 9, 9, 9, 9, 9, 9, 9, 9, 9, 9, 9, 9, 9, 9, 9, 9, 9, 9, 9, 9, 9, 9, 9, 9, 9, 9, 9, 9, 9, 9, 9, 9, 9, 9, 9, 9, 9, 9, 9, 9, 9, 9, 9, 9, 9, 9, 9, 9, 9, 9, 9, 9, 9, 9, 9, 9, 9, 9, 9, 9, 9, 9, 9, 9, 9, 9, 9, 9, 9, 9, 9, 9, 9, 9, 9, 9, 9, 9, 9, 9, 9, 9, 9, 9, 9, 9, 9, 9, 9, 9, 9, 9, 9, 9, 9, 9, 9, 9, 9, 9, 9, 9, 9, 9, 9, 9, 9, 9, 9, 9, 9, 9, 9, 9, 9, 9, 9, 9, 9, 9, 9, 9, 9, 9, 9, 9, 9, 9, 9, 9, 9, 9, 9, 9, 9, 9, 9, 9, 9, 9, 9, 9, 9, 9, 9, 9, 9, 9, 9, 9, 9, 9, 9, 9, 9, 9, 9, 9, 9, 9, 9, 9, 9, 9, 9, 9, 9, 9, 9, 9, 9, 9, 9, 9, 9, 9, 9, 9, 9, 9, 9, 9, 9, 9, 9, 9, 9, 9, 9, 9, 9, 9, 9, 9, 9, 9, 9, 9, 9, 9, 9, 9, 9, 9, 9, 9, 9, 9, 9, 9, 9, 9, 9, 9, 9, 9, 9, 9, 9, 9, 9, 9, 9, 9, 9, 9, 9, 9, 9, 9, 9, 9, 9, 9, 9, 9, 9, 9, 9, 9, 9, 9, 9, 9, 9, 9, 9, 9, 9, 9, 9, 9, 9, 9, 9, 9, 9, 9, 9, 9, 9, 9, 9, 9, 9, 9, 9, 9, 9, 9, 9, 9, 9, 9, 9, 9, 9, 9, 9, 9, 9, 9, 9, 9, 9, 9, 9, 9, 9, 9, 9, 9, 9, 9, 9, 9, 9, 9, 9, 9, 9, 9, 9, 9, 9, 9, 9, 9, 9, 9, 9, 9, 9, 9, 9, 9, 9, 9, 9, 9, 9, 9, 9, 9, 9, 9, 9, 9, 9, 9, 9, 9, 9, 9, 9, 9, 9, 9, 9, 9, 9, 9, 9, 9, 9, 9, 9, 9, 9, 9, 9, 9, 9, 9, 9, 9, 9, 9, 9, 9, 9, 9, 9, 9, 9, 9, 9, 9, 9, 9, 9, 9, 9, 9, 9, 9, 9, 9, 9, 9, 9, 9, 9, 9, 9, 9, 9, 9, 9, 9, 9, 9, 9, 9, 9, 9, 9, 9, 9, 9, 9, 9, 9, 9, 9, 9, 9, 9, 9, 9, 9, 9, 9, 9, 9, 9, 9, 9, 9, 9, 9, 9, 9, 9, 9, 9, 9, 9, 9, 9, 9, 9, 9, 9, 9, 9, 9, 9, 9, 9, 9, 9, 9, 9, 9, 9, 9, 9, 9, 9, 9, 9, 9, 9, 9, 9, 9, 9, 9, 9, 9, 9, 9, 9, 9, 9, 9, 9, 9, 9, 9, 9, 9, 9, 9, 9, 9, 9, 9, 9, 9, 9, 9, 9, 9, 9, 9, 9, 9, 9, 9, 9, 9, 9, 9, 9, 9, 9, 9, 9, 9, 9, 9, 9, 9, 9, 9, 9, 9, 9, 9, 9, 9, 9, 9, 9, 9, 9, 9, 9, 9, 9, 9, 9, 9, 9, 9, 9, 9, 9, 9, 9, 9, 9, 9, 9, 9, 9, 9, 9, 9, 9, 9, 9, 9, 9, 9, 9, 9, 9, 9, 9, 9, 9, 9, 9, 9, 9, 9, 9, 9, 9, 9, 9, 9, 9, 9, 9, 9, 9, 9, 9, 9, 9, 9, 9, 9, 9, 9, 9, 9, 9, 9, 9, 9, 9, 9, 9, 9, 9, 9, 9, 9, 9, 9, 9, 9, 9, 9, 9, 9, 9, 9, 9, 9, 9, 9, 9, 9, 9, 9, 9, 9, 9, 9, 9, 9, 9, 9, 9, 9, 9, 9, 9, 9, 9]\n"
     ]
    }
   ],
   "source": [
    "print(TRIC_molecule.coord_obj.Prims.nprims_frag)"
   ]
  },
  {
   "cell_type": "code",
   "execution_count": 20,
   "metadata": {
    "collapsed": false
   },
   "outputs": [
    {
     "name": "stdout",
     "output_type": "stream",
     "text": [
      "[56, 3, 3, 3, 3, 3, 3, 3, 3, 3, 3, 3, 3, 3, 3, 3, 3, 3, 3, 3, 3, 3, 3, 3, 3, 3, 3, 3, 3, 3, 3, 3, 3, 3, 3, 3, 3, 3, 3, 3, 3, 3, 3, 3, 3, 3, 3, 3, 3, 3, 3, 3, 3, 3, 3, 3, 3, 3, 3, 3, 3, 3, 3, 3, 3, 3, 3, 3, 3, 3, 3, 3, 3, 3, 3, 3, 3, 3, 3, 3, 3, 3, 3, 3, 3, 3, 3, 3, 3, 3, 3, 3, 3, 3, 3, 3, 3, 3, 3, 3, 3, 3, 3, 3, 3, 3, 3, 3, 3, 3, 3, 3, 3, 3, 3, 3, 3, 3, 3, 3, 3, 3, 3, 3, 3, 3, 3, 3, 3, 3, 3, 3, 3, 3, 3, 3, 3, 3, 3, 3, 3, 3, 3, 3, 3, 3, 3, 3, 3, 3, 3, 3, 3, 3, 3, 3, 3, 3, 3, 3, 3, 3, 3, 3, 3, 3, 3, 3, 3, 3, 3, 3, 3, 3, 3, 3, 3, 3, 3, 3, 3, 3, 3, 3, 3, 3, 3, 3, 3, 3, 3, 3, 3, 3, 3, 3, 3, 3, 3, 3, 3, 3, 3, 3, 3, 3, 3, 3, 3, 3, 3, 3, 3, 3, 3, 3, 3, 3, 3, 3, 3, 3, 3, 3, 3, 3, 3, 3, 3, 3, 3, 3, 3, 3, 3, 3, 3, 3, 3, 3, 3, 3, 3, 3, 3, 3, 3, 3, 3, 3, 3, 3, 3, 3, 3, 3, 3, 3, 3, 3, 3, 3, 3, 3, 3, 3, 3, 3, 3, 3, 3, 3, 3, 3, 3, 3, 3, 3, 3, 3, 3, 3, 3, 3, 3, 3, 3, 3, 3, 3, 3, 3, 3, 3, 3, 3, 3, 3, 3, 3, 3, 3, 3, 3, 3, 3, 3, 3, 3, 3, 3, 3, 3, 3, 3, 3, 3, 3, 3, 3, 3, 3, 3, 3, 3, 3, 3, 3, 3, 3, 3, 3, 3, 3, 3, 3, 3, 3, 3, 3, 3, 3, 3, 3, 3, 3, 3, 3, 3, 3, 3, 3, 3, 3, 3, 3, 3, 3, 3, 3, 3, 3, 3, 3, 3, 3, 3, 3, 3, 3, 3, 3, 3, 3, 3, 3, 3, 3, 3, 3, 3, 3, 3, 3, 3, 3, 3, 3, 3, 3, 3, 3, 3, 3, 3, 3, 3, 3, 3, 3, 3, 3, 3, 3, 3, 3, 3, 3, 3, 3, 3, 3, 3, 3, 3, 3, 3, 3, 3, 3, 3, 3, 3, 3, 3, 3, 3, 3, 3, 3, 3, 3, 3, 3, 3, 3, 3, 3, 3, 3, 3, 3, 3, 3, 3, 3, 3, 3, 3, 3, 3, 3, 3, 3, 3, 3, 3, 3, 3, 3, 3, 3, 3, 3, 3, 3, 3, 3, 3, 3, 3, 3, 3, 3, 3, 3, 3, 3, 3, 3, 3, 3, 3, 3, 3, 3, 3, 3, 3, 3, 3, 3, 3, 3, 3, 3, 3, 3, 3, 3, 3, 3, 3, 3, 3, 3, 3, 3, 3, 3, 3, 3, 3, 3, 3, 3, 3, 3, 3, 3, 3, 3, 3, 3, 3, 3, 3, 3, 3, 3, 3, 3, 3, 3, 3, 3, 3, 3, 3, 3, 3, 3, 3, 3, 3, 3, 3, 3, 3, 3, 3, 3, 3, 3, 3, 3, 3, 3, 3, 3, 3, 3, 3, 3, 3, 3, 3, 3, 3, 3, 3, 3, 3, 3, 3, 3, 3, 3, 3, 3, 3, 3, 3, 3, 3, 3, 3, 3, 3, 3, 3, 3, 3, 3, 3, 3, 3, 3, 3, 3, 3, 3, 3, 3, 3, 3, 3, 3, 3, 3, 3, 3, 3, 3, 3, 3, 3, 3, 3, 3, 3, 3, 3, 3, 3, 3, 3, 3, 3, 3, 3, 3, 3, 3, 3, 3, 3, 3, 3, 3, 3, 3, 3, 3, 3, 3, 3, 3, 3, 3, 3, 3, 3, 3, 3, 3, 3, 3, 3, 3, 3, 3, 3, 3, 3, 3, 3, 3, 3, 3, 3, 3, 3, 3, 3, 3, 3, 3, 3, 3, 3, 3, 3, 3, 3, 3, 3, 3, 3, 3, 3, 3, 3, 3, 3, 3, 3, 3, 3, 3, 3, 3, 3, 3, 3, 3, 3, 3, 3, 3, 3, 3, 3, 3, 3, 3, 3, 3, 3, 3, 3, 3, 3, 3, 3, 3, 3, 3, 3, 3, 3, 3, 3, 3, 3, 3, 3, 3, 3, 3, 3, 3, 3, 3, 3, 3, 3, 3, 3, 3, 3, 3, 3, 3, 3, 3, 3, 3, 3, 3, 3, 3, 3, 3, 3, 3, 3, 3, 3, 3, 3, 3, 3, 3, 3, 3, 3, 3, 3, 3, 3, 3, 3, 3, 3, 3, 3, 3, 3, 3, 3, 3, 3, 3, 3, 3, 3, 3, 3, 3, 3, 3, 3, 3, 3, 3, 3, 3, 3, 3, 3, 3, 3, 3, 3, 3, 3, 3, 3, 3, 3, 3, 3, 3, 3, 3, 3, 3, 3, 3, 3, 3, 3, 3, 3, 3, 3, 3, 3, 3, 3, 3, 3, 3, 3, 3, 3, 3, 3, 3, 3, 3, 3, 3, 3, 3, 3, 3, 3, 3, 3, 3, 3, 3, 3, 3, 3, 3, 3, 3, 3, 3, 3, 3, 3, 3, 3, 3, 3, 3, 3, 3, 3, 3, 3, 3, 3, 3, 3, 3, 3, 3, 3, 3, 3, 3, 3, 3, 3, 3, 3, 3, 3, 3, 3, 3, 3]\n"
     ]
    }
   ],
   "source": [
    "print(TRIC_molecule.coord_obj.Prims.natoms_frag)"
   ]
  },
  {
   "cell_type": "code",
   "execution_count": null,
   "metadata": {
    "collapsed": true
   },
   "outputs": [],
   "source": []
  }
 ],
 "metadata": {
  "kernelspec": {
   "display_name": "Python 2",
   "language": "python",
   "name": "python2"
  },
  "language_info": {
   "codemirror_mode": {
    "name": "ipython",
    "version": 2
   },
   "file_extension": ".py",
   "mimetype": "text/x-python",
   "name": "python",
   "nbconvert_exporter": "python",
   "pygments_lexer": "ipython2",
   "version": "2.7.13"
  }
 },
 "nbformat": 4,
 "nbformat_minor": 0
}
