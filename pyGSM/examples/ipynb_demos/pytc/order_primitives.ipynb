{
 "cells": [
  {
   "cell_type": "markdown",
   "metadata": {},
   "source": [
    "# Investigating Speeding Up G-Matrix\n",
    "\n"
   ]
  },
  {
   "cell_type": "code",
   "execution_count": 1,
   "metadata": {
    "collapsed": false
   },
   "outputs": [],
   "source": [
    "import sys\n",
    "sys.path.insert(0,'/home/caldaz/module/pyGSM')\n",
    "from molecule import Molecule\n",
    "from pes import PES\n",
    "from avg_pes import Avg_PES\n",
    "import numpy as np\n",
    "from nifty import pvec1d,pmat2d\n",
    "import matplotlib\n",
    "import matplotlib.pyplot as plt\n",
    "from pytc import *\n",
    "import manage_xyz\n",
    "from rhf_lot import *\n",
    "from psiw import *\n",
    "from nifty import getAllCoords,getAtomicSymbols,click,printcool\n",
    "import pybel as pb\n",
    "%matplotlib inline"
   ]
  },
  {
   "cell_type": "markdown",
   "metadata": {},
   "source": [
    "## 1. Building the pyTC objects"
   ]
  },
  {
   "cell_type": "code",
   "execution_count": 2,
   "metadata": {
    "collapsed": false
   },
   "outputs": [
    {
     "name": "stdout",
     "output_type": "stream",
     "text": [
      "#========================================================#\n",
      "#| \u001b[92m                  Build resources                   \u001b[0m |#\n",
      "#========================================================#\n",
      "#==============================================================#\n",
      "#| \u001b[92m                      ResourceList:                       \u001b[0m |#\n",
      "#| \u001b[92m                      CPU threads:   1                    \u001b[0m |#\n",
      "#| \u001b[92m                      GPU contexts:  1                    \u001b[0m |#\n",
      "#| \u001b[92m                    GPU context details:                  \u001b[0m |#\n",
      "#| \u001b[92m   N  ID                 Name  CC  CPU Buffer  GPU Buffer \u001b[0m |#\n",
      "#| \u001b[92m   0   0    GeForce GTX TITAN 3.5        1024        1024 \u001b[0m |#\n",
      "#| \u001b[92m                                                          \u001b[0m |#\n",
      "#==============================================================#\n"
     ]
    },
    {
     "data": {
      "text/plain": [
       "'----------------------------------------------------------------\\n'"
      ]
     },
     "execution_count": 2,
     "metadata": {},
     "output_type": "execute_result"
    }
   ],
   "source": [
    "printcool(\"Build resources\")\n",
    "resources = ls.ResourceList.build()\n",
    "printcool('{}'.format(resources))"
   ]
  },
  {
   "cell_type": "code",
   "execution_count": 3,
   "metadata": {
    "collapsed": false
   },
   "outputs": [
    {
     "name": "stdout",
     "output_type": "stream",
     "text": [
      "#========================================================#\n",
      "#| \u001b[92m         build the Lightspeed (pyTC) objecs         \u001b[0m |#\n",
      "#========================================================#\n"
     ]
    }
   ],
   "source": [
    "printcool(\"build the Lightspeed (pyTC) objecs\")\n",
    "\n",
    "filepath='data/butadiene_ethene.xyz'\n",
    "molecule = ls.Molecule.from_xyz_file(filepath)    \n",
    "\n",
    "geom =geometry.Geometry.build(\n",
    "    resources=resources,\n",
    "    molecule=molecule,\n",
    "    basisname='6-31g',\n",
    "    )\n",
    "rhf = RHF.from_options(geometry=geom,dft_functional='B3LYP',print_level=1)\n",
    "psiw = RHF_LOT.from_options(rhf=rhf)\n"
   ]
  },
  {
   "cell_type": "markdown",
   "metadata": {},
   "source": [
    "## Section 2: Building the pyGSM Objects"
   ]
  },
  {
   "cell_type": "code",
   "execution_count": 4,
   "metadata": {
    "collapsed": false,
    "scrolled": true
   },
   "outputs": [
    {
     "name": "stdout",
     "output_type": "stream",
     "text": [
      "#========================================================#\n",
      "#| \u001b[92m    Build the pyGSM Level of Theory object (LOT)    \u001b[0m |#\n",
      "#========================================================#\n",
      " initializing LOT from file\n"
     ]
    }
   ],
   "source": [
    "printcool(\"Build the pyGSM Level of Theory object (LOT)\")\n",
    "lot=PyTC.from_options(states=[(1,0),(1,1)],psiw=psiw,do_coupling=True,fnm=filepath)"
   ]
  },
  {
   "cell_type": "code",
   "execution_count": 5,
   "metadata": {
    "collapsed": false
   },
   "outputs": [
    {
     "name": "stdout",
     "output_type": "stream",
     "text": [
      "#===========================================================#\n",
      "#| \u001b[92m Build the pyGSM Potential Energy Surface Object (PES) \u001b[0m |#\n",
      "#===========================================================#\n"
     ]
    }
   ],
   "source": [
    "printcool(\"Build the pyGSM Potential Energy Surface Object (PES)\")\n",
    "pes1 = PES.from_options(lot=lot,ad_idx=0,multiplicity=1)\n",
    "pes2 = PES.from_options(lot=lot,ad_idx=1,multiplicity=1)\n",
    "pes = Avg_PES(pes1,pes2,lot=lot)"
   ]
  },
  {
   "cell_type": "code",
   "execution_count": 6,
   "metadata": {
    "collapsed": false
   },
   "outputs": [
    {
     "name": "stdout",
     "output_type": "stream",
     "text": [
      "#================================================================#\n",
      "#| \u001b[92m              Build the pyGSM Molecule object               \u001b[0m |#\n",
      "#| \u001b[92m  with Translation and Rotation Internal Coordinates (TRIC) \u001b[0m |#\n",
      "#================================================================#\n",
      " reading cartesian coordinates from file\n",
      " making primitives from options!\n",
      "Build G: 0.014 Eig: 0.001\n",
      " making primitive Hessian\n",
      " forming Hessian in basis\n"
     ]
    }
   ],
   "source": [
    "printcool(\"Build the pyGSM Molecule object \\n with Translation and Rotation Internal Coordinates (TRIC)\")\n",
    "M = Molecule.from_options(fnm=filepath,PES=pes,coordinate_type=\"TRIC\")"
   ]
  },
  {
   "cell_type": "markdown",
   "metadata": {},
   "source": [
    "## Section 3: Block Diagonalizing TRIC "
   ]
  },
  {
   "cell_type": "code",
   "execution_count": 7,
   "metadata": {
    "collapsed": false
   },
   "outputs": [
    {
     "name": "stdout",
     "output_type": "stream",
     "text": [
      "primitive internal coordinates\n",
      "[Distance 1-9, Distance 1-2, Distance 1-8, Distance 2-3, Distance 2-7, Distance 3-4, Distance 3-16, Distance 4-14, Distance 4-15, Angle 2-1-9, Angle 8-1-9, Angle 1-2-7, Angle 3-2-7, Angle 2-3-16, Angle 4-3-16, Angle 3-4-15, Angle 14-4-15, Out-of-Plane 1-2-8-9, Out-of-Plane 2-1-3-7, Out-of-Plane 3-2-4-16, Out-of-Plane 4-3-14-15, Dihedral 9-1-2-3, Dihedral 9-1-2-7, Dihedral 8-1-2-3, Dihedral 8-1-2-7, Dihedral 1-2-3-4, Dihedral 1-2-3-16, Dihedral 7-2-3-4, Dihedral 7-2-3-16, Dihedral 2-3-4-14, Dihedral 2-3-4-15, Dihedral 16-3-4-14, Dihedral 16-3-4-15, Translation-X 1-4,7-9,14-16, Translation-Y 1-4,7-9,14-16, Translation-Z 1-4,7-9,14-16, Rotation-A 1-4,7-9,14-16, Rotation-B 1-4,7-9,14-16, Rotation-C 1-4,7-9,14-16, Distance 5-10, Distance 5-11, Distance 5-6, Distance 6-13, Distance 6-12, Angle 10-5-11, Angle 6-5-11, Angle 12-6-13, Angle 5-6-13, Out-of-Plane 5-6-10-11, Out-of-Plane 6-5-12-13, Dihedral 10-5-6-13, Dihedral 10-5-6-12, Dihedral 11-5-6-13, Dihedral 11-5-6-12, Translation-X 5-6,10-13, Translation-Y 5-6,10-13, Translation-Z 5-6,10-13, Rotation-A 5-6,10-13, Rotation-B 5-6,10-13, Rotation-C 5-6,10-13]\n"
     ]
    }
   ],
   "source": [
    "print(\"primitive internal coordinates\")\n",
    "print(M.primitive_internal_coordinates)"
   ]
  },
  {
   "cell_type": "code",
   "execution_count": 8,
   "metadata": {
    "collapsed": false
   },
   "outputs": [],
   "source": [
    "M.coord_obj.Prims.reorderPrimsByFrag()"
   ]
  },
  {
   "cell_type": "code",
   "execution_count": 9,
   "metadata": {
    "collapsed": false,
    "scrolled": true
   },
   "outputs": [
    {
     "name": "stdout",
     "output_type": "stream",
     "text": [
      "#========================================================#\n",
      "#| \u001b[92m            Wilson B-Matrix (dq_i/dx_j)             \u001b[0m |#\n",
      "#========================================================#\n"
     ]
    },
    {
     "data": {
      "image/png": "[encoded data removed]",
      "text/plain": [
       "<Figure size 600x400 with 1 Axes>"
      ]
     },
     "metadata": {},
     "output_type": "display_data"
    }
   ],
   "source": [
    "printcool(\"Wilson B-Matrix (dq_i/dx_j)\")\n",
    "#plt.figure(figsize = (100,100))\n",
    "Bmatp = M.coord_obj.Prims.wilsonB(M.xyz)\n",
    "plt.imshow(Bmatp, cmap=plt.cm.get_cmap('RdBu'))\n",
    "plt.show()"
   ]
  },
  {
   "cell_type": "code",
   "execution_count": 10,
   "metadata": {
    "collapsed": false
   },
   "outputs": [
    {
     "name": "stdout",
     "output_type": "stream",
     "text": [
      "#========================================================#\n",
      "#| \u001b[92m        Wilson B-Matrix in coordinate basis         \u001b[0m |#\n",
      "#========================================================#\n"
     ]
    },
    {
     "data": {
      "image/png": "[encoded data removed]",
      "text/plain": [
       "<Figure size 600x400 with 1 Axes>"
      ]
     },
     "metadata": {},
     "output_type": "display_data"
    }
   ],
   "source": [
    "printcool(\"Wilson B-Matrix in coordinate basis\")\n",
    "Bmat = M.coord_obj.wilsonB(M.xyz)\n",
    "plt.imshow(Bmat, cmap=plt.cm.get_cmap('RdBu'))\n",
    "plt.show()"
   ]
  },
  {
   "cell_type": "code",
   "execution_count": 11,
   "metadata": {
    "collapsed": false
   },
   "outputs": [
    {
     "name": "stdout",
     "output_type": "stream",
     "text": [
      "#========================================================#\n",
      "#| \u001b[92m         G-Matrix (BB^T in basis of prims)          \u001b[0m |#\n",
      "#========================================================#\n"
     ]
    },
    {
     "data": {
      "image/png": "[encoded data removed]",
      "text/plain": [
       "<Figure size 600x400 with 1 Axes>"
      ]
     },
     "metadata": {},
     "output_type": "display_data"
    }
   ],
   "source": [
    "printcool(\"G-Matrix (BB^T in basis of prims)\")\n",
    "#plt.figure(figsize = (100,100))\n",
    "G = M.coord_obj.Prims.GMatrix(M.xyz)\n",
    "plt.imshow(G, cmap=plt.cm.get_cmap('RdBu'))\n",
    "plt.show()"
   ]
  },
  {
   "cell_type": "code",
   "execution_count": 12,
   "metadata": {
    "collapsed": false
   },
   "outputs": [
    {
     "name": "stdout",
     "output_type": "stream",
     "text": [
      "#========================================================#\n",
      "#| \u001b[92m            G-Matrix in coordinate basis            \u001b[0m |#\n",
      "#========================================================#\n"
     ]
    },
    {
     "data": {
      "image/png": "[encoded data removed]",
      "text/plain": [
       "<Figure size 600x400 with 1 Axes>"
      ]
     },
     "metadata": {},
     "output_type": "display_data"
    }
   ],
   "source": [
    "printcool(\"G-Matrix in coordinate basis\")\n",
    "G = M.coord_obj.GMatrix(M.xyz)\n",
    "plt.imshow(G, cmap=plt.cm.get_cmap('RdBu'))\n",
    "plt.show()"
   ]
  },
  {
   "cell_type": "code",
   "execution_count": 13,
   "metadata": {
    "collapsed": false
   },
   "outputs": [
    {
     "name": "stdout",
     "output_type": "stream",
     "text": [
      "#========================================================#\n",
      "#| \u001b[92m                  Coordinate Basis                  \u001b[0m |#\n",
      "#========================================================#\n"
     ]
    },
    {
     "data": {
      "image/png": "[encoded data removed]",
      "text/plain": [
       "<Figure size 600x400 with 1 Axes>"
      ]
     },
     "metadata": {},
     "output_type": "display_data"
    }
   ],
   "source": [
    "printcool(\"Coordinate Basis\")\n",
    "plt.imshow(M.coord_basis, cmap=plt.cm.get_cmap('RdBu'))\n",
    "plt.show()"
   ]
  },
  {
   "cell_type": "code",
   "execution_count": 14,
   "metadata": {
    "collapsed": false
   },
   "outputs": [
    {
     "name": "stdout",
     "output_type": "stream",
     "text": [
      "[39, 21]\n"
     ]
    }
   ],
   "source": [
    "print(M.coord_obj.Prims.nprims_frag)"
   ]
  },
  {
   "cell_type": "code",
   "execution_count": null,
   "metadata": {
    "collapsed": true
   },
   "outputs": [],
   "source": []
  }
 ],
 "metadata": {
  "kernelspec": {
   "display_name": "Python 2",
   "language": "python",
   "name": "python2"
  },
  "language_info": {
   "codemirror_mode": {
    "name": "ipython",
    "version": 2
   },
   "file_extension": ".py",
   "mimetype": "text/x-python",
   "name": "python",
   "nbconvert_exporter": "python",
   "pygments_lexer": "ipython2",
   "version": "2.7.15"
  }
 },
 "nbformat": 4,
 "nbformat_minor": 2
}
