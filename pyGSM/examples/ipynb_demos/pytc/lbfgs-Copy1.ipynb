{
 "cells": [
  {
   "cell_type": "code",
   "execution_count": 1,
   "metadata": {
    "collapsed": false
   },
   "outputs": [],
   "source": [
    "import sys\n",
    "sys.path.insert(0,'/home/caldaz/module/pyGSM')\n",
    "from molecule import Molecule\n",
    "from pes import PES\n",
    "from avg_pes import Avg_PES\n",
    "import numpy as np\n",
    "from nifty import pvec1d,pmat2d\n",
    "import matplotlib\n",
    "import matplotlib.pyplot as plt\n",
    "from pytc import *\n",
    "import manage_xyz\n",
    "from rhf_lot import *\n",
    "from psiw import *\n",
    "from nifty import getAllCoords,getAtomicSymbols,click,printcool\n",
    "import pybel as pb\n",
    "%matplotlib inline"
   ]
  },
  {
   "cell_type": "code",
   "execution_count": 2,
   "metadata": {
    "collapsed": false
   },
   "outputs": [
    {
     "name": "stdout",
     "output_type": "stream",
     "text": [
      "#========================================================#\n",
      "#| \u001b[92m                  Build resources                   \u001b[0m |#\n",
      "#========================================================#\n",
      "#==============================================================#\n",
      "#| \u001b[92m                      ResourceList:                       \u001b[0m |#\n",
      "#| \u001b[92m                      CPU threads:   1                    \u001b[0m |#\n",
      "#| \u001b[92m                      GPU contexts:  1                    \u001b[0m |#\n",
      "#| \u001b[92m                    GPU context details:                  \u001b[0m |#\n",
      "#| \u001b[92m   N  ID                 Name  CC  CPU Buffer  GPU Buffer \u001b[0m |#\n",
      "#| \u001b[92m   0   0    GeForce GTX TITAN 3.5        1024        1024 \u001b[0m |#\n",
      "#| \u001b[92m                                                          \u001b[0m |#\n",
      "#==============================================================#\n"
     ]
    },
    {
     "data": {
      "text/plain": [
       "'----------------------------------------------------------------\\n'"
      ]
     },
     "execution_count": 2,
     "metadata": {},
     "output_type": "execute_result"
    }
   ],
   "source": [
    "printcool(\"Build resources\")\n",
    "resources = ls.ResourceList.build()\n",
    "printcool('{}'.format(resources))"
   ]
  },
  {
   "cell_type": "code",
   "execution_count": 3,
   "metadata": {
    "collapsed": false
   },
   "outputs": [
    {
     "name": "stdout",
     "output_type": "stream",
     "text": [
      "#========================================================#\n",
      "#| \u001b[92m         build the Lightspeed (pyTC) objecs         \u001b[0m |#\n",
      "#========================================================#\n",
      "#========================================================#\n",
      "#| \u001b[92m                     Geometry:                      \u001b[0m |#\n",
      "#| \u001b[92m                     QMMM = False                   \u001b[0m |#\n",
      "#| \u001b[92m                     -D3  = False                   \u001b[0m |#\n",
      "#| \u001b[92m                     ECP  = False                   \u001b[0m |#\n",
      "#| \u001b[92m                                                    \u001b[0m |#\n",
      "#| \u001b[92m           Molecule: twisted_fluoroethene           \u001b[0m |#\n",
      "#| \u001b[92m              Natom        =           6            \u001b[0m |#\n",
      "#| \u001b[92m              Charge       =       0.000            \u001b[0m |#\n",
      "#| \u001b[92m              Multiplicity =       1.000            \u001b[0m |#\n",
      "#| \u001b[92m                                                    \u001b[0m |#\n",
      "#| \u001b[92m                   Basis: 6-31gs                    \u001b[0m |#\n",
      "#| \u001b[92m                   nao     =    51                  \u001b[0m |#\n",
      "#| \u001b[92m                   ncart   =    51                  \u001b[0m |#\n",
      "#| \u001b[92m                   nprim   =    57                  \u001b[0m |#\n",
      "#| \u001b[92m                   nshell  =    24                  \u001b[0m |#\n",
      "#| \u001b[92m                   natom   =     6                  \u001b[0m |#\n",
      "#| \u001b[92m                   pure?   =    No                  \u001b[0m |#\n",
      "#| \u001b[92m                   max L   =     2                  \u001b[0m |#\n",
      "#| \u001b[92m                                                    \u001b[0m |#\n",
      "#| \u001b[92m                Basis: cc-pvdz-minao                \u001b[0m |#\n",
      "#| \u001b[92m                   nao     =    18                  \u001b[0m |#\n",
      "#| \u001b[92m                   ncart   =    18                  \u001b[0m |#\n",
      "#| \u001b[92m                   nprim   =    78                  \u001b[0m |#\n",
      "#| \u001b[92m                   nshell  =    12                  \u001b[0m |#\n",
      "#| \u001b[92m                   natom   =     6                  \u001b[0m |#\n",
      "#| \u001b[92m                   pure?   =   Yes                  \u001b[0m |#\n",
      "#| \u001b[92m                   max L   =     1                  \u001b[0m |#\n",
      "#| \u001b[92m                                                    \u001b[0m |#\n",
      "#========================================================#\n",
      "==> RHF <==\n",
      "\n",
      "External Environment:\n",
      "  Enuc =   6.8246411458977590E+01\n",
      "  Eext =   6.8246411458977590E+01\n",
      "\n",
      "SCF Iterations:\n",
      "\n",
      "Iter:                   Energy          dE          dG  Time[s]\n",
      "   0:  -1.7599180090279924E+02  -1.760E+02   1.245E+00    0.901\n",
      "   1:  -1.7690319850470294E+02  -9.114E-01   3.516E-02    0.069\n",
      "   2:  -1.7693984696942849E+02  -3.665E-02   1.845E-02    0.065\n",
      "   3:  -1.7694805805048333E+02  -8.211E-03   5.416E-03    0.062\n",
      "   4:  -1.7694885438088744E+02  -7.963E-04   1.160E-03    0.062\n",
      "   5:  -1.7694890470337140E+02  -5.032E-05   3.934E-04    0.055\n",
      "   6:  -1.7694891064690168E+02  -5.944E-06   1.160E-04    0.054\n",
      "   7:  -1.7694891137207946E+02  -7.252E-07   4.130E-05    0.052\n",
      "   8:  -1.7694891145963828E+02  -8.756E-08   8.695E-06    0.063\n",
      "   9:  -1.7694891146544279E+02  -5.805E-09   2.101E-06    0.046\n",
      "  10:  -1.7694891146574309E+02  -3.003E-10   6.545E-07    0.042\n",
      "\n",
      "SCF Converged\n",
      "\n",
      "SCF Energy =  -1.7694891146574309E+02\n",
      "\n",
      "SCF Internal Energy (E)     =  -1.7649324353178383E+02\n",
      "SCF Entropy Term (-T * S)   =  -4.5566793395925259E-01\n",
      "SCF Free Energy (E - T * S) =  -1.7694891146574309E+02\n",
      "\n",
      "==> End RHF <==\n",
      "\n",
      "==> CASCI <==\n",
      "\n",
      "External Environment:\n",
      "  Enuc =   6.8246411458977590E+01\n",
      "  Eext =   6.8246411458977590E+01\n",
      "\n",
      "Core Energy =  -175.66516750321773\n",
      "\n",
      "=> S=0 States <=\n",
      "\n",
      "CASCI S=0 Energies:\n",
      "\n",
      "   I:                  Total E\n",
      "   0:  -1.7674088210471800E+02\n",
      "   1:  -1.7656769612747098E+02\n",
      "\n",
      "=> End S=0 States <=\n",
      "\n",
      "==> End CASCI <==\n",
      "\n"
     ]
    }
   ],
   "source": [
    "printcool(\"build the Lightspeed (pyTC) objecs\")\n",
    "\n",
    "filepath='../data/twisted_fluoroethene.xyz'\n",
    "nocc=11\n",
    "\n",
    "molecule = ls.Molecule.from_xyz_file(filepath)\n",
    "geom = geometry.Geometry.build(\n",
    "    resources=resources,\n",
    "    molecule=molecule,\n",
    "    basisname='6-31gs',\n",
    "    )\n",
    "printcool('{}'.format(geom))\n",
    "\n",
    "ref = RHF.from_options(\n",
    "     geometry= geom, \n",
    "     g_convergence=1.0E-6,\n",
    "     fomo=True,\n",
    "     fomo_method='gaussian',\n",
    "     fomo_temp=0.3,\n",
    "     fomo_nocc=nocc,\n",
    "     fomo_nact=2,\n",
    "     print_level=1,\n",
    "    )\n",
    "ref.compute_energy()\n",
    "casci = CASCI.from_options(\n",
    "    reference=ref,\n",
    "    nocc=nocc,\n",
    "    nact=2,\n",
    "    nalpha=1,\n",
    "    nbeta=1,\n",
    "    S_inds=[0],\n",
    "    S_nstates=[2],\n",
    "    print_level=1,\n",
    "    )\n",
    "casci.compute_energy()\n",
    "psiw = CASCI_LOT.from_options(\n",
    "    casci=casci,\n",
    "    rhf_guess=True,\n",
    "    rhf_mom=True,\n",
    "    orbital_coincidence='core',\n",
    "    state_coincidence='full',\n",
    "    )"
   ]
  },
  {
   "cell_type": "code",
   "execution_count": 4,
   "metadata": {
    "collapsed": false
   },
   "outputs": [
    {
     "name": "stdout",
     "output_type": "stream",
     "text": [
      "#========================================================#\n",
      "#| \u001b[92m    Build the pyGSM Level of Theory object (LOT)    \u001b[0m |#\n",
      "#========================================================#\n",
      " initializing LOT from file\n"
     ]
    }
   ],
   "source": [
    "printcool(\"Build the pyGSM Level of Theory object (LOT)\")\n",
    "lot=PyTC.from_options(states=[(1,0),(1,1)],job_data={'psiw':psiw},fnm=filepath)"
   ]
  },
  {
   "cell_type": "code",
   "execution_count": 5,
   "metadata": {
    "collapsed": false
   },
   "outputs": [
    {
     "name": "stdout",
     "output_type": "stream",
     "text": [
      "#===========================================================#\n",
      "#| \u001b[92m Build the pyGSM Potential Energy Surface Object (PES) \u001b[0m |#\n",
      "#===========================================================#\n"
     ]
    }
   ],
   "source": [
    "printcool(\"Build the pyGSM Potential Energy Surface Object (PES)\")\n",
    "pes = PES.from_options(lot=lot,ad_idx=0,multiplicity=1)\n"
   ]
  },
  {
   "cell_type": "code",
   "execution_count": 6,
   "metadata": {
    "collapsed": false
   },
   "outputs": [
    {
     "name": "stdout",
     "output_type": "stream",
     "text": [
      "#================================================================#\n",
      "#| \u001b[92m              Build the pyGSM Molecule object               \u001b[0m |#\n",
      "#| \u001b[92m  with Translation and Rotation Internal Coordinates (TRIC) \u001b[0m |#\n",
      "#================================================================#\n",
      " reading cartesian coordinates from file\n",
      " initializing LOT from file\n",
      " making primitives from options!\n",
      " making primitive Hessian\n",
      " forming Hessian in basis\n"
     ]
    }
   ],
   "source": [
    "printcool(\"Build the pyGSM Molecule object \\n with Translation and Rotation Internal Coordinates (TRIC)\")\n",
    "M = Molecule.from_options(fnm=filepath,PES=pes,coordinate_type=\"TRIC\")"
   ]
  },
  {
   "cell_type": "code",
   "execution_count": 7,
   "metadata": {
    "collapsed": false
   },
   "outputs": [],
   "source": [
    "from lbfgs import lbfgs\n",
    "from _linesearch import backtrack\n",
    "lb = lbfgs.from_options(DMAX=0.25) #Linesearch=backtrack"
   ]
  },
  {
   "cell_type": "code",
   "execution_count": 8,
   "metadata": {
    "collapsed": false,
    "scrolled": false
   },
   "outputs": [
    {
     "name": "stdout",
     "output_type": "stream",
     "text": [
      " initial E 0.0000\n",
      " On opt step 1 \n",
      " actual_step= 0.68\n",
      " reducing step, new step = 0.25\n",
      " Linesearch\n",
      " Done linesearch\n",
      " dEstep=-43.2588\n",
      " Opt step: 1 E: -43.2588 gradrms: 0.16090 ss: 0.250 DMAX: 0.250\n",
      " On opt step 2 \n",
      " actual_step= 0.09\n",
      " Linesearch\n",
      " Done linesearch\n",
      " dEstep=-3.8355\n",
      " Opt step: 2 E: -47.0943 gradrms: 0.02128 ss: 0.092 DMAX: 0.250\n",
      " On opt step 3 \n",
      " actual_step= 0.28\n",
      " reducing step, new step = 0.25\n",
      " Linesearch\n",
      " Done linesearch\n",
      " dEstep=-8.8025\n",
      " Opt step: 3 E: -55.8967 gradrms: 0.01850 ss: 0.250 DMAX: 0.250\n",
      " On opt step 4 \n",
      " actual_step= 0.76\n",
      " reducing step, new step = 0.25\n",
      " Linesearch\n",
      " Done linesearch\n",
      " dEstep=-7.5862\n",
      " Opt step: 4 E: -63.4829 gradrms: 0.02353 ss: 0.250 DMAX: 0.250\n",
      " On opt step 5 \n",
      " actual_step= 0.79\n",
      " reducing step, new step = 0.25\n",
      " Linesearch\n",
      " Done linesearch\n",
      " dEstep=-6.4240\n",
      " Opt step: 5 E: -69.9069 gradrms: 0.02382 ss: 0.250 DMAX: 0.250\n",
      " On opt step 6 \n",
      " actual_step= 0.70\n",
      " reducing step, new step = 0.25\n",
      " Linesearch\n",
      " Done linesearch\n",
      " dEstep=-5.3948\n",
      " Opt step: 6 E: -75.3016 gradrms: 0.02163 ss: 0.250 DMAX: 0.250\n",
      " On opt step 7 \n",
      " actual_step= 0.64\n",
      " reducing step, new step = 0.25\n",
      " Linesearch\n",
      " Done linesearch\n",
      " dEstep=-4.7032\n",
      " Opt step: 7 E: -80.0049 gradrms: 0.01946 ss: 0.250 DMAX: 0.250\n",
      " On opt step 8 \n",
      " actual_step= 0.58\n",
      " reducing step, new step = 0.25\n",
      " Linesearch\n",
      " Done linesearch\n",
      " dEstep=-4.1213\n",
      " Opt step: 8 E: -84.1261 gradrms: 0.01735 ss: 0.250 DMAX: 0.250\n",
      " On opt step 9 \n",
      " actual_step= 0.44\n",
      " reducing step, new step = 0.25\n",
      " Linesearch\n",
      " Done linesearch\n",
      " dEstep=-3.5074\n",
      " Opt step: 9 E: -87.6335 gradrms: 0.01513 ss: 0.250 DMAX: 0.250\n",
      " On opt step 10 \n",
      " actual_step= 0.27\n",
      " reducing step, new step = 0.25\n",
      " Linesearch\n",
      " Done linesearch\n",
      " dEstep=-3.0269\n",
      " Opt step: 10 E: -90.6604 gradrms: 0.01290 ss: 0.250 DMAX: 0.250\n",
      " On opt step 11 \n",
      " actual_step= 0.19\n",
      " Linesearch\n",
      " Done linesearch\n",
      " dEstep=-2.7340\n",
      " Opt step: 11 E: -93.3944 gradrms: 0.01349 ss: 0.186 DMAX: 0.250\n",
      " On opt step 12 \n",
      " actual_step= 0.23\n",
      " Linesearch\n",
      " Done linesearch\n",
      " dEstep=-3.2258\n",
      " Opt step: 12 E: -96.6201 gradrms: 0.01327 ss: 0.232 DMAX: 0.250\n",
      " On opt step 13 \n",
      " actual_step= 0.09\n",
      " Linesearch\n",
      " Done linesearch\n",
      " dEstep=-1.0491\n",
      " Opt step: 13 E: -97.6692 gradrms: 0.01366 ss: 0.088 DMAX: 0.250\n",
      " On opt step 14 \n",
      " actual_step= 0.06\n",
      " Linesearch\n",
      " Done linesearch\n",
      " dEstep=-0.3716\n",
      " Opt step: 14 E: -98.0408 gradrms: 0.00476 ss: 0.060 DMAX: 0.250\n",
      " On opt step 15 \n",
      " actual_step= 0.07\n",
      " Linesearch\n",
      " Done linesearch\n",
      " dEstep=-0.3671\n",
      " Opt step: 15 E: -98.4079 gradrms: 0.00465 ss: 0.075 DMAX: 0.250\n",
      " opt-summary\n",
      " Opt step: 1 E: -43.2588 gradrms: 0.16090 ss: 0.250 DMAX: 0.250\n",
      " Opt step: 2 E: -47.0943 gradrms: 0.02128 ss: 0.092 DMAX: 0.250\n",
      " Opt step: 3 E: -55.8967 gradrms: 0.01850 ss: 0.250 DMAX: 0.250\n",
      " Opt step: 4 E: -63.4829 gradrms: 0.02353 ss: 0.250 DMAX: 0.250\n",
      " Opt step: 5 E: -69.9069 gradrms: 0.02382 ss: 0.250 DMAX: 0.250\n",
      " Opt step: 6 E: -75.3016 gradrms: 0.02163 ss: 0.250 DMAX: 0.250\n",
      " Opt step: 7 E: -80.0049 gradrms: 0.01946 ss: 0.250 DMAX: 0.250\n",
      " Opt step: 8 E: -84.1261 gradrms: 0.01735 ss: 0.250 DMAX: 0.250\n",
      " Opt step: 9 E: -87.6335 gradrms: 0.01513 ss: 0.250 DMAX: 0.250\n",
      " Opt step: 10 E: -90.6604 gradrms: 0.01290 ss: 0.250 DMAX: 0.250\n",
      " Opt step: 11 E: -93.3944 gradrms: 0.01349 ss: 0.186 DMAX: 0.250\n",
      " Opt step: 12 E: -96.6201 gradrms: 0.01327 ss: 0.232 DMAX: 0.250\n",
      " Opt step: 13 E: -97.6692 gradrms: 0.01366 ss: 0.088 DMAX: 0.250\n",
      " Opt step: 14 E: -98.0408 gradrms: 0.00476 ss: 0.060 DMAX: 0.250\n",
      " Opt step: 15 E: -98.4079 gradrms: 0.00465 ss: 0.075 DMAX: 0.250\n",
      "\n"
     ]
    }
   ],
   "source": [
    "geoms,energy = lb.optimize(M,M.energy,'UNCONSTRAINED',15)"
   ]
  },
  {
   "cell_type": "code",
   "execution_count": 9,
   "metadata": {
    "collapsed": false
   },
   "outputs": [],
   "source": [
    "manage_xyz.write_xyzs_w_comments('lbfgs_DLC.xyz',geoms,energy,scale=1.)"
   ]
  },
  {
   "cell_type": "code",
   "execution_count": 18,
   "metadata": {
    "collapsed": false
   },
   "outputs": [
    {
     "data": {
      "text/plain": [
       "array([[ 0.9991,  0.    , -0.    ,  0.0039, -0.002 , -0.    , -0.    ,\n",
       "        -0.0083, -0.0041, -0.    ,  0.0254, -0.0053,  0.0053, -0.0053,\n",
       "         0.0053, -0.    , -0.    ,  0.    , -0.    ,  0.    , -0.    ],\n",
       "       [ 0.    ,  1.    , -0.    , -0.    , -0.    , -0.    ,  0.    ,\n",
       "         0.    , -0.    , -0.    ,  0.    , -0.    , -0.    ,  0.    ,\n",
       "         0.    , -0.    ,  0.    , -0.    , -0.    , -0.    ,  0.    ],\n",
       "       [-0.    , -0.    ,  1.    ,  0.    , -0.    , -0.    , -0.    ,\n",
       "        -0.    ,  0.    ,  0.    , -0.    ,  0.    ,  0.    , -0.    ,\n",
       "        -0.    ,  0.    , -0.    ,  0.    ,  0.    ,  0.    , -0.    ],\n",
       "       [ 0.0039, -0.    ,  0.    ,  0.982 ,  0.0093,  0.    , -0.    ,\n",
       "         0.0378,  0.0187, -0.    , -0.116 ,  0.0242, -0.0242,  0.0242,\n",
       "        -0.0242,  0.    ,  0.    , -0.    ,  0.    , -0.    ,  0.    ],\n",
       "       [-0.002 , -0.    , -0.    ,  0.0093,  0.9952,  0.    , -0.    ,\n",
       "        -0.0194, -0.0096,  0.    ,  0.0597, -0.0124,  0.0124, -0.0124,\n",
       "         0.0124, -0.    , -0.    ,  0.    , -0.    ,  0.    , -0.    ],\n",
       "       [-0.    , -0.    , -0.    ,  0.    ,  0.    ,  1.    ,  0.    ,\n",
       "         0.    ,  0.    , -0.    , -0.    , -0.    , -0.    ,  0.    ,\n",
       "         0.    , -0.    ,  0.    , -0.    , -0.    , -0.    ,  0.    ],\n",
       "       [-0.    ,  0.    , -0.    , -0.    , -0.    ,  0.    ,  1.    ,\n",
       "         0.    ,  0.    , -0.    , -0.    , -0.    , -0.    ,  0.    ,\n",
       "         0.    , -0.    ,  0.    , -0.    ,  0.    ,  0.    , -0.    ],\n",
       "       [-0.0083,  0.    , -0.    ,  0.0378, -0.0194,  0.    ,  0.    ,\n",
       "         0.9206, -0.0392,  0.    ,  0.2437, -0.0507,  0.0507, -0.0507,\n",
       "         0.0507, -0.    , -0.    ,  0.    , -0.    ,  0.    , -0.    ],\n",
       "       [-0.0041, -0.    ,  0.    ,  0.0187, -0.0096,  0.    ,  0.    ,\n",
       "        -0.0392,  0.9806,  0.    ,  0.1203, -0.0251,  0.0251, -0.0251,\n",
       "         0.0251, -0.    , -0.    ,  0.    , -0.    ,  0.    , -0.    ],\n",
       "       [-0.    , -0.    ,  0.    , -0.    ,  0.    , -0.    , -0.    ,\n",
       "         0.    ,  0.    ,  0.2215, -0.    , -0.2076, -0.2076,  0.2076,\n",
       "         0.2076, -0.    ,  0.    , -0.    , -0.    ,  0.    ,  0.    ],\n",
       "       [ 0.0254,  0.    , -0.    , -0.116 ,  0.0597, -0.    , -0.    ,\n",
       "         0.2437,  0.1203, -0.    ,  0.2521,  0.1557, -0.1557,  0.1557,\n",
       "        -0.1557,  0.    ,  0.    , -0.    ,  0.    , -0.    ,  0.    ],\n",
       "       [-0.0053, -0.    ,  0.    ,  0.0242, -0.0124, -0.    , -0.    ,\n",
       "        -0.0507, -0.0251, -0.2076,  0.1557,  0.6622,  0.2271,  0.2729,\n",
       "        -0.1622,  0.    , -0.    ,  0.    , -0.    ,  0.    ,  0.    ],\n",
       "       [ 0.0053, -0.    ,  0.    , -0.0242,  0.0124, -0.    , -0.    ,\n",
       "         0.0507,  0.0251, -0.2076, -0.1557,  0.2271,  0.6622, -0.1622,\n",
       "         0.2729, -0.    ,  0.    , -0.    , -0.    ,  0.    , -0.    ],\n",
       "       [-0.0053,  0.    , -0.    ,  0.0242, -0.0124,  0.    ,  0.    ,\n",
       "        -0.0507, -0.0251,  0.2076,  0.1557,  0.2729, -0.1622,  0.6622,\n",
       "         0.2271, -0.    ,  0.    ,  0.    , -0.    ,  0.    , -0.    ],\n",
       "       [ 0.0053,  0.    , -0.    , -0.0242,  0.0124,  0.    ,  0.    ,\n",
       "         0.0507,  0.0251,  0.2076, -0.1557, -0.1622,  0.2729,  0.2271,\n",
       "         0.6622,  0.    , -0.    ,  0.    ,  0.    , -0.    ,  0.    ],\n",
       "       [-0.    , -0.    ,  0.    ,  0.    , -0.    , -0.    , -0.    ,\n",
       "        -0.    , -0.    , -0.    ,  0.    ,  0.    , -0.    , -0.    ,\n",
       "         0.    ,  1.    ,  0.    , -0.    , -0.    ,  0.    , -0.    ],\n",
       "       [-0.    ,  0.    , -0.    ,  0.    , -0.    ,  0.    ,  0.    ,\n",
       "        -0.    , -0.    ,  0.    ,  0.    , -0.    ,  0.    ,  0.    ,\n",
       "        -0.    ,  0.    ,  1.    , -0.    ,  0.    ,  0.    ,  0.    ],\n",
       "       [ 0.    , -0.    ,  0.    , -0.    ,  0.    , -0.    , -0.    ,\n",
       "         0.    ,  0.    , -0.    , -0.    ,  0.    , -0.    ,  0.    ,\n",
       "         0.    , -0.    , -0.    ,  1.    ,  0.    ,  0.    ,  0.    ],\n",
       "       [-0.    , -0.    ,  0.    ,  0.    , -0.    , -0.    ,  0.    ,\n",
       "        -0.    , -0.    , -0.    ,  0.    , -0.    , -0.    , -0.    ,\n",
       "         0.    , -0.    ,  0.    ,  0.    ,  1.    , -0.    ,  0.    ],\n",
       "       [ 0.    , -0.    ,  0.    , -0.    ,  0.    , -0.    ,  0.    ,\n",
       "         0.    ,  0.    ,  0.    , -0.    ,  0.    ,  0.    ,  0.    ,\n",
       "        -0.    ,  0.    ,  0.    ,  0.    , -0.    ,  1.    , -0.    ],\n",
       "       [-0.    ,  0.    , -0.    ,  0.    , -0.    ,  0.    , -0.    ,\n",
       "        -0.    , -0.    ,  0.    ,  0.    ,  0.    , -0.    , -0.    ,\n",
       "         0.    , -0.    ,  0.    ,  0.    ,  0.    , -0.    ,  1.    ]])"
      ]
     },
     "execution_count": 18,
     "metadata": {},
     "output_type": "execute_result"
    }
   ],
   "source": [
    "np.dot(M.coord_basis,M.coord_basis.T)"
   ]
  },
  {
   "cell_type": "code",
   "execution_count": 17,
   "metadata": {
    "collapsed": false
   },
   "outputs": [
    {
     "name": "stdout",
     "output_type": "stream",
     "text": [
      "[[ 1. -0.  0. -0.  0. -0.  0.  0.  0.  0. -0. -0.  0. -0. -0. -0.  0. -0.]\n",
      " [-0.  1. -0. -0.  0. -0.  0.  0.  0.  0. -0. -0. -0.  0. -0.  0. -0. -0.]\n",
      " [ 0. -0.  1.  0. -0. -0.  0. -0.  0.  0. -0. -0.  0. -0.  0.  0.  0.  0.]\n",
      " [-0. -0.  0.  1.  0.  0. -0. -0. -0.  0.  0.  0.  0. -0. -0. -0.  0.  0.]\n",
      " [ 0.  0. -0.  0.  1.  0. -0.  0.  0.  0.  0.  0.  0. -0. -0. -0.  0.  0.]\n",
      " [-0. -0. -0.  0.  0.  1.  0. -0.  0.  0.  0. -0.  0. -0. -0. -0. -0. -0.]\n",
      " [ 0.  0.  0. -0. -0.  0.  1.  0. -0.  0.  0. -0. -0.  0. -0.  0.  0. -0.]\n",
      " [ 0.  0. -0. -0.  0. -0.  0.  1. -0. -0. -0. -0. -0.  0.  0.  0.  0.  0.]\n",
      " [ 0.  0.  0. -0.  0.  0. -0. -0.  1.  0.  0.  0.  0. -0.  0. -0. -0. -0.]\n",
      " [ 0.  0.  0.  0.  0.  0.  0. -0.  0.  1. -0. -0.  0. -0.  0.  0. -0. -0.]\n",
      " [-0. -0. -0.  0.  0.  0.  0. -0.  0. -0.  1.  0.  0. -0. -0.  0. -0.  0.]\n",
      " [-0. -0. -0.  0.  0. -0. -0. -0.  0. -0.  0.  1. -0. -0.  0. -0.  0.  0.]\n",
      " [ 0. -0.  0.  0.  0.  0. -0. -0.  0.  0.  0. -0.  1.  0. -0.  0. -0.  0.]\n",
      " [-0.  0. -0. -0. -0. -0.  0.  0. -0. -0. -0. -0.  0.  1. -0. -0.  0. -0.]\n",
      " [-0. -0.  0. -0. -0. -0. -0.  0.  0.  0. -0.  0. -0. -0.  1. -0.  0.  0.]\n",
      " [-0.  0.  0. -0. -0. -0.  0.  0. -0.  0.  0. -0.  0. -0. -0.  1.  0.  0.]\n",
      " [ 0. -0.  0.  0.  0. -0.  0.  0. -0. -0. -0.  0. -0. -0.  0.  0.  1.  0.]\n",
      " [-0. -0.  0.  0.  0. -0. -0.  0. -0. -0.  0.  0.  0. -0.  0.  0.  0.  1.]]\n"
     ]
    }
   ],
   "source": [
    "ans = np.dot(M.coord_basis.T,M.coord_basis)\n"
   ]
  },
  {
   "cell_type": "code",
   "execution_count": null,
   "metadata": {
    "collapsed": true
   },
   "outputs": [],
   "source": []
  }
 ],
 "metadata": {
  "kernelspec": {
   "display_name": "Python 2",
   "language": "python",
   "name": "python2"
  },
  "language_info": {
   "codemirror_mode": {
    "name": "ipython",
    "version": 2
   },
   "file_extension": ".py",
   "mimetype": "text/x-python",
   "name": "python",
   "nbconvert_exporter": "python",
   "pygments_lexer": "ipython2",
   "version": "2.7.15"
  }
 },
 "nbformat": 4,
 "nbformat_minor": 0
}
