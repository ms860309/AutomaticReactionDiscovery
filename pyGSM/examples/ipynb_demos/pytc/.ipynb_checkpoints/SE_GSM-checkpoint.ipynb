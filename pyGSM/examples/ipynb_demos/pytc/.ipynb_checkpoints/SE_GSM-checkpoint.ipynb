{
 "cells": [
  {
   "cell_type": "code",
   "execution_count": 1,
   "metadata": {
    "collapsed": false
   },
   "outputs": [],
   "source": [
    "import sys\n",
    "sys.path.insert(0,'/home/caldaz/module/pyGSM')\n",
    "import numpy as np\n",
    "from de_gsm import GSM\n",
    "from pytc import PyTC\n",
    "from pes import PES\n",
    "from eigenvector_follow import eigenvector_follow\n",
    "from psiw import *\n",
    "from rhf_lot import RHF_LOT\n",
    "from nifty import pvec1d,pmat2d,click,printcool\n",
    "from molecule import Molecule\n",
    "import manage_xyz\n",
    "import matplotlib\n",
    "import matplotlib.pyplot as plt\n",
    "import networkx as nx\n",
    "%matplotlib inline"
   ]
  },
  {
   "cell_type": "code",
   "execution_count": 2,
   "metadata": {
    "collapsed": true
   },
   "outputs": [],
   "source": [
    "##### => Job Data <= #####\n",
    "charge=0\n",
    "basis='6-31gs'\n",
    "filepath1 = 'data/butadiene_ethene.xyz'"
   ]
  },
  {
   "cell_type": "code",
   "execution_count": 3,
   "metadata": {
    "collapsed": false
   },
   "outputs": [
    {
     "name": "stdout",
     "output_type": "stream",
     "text": [
      "#========================================================#\n",
      "#| \u001b[92m                  Build resources                   \u001b[0m |#\n",
      "#========================================================#\n",
      "#==============================================================#\n",
      "#| \u001b[92m                      ResourceList:                       \u001b[0m |#\n",
      "#| \u001b[92m                      CPU threads:   1                    \u001b[0m |#\n",
      "#| \u001b[92m                      GPU contexts:  1                    \u001b[0m |#\n",
      "#| \u001b[92m                    GPU context details:                  \u001b[0m |#\n",
      "#| \u001b[92m   N  ID                 Name  CC  CPU Buffer  GPU Buffer \u001b[0m |#\n",
      "#| \u001b[92m   0   0    GeForce GTX TITAN 3.5        1024        1024 \u001b[0m |#\n",
      "#| \u001b[92m                                                          \u001b[0m |#\n",
      "#==============================================================#\n",
      "#========================================================#\n",
      "#| \u001b[92m                     Geometry:                      \u001b[0m |#\n",
      "#| \u001b[92m                     QMMM = False                   \u001b[0m |#\n",
      "#| \u001b[92m                     -D3  = False                   \u001b[0m |#\n",
      "#| \u001b[92m                     ECP  = False                   \u001b[0m |#\n",
      "#| \u001b[92m                                                    \u001b[0m |#\n",
      "#| \u001b[92m             Molecule: butadiene_ethene             \u001b[0m |#\n",
      "#| \u001b[92m              Natom        =          16            \u001b[0m |#\n",
      "#| \u001b[92m              Charge       =       0.000            \u001b[0m |#\n",
      "#| \u001b[92m              Multiplicity =       1.000            \u001b[0m |#\n",
      "#| \u001b[92m                                                    \u001b[0m |#\n",
      "#| \u001b[92m                   Basis: 6-31gs                    \u001b[0m |#\n",
      "#| \u001b[92m                   nao     =   110                  \u001b[0m |#\n",
      "#| \u001b[92m                   ncart   =   110                  \u001b[0m |#\n",
      "#| \u001b[92m                   nprim   =   130                  \u001b[0m |#\n",
      "#| \u001b[92m                   nshell  =    56                  \u001b[0m |#\n",
      "#| \u001b[92m                   natom   =    16                  \u001b[0m |#\n",
      "#| \u001b[92m                   pure?   =    No                  \u001b[0m |#\n",
      "#| \u001b[92m                   max L   =     2                  \u001b[0m |#\n",
      "#| \u001b[92m                                                    \u001b[0m |#\n",
      "#| \u001b[92m                Basis: cc-pvdz-minao                \u001b[0m |#\n",
      "#| \u001b[92m                   nao     =    40                  \u001b[0m |#\n",
      "#| \u001b[92m                   ncart   =    40                  \u001b[0m |#\n",
      "#| \u001b[92m                   nprim   =   172                  \u001b[0m |#\n",
      "#| \u001b[92m                   nshell  =    28                  \u001b[0m |#\n",
      "#| \u001b[92m                   natom   =    16                  \u001b[0m |#\n",
      "#| \u001b[92m                   pure?   =   Yes                  \u001b[0m |#\n",
      "#| \u001b[92m                   max L   =     1                  \u001b[0m |#\n",
      "#| \u001b[92m                                                    \u001b[0m |#\n",
      "#========================================================#\n"
     ]
    }
   ],
   "source": [
    "#### => PSIW Obj <= ######\n",
    "printcool(\"Build resources\")\n",
    "resources = ls.ResourceList.build()\n",
    "printcool('{}'.format(resources))\n",
    "\n",
    "molecule1 = ls.Molecule.from_xyz_file(filepath1)\n",
    "\n",
    "\n",
    "geom1 = geometry.Geometry.build(\n",
    "    resources=resources,\n",
    "    molecule=molecule1,\n",
    "    basisname=basis,\n",
    "    )\n",
    "\n",
    "\n",
    "printcool('{}'.format(geom1))\n",
    "\n",
    "\n",
    "ref1 = RHF(RHF.default_options().set_values({\n",
    "    'geometry' : geom1,\n",
    "    'dft_functional' : 'B3LYP',\n",
    "    'dft_grid_name' : 'SG0',\n",
    "    }))\n",
    "\n",
    "psiw1 = RHF_LOT.from_options(rhf=ref1)\n"
   ]
  },
  {
   "cell_type": "code",
   "execution_count": 4,
   "metadata": {
    "collapsed": false
   },
   "outputs": [
    {
     "name": "stdout",
     "output_type": "stream",
     "text": [
      "#========================================================#\n",
      "#| \u001b[92m    Build the pyGSM Level of Theory object (LOT)    \u001b[0m |#\n",
      "#========================================================#\n",
      " initializing LOT from file\n",
      "<class 'rhf_lot.RHF_LOT'>\n",
      "#========================================================#\n",
      "#| \u001b[92m              Building the PES objects              \u001b[0m |#\n",
      "#========================================================#\n",
      "#================================================================#\n",
      "#| \u001b[92m              Build the pyGSM Molecule object               \u001b[0m |#\n",
      "#| \u001b[92m  with Translation and Rotation Internal Coordinates (TRIC) \u001b[0m |#\n",
      "#================================================================#\n",
      " reading cartesian coordinates from file\n",
      " making primitives from options!\n",
      "Build G: 0.014 Eig: 0.001\n",
      " making primitive Hessian\n",
      " forming Hessian in basis\n"
     ]
    }
   ],
   "source": [
    "####### =>  Build the pyGSM objects <= #########\n",
    "# level of theory\n",
    "printcool(\"Build the pyGSM Level of Theory object (LOT)\")\n",
    "lot1=PyTC.from_options(states=[(1,0)],extra_kwargs={'psiw':psiw1},fnm=filepath1)\n",
    "\n",
    "# => Create PES objects <= #\n",
    "printcool(\"Building the PES objects\")\n",
    "pes1 = PES.from_options(lot=lot1,ad_idx=0,multiplicity=1)\n",
    "\n",
    "# => Molecule <= #\n",
    "printcool(\"Build the pyGSM Molecule object \\n with Translation and Rotation Internal Coordinates (TRIC)\")\n",
    "reactant = Molecule.from_options(fnm=filepath1,PES=pes1,coordinate_type=\"TRIC\")\n",
    "\n",
    "optimizer=eigenvector_follow.from_options(print_level=1)  #default parameters fine here/opt_type will get set by GSM"
   ]
  },
  {
   "cell_type": "code",
   "execution_count": 5,
   "metadata": {
    "collapsed": false
   },
   "outputs": [
    {
     "name": "stdout",
     "output_type": "stream",
     "text": [
      "#========================================================#\n",
      "#| \u001b[92m           Primitives before isomer init            \u001b[0m |#\n",
      "#========================================================#\n",
      "[Distance 1-2, Distance 1-6, Distance 1-7, Distance 2-3, Distance 2-5, Distance 3-4, Distance 3-10, Distance 4-9, Distance 4-8, Angle 2-1-7, Angle 6-1-7, Angle 1-2-5, Angle 3-2-5, Angle 2-3-10, Angle 4-3-10, Angle 3-4-9, Angle 8-4-9, Out-of-Plane 1-2-6-7, Out-of-Plane 2-1-3-5, Out-of-Plane 3-2-4-10, Out-of-Plane 4-3-8-9, Dihedral 6-1-2-3, Dihedral 6-1-2-5, Dihedral 7-1-2-3, Dihedral 7-1-2-5, Dihedral 1-2-3-4, Dihedral 1-2-3-10, Dihedral 5-2-3-4, Dihedral 5-2-3-10, Dihedral 2-3-4-9, Dihedral 2-3-4-8, Dihedral 10-3-4-9, Dihedral 10-3-4-8, Translation-X 1-10, Translation-Y 1-10, Translation-Z 1-10, Rotation-A 1-10, Rotation-B 1-10, Rotation-C 1-10, Distance 11-12, Distance 11-13, Distance 11-14, Distance 12-15, Distance 12-16, Angle 12-11-14, Angle 13-11-14, Angle 11-12-16, Angle 15-12-16, Out-of-Plane 11-12-13-14, Out-of-Plane 12-11-15-16, Dihedral 13-11-12-15, Dihedral 13-11-12-16, Dihedral 14-11-12-15, Dihedral 14-11-12-16, Translation-X 11-16, Translation-Y 11-16, Translation-Z 11-16, Rotation-A 11-16, Rotation-B 11-16, Rotation-C 11-16]\n"
     ]
    }
   ],
   "source": [
    "printcool(\"Primitives before isomer init\")\n",
    "print(reactant.coord_obj.Prims.Internals)"
   ]
  },
  {
   "cell_type": "code",
   "execution_count": 6,
   "metadata": {
    "collapsed": false
   },
   "outputs": [
    {
     "name": "stdout",
     "output_type": "stream",
     "text": [
      "#========================================================#\n",
      "#| \u001b[92m               Topology before union                \u001b[0m |#\n",
      "#========================================================#\n"
     ]
    },
    {
     "data": {
      "image/png": "[encoded data removed]",
      "text/plain": [
       "<Figure size 600x400 with 1 Axes>"
      ]
     },
     "metadata": {},
     "output_type": "display_data"
    }
   ],
   "source": [
    "printcool(\"Topology before union\")\n",
    "plt.plot()\n",
    "nx.draw(reactant.coord_obj.Prims.topology,with_labels=True,font_weight='bold') \n",
    "plt.show()"
   ]
  },
  {
   "cell_type": "code",
   "execution_count": 7,
   "metadata": {
    "collapsed": false
   },
   "outputs": [
    {
     "name": "stdout",
     "output_type": "stream",
     "text": [
      "#========================================================#\n",
      "#| \u001b[92m      Wilson B-Matrix (dq_i/dx_j) before union      \u001b[0m |#\n",
      "#========================================================#\n"
     ]
    },
    {
     "data": {
      "image/png": "[encoded data removed]",
      "text/plain": [
       "<Figure size 600x400 with 1 Axes>"
      ]
     },
     "metadata": {},
     "output_type": "display_data"
    }
   ],
   "source": [
    "printcool(\"Wilson B-Matrix (dq_i/dx_j) before union\")\n",
    "Bmatp = reactant.coord_obj.Prims.wilsonB(reactant.xyz)\n",
    "plt.imshow(Bmatp, cmap=plt.cm.get_cmap('RdBu'))\n",
    "plt.show()"
   ]
  },
  {
   "cell_type": "code",
   "execution_count": 8,
   "metadata": {
    "collapsed": false
   },
   "outputs": [
    {
     "name": "stdout",
     "output_type": "stream",
     "text": [
      "#========================================================#\n",
      "#| \u001b[92m         G-Matrix (BB^T in basis of prims)          \u001b[0m |#\n",
      "#========================================================#\n"
     ]
    },
    {
     "data": {
      "image/png": "[encoded data removed]",
      "text/plain": [
       "<Figure size 600x400 with 1 Axes>"
      ]
     },
     "metadata": {},
     "output_type": "display_data"
    }
   ],
   "source": [
    "printcool(\"G-Matrix (BB^T in basis of prims)\")\n",
    "G = reactant.coord_obj.Prims.GMatrix(reactant.xyz)\n",
    "plt.imshow(G, cmap=plt.cm.get_cmap('RdBu'))\n",
    "plt.show()"
   ]
  },
  {
   "cell_type": "code",
   "execution_count": 9,
   "metadata": {
    "collapsed": false
   },
   "outputs": [
    {
     "name": "stdout",
     "output_type": "stream",
     "text": [
      "#========================================================#\n",
      "#| \u001b[92m        Coordinate Basis before adding bond         \u001b[0m |#\n",
      "#========================================================#\n"
     ]
    },
    {
     "data": {
      "image/png": "[encoded data removed]",
      "text/plain": [
       "<Figure size 600x400 with 1 Axes>"
      ]
     },
     "metadata": {},
     "output_type": "display_data"
    }
   ],
   "source": [
    "printcool(\"Coordinate Basis before adding bond\")\n",
    "plt.imshow(reactant.coord_basis, cmap=plt.cm.get_cmap('RdBu'))\n",
    "plt.show()"
   ]
  },
  {
   "cell_type": "code",
   "execution_count": 10,
   "metadata": {
    "collapsed": false
   },
   "outputs": [
    {
     "name": "stdout",
     "output_type": "stream",
     "text": [
      "\n",
      "        __        __   _                            _        \n",
      "        \\ \\      / /__| | ___ ___  _ __ ___   ___  | |_ ___  \n",
      "         \\ \\ /\\ / / _ \\ |/ __/ _ \\| '_ ` _ \\ / _ \\ | __/ _ \\ \n",
      "          \\ V  V /  __/ | (_| (_) | | | | | |  __/ | || (_) |\n",
      "           \\_/\\_/ \\___|_|\\___\\___/|_| |_| |_|\\___|  \\__\\___/ \n",
      "                                        ____ ____  __  __ \n",
      "                           _ __  _   _ / ___/ ___||  \\/  |\n",
      "                          | '_ \\| | | | |  _\\___ \\| |\\/| |\n",
      "                          | |_) | |_| | |_| |___) | |  | |\n",
      "                          | .__/ \\__, |\\____|____/|_|  |_|\n",
      "                          |_|    |___/                    \n",
      "#==========================================================================#\n",
      "#| If this code has benefited your research, please support us by citing: |#\n",
      "#|                                                                        |# \n",
      "#| Aldaz, C.; Kammeraad J. A.; Zimmerman P. M. \"Discovery of conical      |#\n",
      "#| intersection mediated photochemistry with growing string methods\",     |#\n",
      "#| Phys. Chem. Chem. Phys., 2018, 20, 27394                               |#\n",
      "#| http://dx.doi.org/10.1039/c8cp04703k                                   |#\n",
      "#|                                                                        |# \n",
      "#| Wang, L.-P.; Song, C.C. (2016) \"Geometry optimization made simple with |#\n",
      "#| translation and rotation coordinates\", J. Chem, Phys. 144, 214108.     |#\n",
      "#| http://dx.doi.org/10.1063/1.4952956                                    |#\n",
      "#==========================================================================#\n",
      "\n",
      "\n",
      "               \n",
      " gaddmax: 0.0154303349962\n",
      " making primitive Hessian\n",
      "(' adding ', Distance 4-12)\n",
      "(' adding ', Distance 1-11)\n",
      "Build G: 0.010 Eig: 0.001\n",
      " Done initializing isomer\n",
      " making primitive Hessian\n",
      " Primitive Internal Coordinates\n",
      "[Distance 1-2, Distance 1-6, Distance 1-7, Distance 2-3, Distance 2-5, Distance 3-4, Distance 3-10, Distance 4-9, Distance 4-8, Distance 11-12, Distance 11-13, Distance 11-14, Distance 12-15, Distance 12-16, Distance 4-12, Distance 1-11, Angle 2-1-7, Angle 6-1-7, Angle 1-2-5, Angle 3-2-5, Angle 2-3-10, Angle 4-3-10, Angle 3-4-9, Angle 8-4-9, Angle 12-11-14, Angle 13-11-14, Angle 11-12-16, Angle 15-12-16, Out-of-Plane 1-2-6-7, Out-of-Plane 2-1-3-5, Out-of-Plane 3-2-4-10, Out-of-Plane 4-3-8-9, Out-of-Plane 11-12-13-14, Out-of-Plane 12-11-15-16, Dihedral 6-1-2-3, Dihedral 6-1-2-5, Dihedral 7-1-2-3, Dihedral 7-1-2-5, Dihedral 1-2-3-4, Dihedral 1-2-3-10, Dihedral 5-2-3-4, Dihedral 5-2-3-10, Dihedral 2-3-4-9, Dihedral 2-3-4-8, Dihedral 10-3-4-9, Dihedral 10-3-4-8, Dihedral 13-11-12-15, Dihedral 13-11-12-16, Dihedral 14-11-12-15, Dihedral 14-11-12-16, Translation-X 1-10, Translation-X 11-16, Translation-Y 1-10, Translation-Y 11-16, Translation-Z 1-10, Translation-Z 11-16, Rotation-A 1-10, Rotation-A 11-16, Rotation-B 1-10, Rotation-B 11-16, Rotation-C 1-10, Rotation-C 11-16]\n",
      " number of primitives is 62\n"
     ]
    }
   ],
   "source": [
    "from se_gsm import SE_GSM\n",
    "gsm = SE_GSM.from_options(reactant=reactant,nnodes=20,driving_coords=[(\"ADD\",4,12),(\"ADD\",1,11)],optimizer=optimizer,print_level=1)"
   ]
  },
  {
   "cell_type": "code",
   "execution_count": 11,
   "metadata": {
    "collapsed": false
   },
   "outputs": [
    {
     "name": "stdout",
     "output_type": "stream",
     "text": [
      "#========================================================#\n",
      "#| \u001b[92m                Topology after union                \u001b[0m |#\n",
      "#========================================================#\n"
     ]
    },
    {
     "data": {
      "image/png": "[encoded data removed]",
      "text/plain": [
       "<Figure size 600x400 with 1 Axes>"
      ]
     },
     "metadata": {},
     "output_type": "display_data"
    }
   ],
   "source": [
    "printcool(\"Topology after union\")\n",
    "plt.plot()\n",
    "nx.draw(gsm.nodes[0].coord_obj.Prims.topology,with_labels=True,font_weight='bold') \n",
    "plt.show()"
   ]
  },
  {
   "cell_type": "code",
   "execution_count": 12,
   "metadata": {
    "collapsed": false
   },
   "outputs": [
    {
     "name": "stdout",
     "output_type": "stream",
     "text": [
      "#========================================================#\n",
      "#| \u001b[92m            Wilson B-Matrix (dq_i/dx_j)             \u001b[0m |#\n",
      "#========================================================#\n"
     ]
    },
    {
     "data": {
      "image/png": "[encoded data removed]",
      "text/plain": [
       "<Figure size 600x400 with 1 Axes>"
      ]
     },
     "metadata": {},
     "output_type": "display_data"
    }
   ],
   "source": [
    "printcool(\"Wilson B-Matrix (dq_i/dx_j)\")\n",
    "Bmatp = gsm.nodes[0].coord_obj.Prims.wilsonB(reactant.xyz)\n",
    "plt.imshow(Bmatp, cmap=plt.cm.get_cmap('RdBu'))\n",
    "plt.show()"
   ]
  },
  {
   "cell_type": "code",
   "execution_count": 13,
   "metadata": {
    "collapsed": false
   },
   "outputs": [
    {
     "name": "stdout",
     "output_type": "stream",
     "text": [
      "#========================================================#\n",
      "#| \u001b[92m                  Coordinate Basis                  \u001b[0m |#\n",
      "#========================================================#\n"
     ]
    },
    {
     "data": {
      "image/png": "[encoded data removed]",
      "text/plain": [
       "<Figure size 600x400 with 1 Axes>"
      ]
     },
     "metadata": {},
     "output_type": "display_data"
    }
   ],
   "source": [
    "printcool(\"Coordinate Basis\")\n",
    "plt.imshow(gsm.nodes[0].coord_basis, cmap=plt.cm.get_cmap('RdBu'))\n",
    "plt.show()"
   ]
  },
  {
   "cell_type": "code",
   "execution_count": 14,
   "metadata": {
    "collapsed": false
   },
   "outputs": [
    {
     "data": {
      "text/plain": [
       "-147197.78262358709"
      ]
     },
     "execution_count": 14,
     "metadata": {},
     "output_type": "execute_result"
    }
   ],
   "source": [
    "gsm.nodes[0].energy"
   ]
  },
  {
   "cell_type": "code",
   "execution_count": null,
   "metadata": {
    "collapsed": true
   },
   "outputs": [],
   "source": []
  }
 ],
 "metadata": {
  "kernelspec": {
   "display_name": "Python 2",
   "language": "python",
   "name": "python2"
  },
  "language_info": {
   "codemirror_mode": {
    "name": "ipython",
    "version": 2
   },
   "file_extension": ".py",
   "mimetype": "text/x-python",
   "name": "python",
   "nbconvert_exporter": "python",
   "pygments_lexer": "ipython2",
   "version": "2.7.15"
  }
 },
 "nbformat": 4,
 "nbformat_minor": 0
}
