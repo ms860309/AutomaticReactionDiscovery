{
 "cells": [
  {
   "cell_type": "code",
   "execution_count": 1,
   "metadata": {
    "collapsed": false
   },
   "outputs": [
    {
     "ename": "ImportError",
     "evalue": "No module named openbabel",
     "output_type": "error",
     "traceback": [
      "\u001b[0;31m---------------------------------------------------------------------------\u001b[0m",
      "\u001b[0;31mImportError\u001b[0m                               Traceback (most recent call last)",
      "\u001b[0;32m<ipython-input-1-a54677b4726d>\u001b[0m in \u001b[0;36m<module>\u001b[0;34m()\u001b[0m\n\u001b[1;32m      1\u001b[0m \u001b[0;32mimport\u001b[0m \u001b[0msys\u001b[0m\u001b[0;34m\u001b[0m\u001b[0m\n\u001b[1;32m      2\u001b[0m \u001b[0msys\u001b[0m\u001b[0;34m.\u001b[0m\u001b[0mpath\u001b[0m\u001b[0;34m.\u001b[0m\u001b[0minsert\u001b[0m\u001b[0;34m(\u001b[0m\u001b[0;36m0\u001b[0m\u001b[0;34m,\u001b[0m\u001b[0;34m'/home/caldaz/module/pyGSM'\u001b[0m\u001b[0;34m)\u001b[0m\u001b[0;34m\u001b[0m\u001b[0m\n\u001b[0;32m----> 3\u001b[0;31m \u001b[0;32mfrom\u001b[0m \u001b[0mmolecule\u001b[0m \u001b[0;32mimport\u001b[0m \u001b[0mMolecule\u001b[0m\u001b[0;34m\u001b[0m\u001b[0m\n\u001b[0m\u001b[1;32m      4\u001b[0m \u001b[0;32mfrom\u001b[0m \u001b[0mpes\u001b[0m \u001b[0;32mimport\u001b[0m \u001b[0mPES\u001b[0m\u001b[0;34m\u001b[0m\u001b[0m\n\u001b[1;32m      5\u001b[0m \u001b[0;32mfrom\u001b[0m \u001b[0mavg_pes\u001b[0m \u001b[0;32mimport\u001b[0m \u001b[0mAvg_PES\u001b[0m\u001b[0;34m\u001b[0m\u001b[0m\n",
      "\u001b[0;32m/home/caldaz/module/pyGSM/molecule.py\u001b[0m in \u001b[0;36m<module>\u001b[0;34m()\u001b[0m\n\u001b[1;32m      9\u001b[0m \u001b[0;32mimport\u001b[0m \u001b[0munits\u001b[0m \u001b[0;32mas\u001b[0m \u001b[0mun\u001b[0m\u001b[0;34m\u001b[0m\u001b[0m\n\u001b[1;32m     10\u001b[0m \u001b[0;32mfrom\u001b[0m \u001b[0mcollections\u001b[0m \u001b[0;32mimport\u001b[0m \u001b[0mCounter\u001b[0m\u001b[0;34m\u001b[0m\u001b[0m\n\u001b[0;32m---> 11\u001b[0;31m \u001b[0;32mimport\u001b[0m \u001b[0mopenbabel\u001b[0m \u001b[0;32mas\u001b[0m \u001b[0mob\u001b[0m\u001b[0;34m\u001b[0m\u001b[0m\n\u001b[0m\u001b[1;32m     12\u001b[0m \u001b[0;32mimport\u001b[0m \u001b[0mpybel\u001b[0m \u001b[0;32mas\u001b[0m \u001b[0mpb\u001b[0m\u001b[0;34m\u001b[0m\u001b[0m\n\u001b[1;32m     13\u001b[0m \u001b[0;32mimport\u001b[0m \u001b[0mos\u001b[0m\u001b[0;34m\u001b[0m\u001b[0m\n",
      "\u001b[0;31mImportError\u001b[0m: No module named openbabel"
     ]
    }
   ],
   "source": [
    "import sys\n",
    "sys.path.insert(0,'/home/caldaz/module/pyGSM')\n",
    "from molecule import Molecule\n",
    "from pes import PES\n",
    "from avg_pes import Avg_PES\n",
    "import numpy as np\n",
    "from nifty import pvec1d,pmat2d\n",
    "import matplotlib\n",
    "import matplotlib.pyplot as plt\n",
    "from pytc import *\n",
    "import manage_xyz\n",
    "from rhf_lot import *\n",
    "from psiw import *\n",
    "from nifty import getAllCoords,getAtomicSymbols,click,printcool\n",
    "import pybel as pb\n",
    "%matplotlib inline"
   ]
  },
  {
   "cell_type": "code",
   "execution_count": null,
   "metadata": {
    "collapsed": false
   },
   "outputs": [],
   "source": [
    "printcool(\"Build resources\")\n",
    "resources = ls.ResourceList.build()\n",
    "printcool('{}'.format(resources))"
   ]
  },
  {
   "cell_type": "code",
   "execution_count": null,
   "metadata": {
    "collapsed": false
   },
   "outputs": [],
   "source": [
    "printcool(\"build the Lightspeed (pyTC) objecs\")\n",
    "qmmm = QMMM.from_prmtop(\n",
    "    prmtopfile='data/system.prmtop',\n",
    "    inpcrdfile='data/system.inpcrd',\n",
    "    qmindsfile='data/system.qm',\n",
    "    charge=0.,\n",
    "    )\n",
    "geom = geometry.Geometry.build(\n",
    "    resources=resources,\n",
    "    qmmm=qmmm,\n",
    "    basisname='3-21g',\n",
    "    )\n",
    "print(geom)\n",
    "ref = RHF(RHF.default_options().set_values({\n",
    "    'geometry' : geom, \n",
    "    'dft_functional' : 'B3LYP',\n",
    "    'dft_grid_name' : 'SG0',\n",
    "    }))\n",
    "psiw = RHF_LOT.from_options(rhf=ref)\n"
   ]
  },
  {
   "cell_type": "code",
   "execution_count": null,
   "metadata": {
    "collapsed": false
   },
   "outputs": [],
   "source": [
    "####### =>  Build the pyGSM objects <= #########\n",
    "# => level of theory <= #\n",
    "printcool(\"Build the pyGSM level of theory (LOT) object\")\n",
    "mol=next(pb.readfile('pdb','data/system.pdb'))\n",
    "coords = getAllCoords(mol)\n",
    "atoms = getAtomicSymbols(mol)\n",
    "geom= manage_xyz.combine_atom_xyz(atoms,coords)\n",
    "states=[(1,0)]\n",
    "lot = PyTC.from_options(states=states,psiw=psiw,geom=geom)\n",
    "\n",
    "# => Create PES objects <= #\n",
    "printcool(\"Building the PES objects\")\n",
    "pes = PES.from_options(lot=lot,ad_idx=0,multiplicity=1)\n"
   ]
  },
  {
   "cell_type": "code",
   "execution_count": null,
   "metadata": {
    "collapsed": false
   },
   "outputs": [],
   "source": [
    "# => Molecule <= #\n",
    "printcool(\"Build the pyGSM Molecule object \\n with Translation and Rotation Internal Coordinates (TRIC)\")\n",
    "TRIC_molecule = Molecule.from_options(fnm='data/system.pdb',PES=pes,coordinate_type=\"TRIC\")\n"
   ]
  },
  {
   "cell_type": "code",
   "execution_count": null,
   "metadata": {
    "collapsed": false,
    "scrolled": true
   },
   "outputs": [],
   "source": [
    "printcool(\"Build the pyGSM Molecule object \\n with Delocalized Coordinates (DLC)\")\n",
    "DLC_molecule = Molecule.from_options(fnm='data/system.pdb',PES=pes,coordinate_type=\"DLC\")"
   ]
  },
  {
   "cell_type": "code",
   "execution_count": null,
   "metadata": {
    "collapsed": true
   },
   "outputs": [],
   "source": [
    "import timeit  \n",
    "n=5\n",
    "\n",
    "def update_coords(M):\n",
    "    M.update_coordinate_basis()\n"
   ]
  },
  {
   "cell_type": "code",
   "execution_count": null,
   "metadata": {
    "collapsed": false
   },
   "outputs": [],
   "source": [
    "printcool(\"Forming coordinate experiment!\\n running update coords for nsteps={}\".format(n))\n",
    "total_time= timeit.timeit(stmt='update_coords(TRIC_molecule)',setup=\"from __main__ import update_coords, TRIC_molecule\",number=n)\n",
    "avg_time = total_time/n\n",
    "print \"total time = \",total_time\n",
    "print \"avg time = \",avg_time"
   ]
  },
  {
   "cell_type": "code",
   "execution_count": null,
   "metadata": {
    "collapsed": true
   },
   "outputs": [],
   "source": [
    "printcool(\"Wilson B-Matrix (dq_i/dx_j)\")\n",
    "#plt.figure(figsize = (100,100))\n",
    "Bmatp = M.coord_obj.Prims.wilsonB(M.xyz)\n",
    "plt.imshow(Bmatp, cmap=plt.cm.get_cmap('RdBu'))\n",
    "plt.show()"
   ]
  },
  {
   "cell_type": "code",
   "execution_count": null,
   "metadata": {
    "collapsed": true
   },
   "outputs": [],
   "source": [
    "printcool(\"Wilson B-Matrix in coordinate basis\")\n",
    "Bmat = M.coord_obj.wilsonB(M.xyz)\n",
    "plt.imshow(Bmat, cmap=plt.cm.get_cmap('RdBu'))\n",
    "plt.show()"
   ]
  },
  {
   "cell_type": "code",
   "execution_count": null,
   "metadata": {
    "collapsed": true
   },
   "outputs": [],
   "source": [
    "printcool(\"G-Matrix (BB^T in basis of prims)\")\n",
    "plt.figure(figsize = (100,100))\n",
    "G = M.coord_obj.Prims.GMatrix(M.xyz)\n",
    "plt.imshow(G, cmap=plt.cm.get_cmap('RdBu'))\n",
    "plt.show()"
   ]
  },
  {
   "cell_type": "code",
   "execution_count": null,
   "metadata": {
    "collapsed": true
   },
   "outputs": [],
   "source": [
    "printcool(\"G-Matrix in coordinate basis\")\n",
    "G = M.coord_obj.GMatrix(M.xyz)\n",
    "plt.figure(figsize = (100,100))\n",
    "plt.imshow(G, cmap=plt.cm.get_cmap('RdBu'))\n",
    "plt.show()"
   ]
  },
  {
   "cell_type": "code",
   "execution_count": null,
   "metadata": {
    "collapsed": true
   },
   "outputs": [],
   "source": [
    "print(M.coord_obj.Prims.nprims_frag)"
   ]
  },
  {
   "cell_type": "code",
   "execution_count": null,
   "metadata": {
    "collapsed": true
   },
   "outputs": [],
   "source": [
    "print(M.coord_obj.Prims.natoms_frags)"
   ]
  }
 ],
 "metadata": {
  "kernelspec": {
   "display_name": "Python 2",
   "language": "python",
   "name": "python2"
  },
  "language_info": {
   "codemirror_mode": {
    "name": "ipython",
    "version": 2
   },
   "file_extension": ".py",
   "mimetype": "text/x-python",
   "name": "python",
   "nbconvert_exporter": "python",
   "pygments_lexer": "ipython2",
   "version": "2.7.13"
  }
 },
 "nbformat": 4,
 "nbformat_minor": 0
}
