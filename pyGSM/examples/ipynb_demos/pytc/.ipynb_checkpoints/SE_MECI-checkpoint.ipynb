{
 "cells": [
  {
   "cell_type": "code",
   "execution_count": 1,
   "metadata": {
    "collapsed": false
   },
   "outputs": [
    {
     "ename": "ImportError",
     "evalue": "No module named lightspeed",
     "output_type": "error",
     "traceback": [
      "\u001b[1;31m---------------------------------------------------------------------------\u001b[0m",
      "\u001b[1;31mImportError\u001b[0m                               Traceback (most recent call last)",
      "\u001b[1;32m<ipython-input-1-debf60a09ef1>\u001b[0m in \u001b[0;36m<module>\u001b[1;34m()\u001b[0m\n\u001b[0;32m      1\u001b[0m \u001b[1;32mimport\u001b[0m \u001b[0msys\u001b[0m\u001b[1;33m\u001b[0m\u001b[0m\n\u001b[0;32m      2\u001b[0m \u001b[0msys\u001b[0m\u001b[1;33m.\u001b[0m\u001b[0mpath\u001b[0m\u001b[1;33m.\u001b[0m\u001b[0minsert\u001b[0m\u001b[1;33m(\u001b[0m\u001b[1;36m0\u001b[0m\u001b[1;33m,\u001b[0m\u001b[1;34m'/home/caldaz/module/pyGSM'\u001b[0m\u001b[1;33m)\u001b[0m\u001b[1;33m\u001b[0m\u001b[0m\n\u001b[1;32m----> 3\u001b[1;33m \u001b[1;32mfrom\u001b[0m \u001b[0mpytc\u001b[0m \u001b[1;32mimport\u001b[0m \u001b[0mPyTC\u001b[0m\u001b[1;33m\u001b[0m\u001b[0m\n\u001b[0m\u001b[0;32m      4\u001b[0m \u001b[1;32mfrom\u001b[0m \u001b[0mpes\u001b[0m \u001b[1;32mimport\u001b[0m \u001b[0mPES\u001b[0m\u001b[1;33m\u001b[0m\u001b[0m\n\u001b[0;32m      5\u001b[0m \u001b[1;32mfrom\u001b[0m \u001b[0meigenvector_follow\u001b[0m \u001b[1;32mimport\u001b[0m \u001b[0meigenvector_follow\u001b[0m\u001b[1;33m\u001b[0m\u001b[0m\n",
      "\u001b[1;32m/home/caldaz/module/pyGSM/pytc.py\u001b[0m in \u001b[0;36m<module>\u001b[1;34m()\u001b[0m\n\u001b[1;32m----> 1\u001b[1;33m \u001b[1;32mimport\u001b[0m \u001b[0mlightspeed\u001b[0m \u001b[1;32mas\u001b[0m \u001b[0mls\u001b[0m\u001b[1;33m\u001b[0m\u001b[0m\n\u001b[0m\u001b[0;32m      2\u001b[0m \u001b[1;32mimport\u001b[0m \u001b[0mpsiw\u001b[0m\u001b[1;33m\u001b[0m\u001b[0m\n\u001b[0;32m      3\u001b[0m \u001b[1;32mfrom\u001b[0m \u001b[0mbase_lot\u001b[0m \u001b[1;32mimport\u001b[0m \u001b[0mLot\u001b[0m\u001b[1;33m\u001b[0m\u001b[0m\n\u001b[0;32m      4\u001b[0m \u001b[1;32mimport\u001b[0m \u001b[0mnumpy\u001b[0m \u001b[1;32mas\u001b[0m \u001b[0mnp\u001b[0m\u001b[1;33m\u001b[0m\u001b[0m\n\u001b[0;32m      5\u001b[0m \u001b[1;32mimport\u001b[0m \u001b[0mmanage_xyz\u001b[0m\u001b[1;33m\u001b[0m\u001b[0m\n",
      "\u001b[1;31mImportError\u001b[0m: No module named lightspeed"
     ]
    }
   ],
   "source": [
    "import sys\n",
    "sys.path.insert(0,'/home/caldaz/module/pyGSM')\n",
    "from pytc import PyTC\n",
    "from pes import PES\n",
    "from eigenvector_follow import eigenvector_follow\n",
    "from psiw import *\n",
    "from casci_lot_svd import CASCI_LOT_SVD\n",
    "from nifty import pvec1d,pmat2d,click,printcool\n",
    "from molecule import Molecule\n",
    "from se_cross import SE_Cross\n",
    "import manage_xyz\n",
    "from penalty_pes import Penalty_PES"
   ]
  },
  {
   "cell_type": "code",
   "execution_count": null,
   "metadata": {
    "collapsed": true
   },
   "outputs": [],
   "source": [
    "##### => Job Data <= #####\n",
    "states = [(1,0),(1,1)]\n",
    "charge=0\n",
    "nocc=7\n",
    "nactive=2\n",
    "basis='6-31gs'\n",
    "filepath = '../data/ethylene.xyz'"
   ]
  },
  {
   "cell_type": "code",
   "execution_count": null,
   "metadata": {
    "collapsed": true
   },
   "outputs": [],
   "source": [
    "\n",
    "#### => PSIW Obj <= ######\n",
    "printcool(\"Build resources\")\n",
    "resources = ls.ResourceList.build()\n",
    "printcool('{}'.format(resources))\n",
    "\n",
    "molecule = ls.Molecule.from_xyz_file(filepath)\n",
    "geom = geometry.Geometry.build(\n",
    "    resources=resources,\n",
    "    molecule=molecule,\n",
    "    basisname=basis,\n",
    "    )\n",
    "printcool('{}'.format(geom))\n",
    "\n",
    "ref = RHF.from_options(\n",
    "     geometry= geom, \n",
    "     g_convergence=1.0E-6,\n",
    "     thre_sp=1.0E-15,\n",
    "     grad_thre_dp=1.0E-7,\n",
    "     diis_max_vecs=10,\n",
    "     fomo=True,\n",
    "     fomo_method='gaussian',\n",
    "     fomo_temp=0.3,\n",
    "     fomo_nocc=nocc,\n",
    "     fomo_nact=nactive,\n",
    "     print_level=1,\n",
    "    )\n",
    "ref.compute_energy()\n",
    "casci = CASCI.from_options(\n",
    "    reference=ref,\n",
    "    nocc=nocc,\n",
    "    nact=nactive,\n",
    "    grad_thre_dp=1.0E-7,\n",
    "    grad_thre_sp=1.0E-16,\n",
    "    thre_dp = 1.0E-7,  \n",
    "    thre_sp=1.0E-16,\n",
    "    nalpha=nactive/2,\n",
    "    nbeta=nactive/2,\n",
    "    S_inds=[0],\n",
    "    S_nstates=[2],\n",
    "    print_level=1,\n",
    "    )\n",
    "casci.compute_energy()\n",
    "\n",
    "psiw = CASCI_LOT_SVD.from_options(\n",
    "    casci=casci,\n",
    "    svd_reference=casci,  \n",
    "    rhf_guess=True,\n",
    "    rhf_mom=True,\n",
    "    orbital_coincidence='core',\n",
    "    state_coincidence='full',\n",
    "    )"
   ]
  },
  {
   "cell_type": "code",
   "execution_count": null,
   "metadata": {
    "collapsed": true
   },
   "outputs": [],
   "source": [
    "####### =>  Build the pyGSM objects <= #########\n",
    "# level of theory\n",
    "printcool(\"Build the pyGSM Level of Theory object (LOT)\")\n",
    "lot=PyTC.from_options(states=[(1,0),(1,1)],extra_kwargs={'psiw':psiw},do_coupling=False,fnm=filepath) \n",
    "\n",
    "# => Create PES objects <= #\n",
    "printcool(\"Building the PES objects\")\n",
    "pes1 = PES.from_options(lot=lot,ad_idx=states[0][1],multiplicity=states[0][0])\n",
    "pes2 = PES.from_options(lot=lot,ad_idx=states[1][1],multiplicity=states[1][0])\n",
    "pes = Penalty_PES(pes1,pes2,lot)\n",
    "\n",
    "# => Molecule <= #\n",
    "printcool(\"Build the pyGSM Molecule object \\n with Translation and Rotation Internal Coordinates (TRIC)\")\n",
    "M = Molecule.from_options(fnm=filepath,PES=pes,coordinate_type=\"TRIC\")\n",
    "\n",
    "# => Optimizer object <= #\n",
    "ef = eigenvector_follow.from_options(DMAX=0.05,print_level=1) #Linesearch=NoLineSearch\n",
    "\n",
    "# => Create GSM object <= #\n",
    "printcool(\" Building the GSM object\")\n",
    "driving_coords = [('TORSION',2,1,4,6,120.),('TORSION',2,1,4,5,180.)] \n",
    "#extra torsion here to ensure proper orientation w.r.t et_meci\n",
    "gsm = SE_Cross.from_options(reactant=M,nnodes=20,driving_coords=driving_coords,DQMAG_MAX=0.5,BDIST_RATIO=0.75,optimizer=ef)"
   ]
  },
  {
   "cell_type": "code",
   "execution_count": null,
   "metadata": {
    "collapsed": true
   },
   "outputs": [],
   "source": [
    "# => Run GSM <= #\n",
    "print ' Starting GSM '\n",
    "gsm.go_gsm(opt_steps=5)\n",
    "\n"
   ]
  },
  {
   "cell_type": "code",
   "execution_count": null,
   "metadata": {
    "collapsed": true
   },
   "outputs": [],
   "source": [
    "# => post processing <= #\n",
    "manage_xyz.write_xyz('et_meci.xyz',gsm.nodes[gsm.nR].geometry,scale=1.)\n",
    "\n",
    "#Save a npz file\n",
    "Cocc= ls.Tensor.array(gsm.nodes[gsm.nR].PES.lot.psiw.casci.reference.tensors['Cocc'])\n",
    "Cact= ls.Tensor.array(gsm.nodes[gsm.nR].PES.lot.psiw.casci.reference.tensors['Cact'])\n",
    "D   = ls.Tensor.array(gsm.nodes[gsm.nR].PES.lot.psiw.casci.reference.tensors['D'])\n",
    "np.savez(\n",
    "    'Cmom.npz',\n",
    "    Cocc=Cocc,\n",
    "    Cact=Cact,\n",
    "    D=D\n",
    "    )"
   ]
  }
 ],
 "metadata": {
  "kernelspec": {
   "display_name": "Python 2",
   "language": "python",
   "name": "python2"
  },
  "language_info": {
   "codemirror_mode": {
    "name": "ipython",
    "version": 2
   },
   "file_extension": ".py",
   "mimetype": "text/x-python",
   "name": "python",
   "nbconvert_exporter": "python",
   "pygments_lexer": "ipython2",
   "version": "2.7.15"
  }
 },
 "nbformat": 4,
 "nbformat_minor": 0
}
