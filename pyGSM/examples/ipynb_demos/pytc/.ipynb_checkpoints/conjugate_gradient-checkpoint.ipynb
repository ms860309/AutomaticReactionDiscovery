{
 "cells": [
  {
   "cell_type": "code",
   "execution_count": 1,
   "metadata": {
    "collapsed": false
   },
   "outputs": [],
   "source": [
    "import sys\n",
    "sys.path.insert(0,'/home/caldaz/module/pyGSM')\n",
    "from molecule import Molecule\n",
    "from pes import PES\n",
    "from avg_pes import Avg_PES\n",
    "import numpy as np\n",
    "from nifty import pvec1d,pmat2d\n",
    "import matplotlib\n",
    "import matplotlib.pyplot as plt\n",
    "from pytc import *\n",
    "import manage_xyz\n",
    "from rhf_lot import *\n",
    "from psiw import *\n",
    "from nifty import getAllCoords,getAtomicSymbols,click,printcool\n",
    "import pybel as pb\n",
    "%matplotlib inline"
   ]
  },
  {
   "cell_type": "code",
   "execution_count": 2,
   "metadata": {
    "collapsed": false
   },
   "outputs": [
    {
     "name": "stdout",
     "output_type": "stream",
     "text": [
      "#========================================================#\n",
      "#| \u001b[92m                  Build resources                   \u001b[0m |#\n",
      "#========================================================#\n",
      "#==============================================================#\n",
      "#| \u001b[92m                      ResourceList:                       \u001b[0m |#\n",
      "#| \u001b[92m                      CPU threads:  16                    \u001b[0m |#\n",
      "#| \u001b[92m                      GPU contexts:  8                    \u001b[0m |#\n",
      "#| \u001b[92m                    GPU context details:                  \u001b[0m |#\n",
      "#| \u001b[92m   N  ID                 Name  CC  CPU Buffer  GPU Buffer \u001b[0m |#\n",
      "#| \u001b[92m   0   0    GeForce GTX TITAN 3.5        1024        1024 \u001b[0m |#\n",
      "#| \u001b[92m   1   1    GeForce GTX TITAN 3.5        1024        1024 \u001b[0m |#\n",
      "#| \u001b[92m   2   2    GeForce GTX TITAN 3.5        1024        1024 \u001b[0m |#\n",
      "#| \u001b[92m   3   3    GeForce GTX TITAN 3.5        1024        1024 \u001b[0m |#\n",
      "#| \u001b[92m   4   4    GeForce GTX TITAN 3.5        1024        1024 \u001b[0m |#\n",
      "#| \u001b[92m   5   5    GeForce GTX TITAN 3.5        1024        1024 \u001b[0m |#\n",
      "#| \u001b[92m   6   6    GeForce GTX TITAN 3.5        1024        1024 \u001b[0m |#\n",
      "#| \u001b[92m   7   7    GeForce GTX TITAN 3.5        1024        1024 \u001b[0m |#\n",
      "#| \u001b[92m                                                          \u001b[0m |#\n",
      "#==============================================================#\n"
     ]
    },
    {
     "data": {
      "text/plain": [
       "'----------------------------------------------------------------\\n'"
      ]
     },
     "execution_count": 2,
     "metadata": {},
     "output_type": "execute_result"
    }
   ],
   "source": [
    "printcool(\"Build resources\")\n",
    "resources = ls.ResourceList.build()\n",
    "printcool('{}'.format(resources))"
   ]
  },
  {
   "cell_type": "code",
   "execution_count": 3,
   "metadata": {
    "collapsed": false
   },
   "outputs": [
    {
     "name": "stdout",
     "output_type": "stream",
     "text": [
      "#========================================================#\n",
      "#| \u001b[92m         build the Lightspeed (pyTC) objecs         \u001b[0m |#\n",
      "#========================================================#\n",
      "#========================================================#\n",
      "#| \u001b[92m                     Geometry:                      \u001b[0m |#\n",
      "#| \u001b[92m                     QMMM = False                   \u001b[0m |#\n",
      "#| \u001b[92m                     -D3  = False                   \u001b[0m |#\n",
      "#| \u001b[92m                     ECP  = False                   \u001b[0m |#\n",
      "#| \u001b[92m                                                    \u001b[0m |#\n",
      "#| \u001b[92m           Molecule: twisted_fluoroethene           \u001b[0m |#\n",
      "#| \u001b[92m              Natom        =           6            \u001b[0m |#\n",
      "#| \u001b[92m              Charge       =       0.000            \u001b[0m |#\n",
      "#| \u001b[92m              Multiplicity =       1.000            \u001b[0m |#\n",
      "#| \u001b[92m                                                    \u001b[0m |#\n",
      "#| \u001b[92m                   Basis: 6-31gs                    \u001b[0m |#\n",
      "#| \u001b[92m                   nao     =    51                  \u001b[0m |#\n",
      "#| \u001b[92m                   ncart   =    51                  \u001b[0m |#\n",
      "#| \u001b[92m                   nprim   =    57                  \u001b[0m |#\n",
      "#| \u001b[92m                   nshell  =    24                  \u001b[0m |#\n",
      "#| \u001b[92m                   natom   =     6                  \u001b[0m |#\n",
      "#| \u001b[92m                   pure?   =    No                  \u001b[0m |#\n",
      "#| \u001b[92m                   max L   =     2                  \u001b[0m |#\n",
      "#| \u001b[92m                                                    \u001b[0m |#\n",
      "#| \u001b[92m                Basis: cc-pvdz-minao                \u001b[0m |#\n",
      "#| \u001b[92m                   nao     =    18                  \u001b[0m |#\n",
      "#| \u001b[92m                   ncart   =    18                  \u001b[0m |#\n",
      "#| \u001b[92m                   nprim   =    78                  \u001b[0m |#\n",
      "#| \u001b[92m                   nshell  =    12                  \u001b[0m |#\n",
      "#| \u001b[92m                   natom   =     6                  \u001b[0m |#\n",
      "#| \u001b[92m                   pure?   =   Yes                  \u001b[0m |#\n",
      "#| \u001b[92m                   max L   =     1                  \u001b[0m |#\n",
      "#| \u001b[92m                                                    \u001b[0m |#\n",
      "#========================================================#\n",
      "==> RHF <==\n",
      "\n",
      "External Environment:\n",
      "  Enuc =   6.8246411458977590E+01\n",
      "  Eext =   6.8246411458977590E+01\n",
      "\n",
      "SCF Iterations:\n",
      "\n",
      "Iter:                   Energy          dE          dG  Time[s]\n",
      "   0:  -1.7599180090279930E+02  -1.760E+02   1.245E+00    8.153\n",
      "   1:  -1.7690319850470311E+02  -9.114E-01   3.516E-02    0.059\n",
      "   2:  -1.7693984696942860E+02  -3.665E-02   1.845E-02    0.047\n",
      "   3:  -1.7694805805048335E+02  -8.211E-03   5.416E-03    0.019\n",
      "   4:  -1.7694885438088772E+02  -7.963E-04   1.160E-03    0.052\n",
      "   5:  -1.7694890470337143E+02  -5.032E-05   3.934E-04    0.017\n",
      "   6:  -1.7694891064689796E+02  -5.944E-06   1.160E-04    0.029\n",
      "   7:  -1.7694891137207631E+02  -7.252E-07   4.130E-05    0.027\n",
      "   8:  -1.7694891145963794E+02  -8.756E-08   8.695E-06    0.026\n",
      "   9:  -1.7694891146544293E+02  -5.805E-09   2.101E-06    0.015\n",
      "  10:  -1.7694891146574329E+02  -3.004E-10   6.545E-07    0.016\n",
      "\n",
      "SCF Converged\n",
      "\n",
      "SCF Energy =  -1.7694891146574329E+02\n",
      "\n",
      "SCF Internal Energy (E)     =  -1.7649324353178440E+02\n",
      "SCF Entropy Term (-T * S)   =  -4.5566793395888910E-01\n",
      "SCF Free Energy (E - T * S) =  -1.7694891146574329E+02\n",
      "\n",
      "==> End RHF <==\n",
      "\n",
      "==> CASCI <==\n",
      "\n",
      "External Environment:\n",
      "  Enuc =   6.8246411458977590E+01\n",
      "  Eext =   6.8246411458977590E+01\n",
      "\n",
      "Core Energy =  -175.66516750321864\n",
      "\n",
      "=> S=0 States <=\n",
      "\n",
      "CASCI S=0 Energies:\n",
      "\n",
      "   I:                  Total E\n",
      "   0:  -1.7674088210471839E+02\n",
      "   1:  -1.7656769612747087E+02\n",
      "\n",
      "=> End S=0 States <=\n",
      "\n",
      "==> End CASCI <==\n",
      "\n"
     ]
    }
   ],
   "source": [
    "printcool(\"build the Lightspeed (pyTC) objecs\")\n",
    "\n",
    "filepath='../data/twisted_fluoroethene.xyz'\n",
    "nocc=11\n",
    "\n",
    "molecule = ls.Molecule.from_xyz_file(filepath)\n",
    "geom = geometry.Geometry.build(\n",
    "    resources=resources,\n",
    "    molecule=molecule,\n",
    "    basisname='6-31gs',\n",
    "    )\n",
    "printcool('{}'.format(geom))\n",
    "\n",
    "ref = RHF.from_options(\n",
    "     geometry= geom, \n",
    "     g_convergence=1.0E-6,\n",
    "     fomo=True,\n",
    "     fomo_method='gaussian',\n",
    "     fomo_temp=0.3,\n",
    "     fomo_nocc=nocc,\n",
    "     fomo_nact=2,\n",
    "     print_level=1,\n",
    "    )\n",
    "ref.compute_energy()\n",
    "casci = CASCI.from_options(\n",
    "    reference=ref,\n",
    "    nocc=nocc,\n",
    "    nact=2,\n",
    "    nalpha=1,\n",
    "    nbeta=1,\n",
    "    S_inds=[0],\n",
    "    S_nstates=[2],\n",
    "    print_level=1,\n",
    "    )\n",
    "casci.compute_energy()\n",
    "psiw = CASCI_LOT.from_options(\n",
    "    casci=casci,\n",
    "    rhf_guess=True,\n",
    "    rhf_mom=True,\n",
    "    orbital_coincidence='core',\n",
    "    state_coincidence='full',\n",
    "    )"
   ]
  },
  {
   "cell_type": "code",
   "execution_count": 4,
   "metadata": {
    "collapsed": false
   },
   "outputs": [
    {
     "name": "stdout",
     "output_type": "stream",
     "text": [
      "#========================================================#\n",
      "#| \u001b[92m    Build the pyGSM Level of Theory object (LOT)    \u001b[0m |#\n",
      "#========================================================#\n",
      " initializing LOT from file\n"
     ]
    }
   ],
   "source": [
    "printcool(\"Build the pyGSM Level of Theory object (LOT)\")\n",
    "lot=PyTC.from_options(states=[(1,0),(1,1)],extra_kwargs={'psiw':psiw},fnm=filepath)"
   ]
  },
  {
   "cell_type": "code",
   "execution_count": 5,
   "metadata": {
    "collapsed": false
   },
   "outputs": [
    {
     "name": "stdout",
     "output_type": "stream",
     "text": [
      "#===========================================================#\n",
      "#| \u001b[92m Build the pyGSM Potential Energy Surface Object (PES) \u001b[0m |#\n",
      "#===========================================================#\n"
     ]
    }
   ],
   "source": [
    "printcool(\"Build the pyGSM Potential Energy Surface Object (PES)\")\n",
    "pes = PES.from_options(lot=lot,ad_idx=0,multiplicity=1)\n"
   ]
  },
  {
   "cell_type": "code",
   "execution_count": 6,
   "metadata": {
    "collapsed": false
   },
   "outputs": [
    {
     "name": "stdout",
     "output_type": "stream",
     "text": [
      "#================================================================#\n",
      "#| \u001b[92m              Build the pyGSM Molecule object               \u001b[0m |#\n",
      "#| \u001b[92m  with Translation and Rotation Internal Coordinates (TRIC) \u001b[0m |#\n",
      "#================================================================#\n",
      " reading cartesian coordinates from file\n",
      " making primitives from options!\n",
      " making primitive Hessian\n",
      " forming Hessian in basis\n"
     ]
    }
   ],
   "source": [
    "printcool(\"Build the pyGSM Molecule object \\n with Translation and Rotation Internal Coordinates (TRIC)\")\n",
    "M = Molecule.from_options(fnm=filepath,PES=pes,coordinate_type=\"TRIC\")"
   ]
  },
  {
   "cell_type": "code",
   "execution_count": 7,
   "metadata": {
    "collapsed": false
   },
   "outputs": [],
   "source": [
    "from conjugate_gradient import conjugate_gradient\n",
    "from _linesearch import backtrack\n",
    "cg = conjugate_gradient.from_options(Linesearch=backtrack,DMAX=0.25)"
   ]
  },
  {
   "cell_type": "code",
   "execution_count": 8,
   "metadata": {
    "collapsed": false,
    "scrolled": false
   },
   "outputs": [
    {
     "name": "stdout",
     "output_type": "stream",
     "text": [
      " initial E 0.0000\n",
      " On opt step 1 \n",
      " actual_step= 0.68\n",
      " reducing step, new step = 0.25\n",
      " Linesearch\n",
      " Done linesearch\n",
      " dEstep=-43.2588\n",
      " Opt step: 1 E: -43.2588 gradrms: 0.16090 ss: 0.250 DMAX: 0.250\n",
      " maximum displacement component 0.09 (au)\n",
      " maximum gradient component 0.03 (au)\n",
      "\n",
      " On opt step 2 \n",
      " actual_step= 0.68\n",
      " reducing step, new step = 0.25\n",
      " Linesearch\n",
      " [INFO] not satisfy sufficient decrease condition.\n",
      " step 0.12\n",
      " [INFO] not satisfy sufficient decrease condition.\n",
      " step 0.06\n",
      " [INFO] not satisfy sufficient decrease condition.\n",
      " step 0.03\n",
      " [INFO] not satisfy sufficient decrease condition.\n",
      " step 0.02\n",
      " [INFO] not satisfy sufficient decrease condition.\n",
      " step 0.01\n",
      " [INFO] the iteration of linesearch is many\n",
      " Done linesearch\n",
      " dEstep=0.0255\n",
      " Opt step: 2 E: -43.2333 gradrms: 0.02128 ss: 0.016 DMAX: 0.250\n",
      " maximum displacement component 0.00 (au)\n",
      " maximum gradient component 0.02 (au)\n",
      "\n",
      " On opt step 3 \n",
      " actual_step= 0.68\n",
      " reducing step, new step = 0.25\n",
      " Linesearch\n",
      " [INFO] not satisfy sufficient decrease condition.\n",
      " step 0.12\n",
      " [INFO] not satisfy sufficient decrease condition.\n",
      " step 0.06\n",
      " [INFO] not satisfy sufficient decrease condition.\n",
      " step 0.03\n",
      " [INFO] not satisfy sufficient decrease condition.\n",
      " step 0.02\n",
      " [INFO] not satisfy sufficient decrease condition.\n",
      " step 0.01\n",
      " [INFO] the iteration of linesearch is many\n",
      " Done linesearch\n",
      " dEstep=0.2149\n",
      " Opt step: 3 E: -43.0184 gradrms: 0.02171 ss: 0.016 DMAX: 0.250\n",
      " maximum displacement component 0.00 (au)\n",
      " maximum gradient component 0.02 (au)\n",
      "\n",
      " On opt step 4 \n",
      " actual_step= 0.68\n",
      " reducing step, new step = 0.25\n",
      " Linesearch\n",
      " [INFO] not satisfy sufficient decrease condition.\n",
      " step 0.12\n"
     ]
    },
    {
     "ename": "KeyboardInterrupt",
     "evalue": "",
     "output_type": "error",
     "traceback": [
      "\u001b[1;31m---------------------------------------------------------------------------\u001b[0m",
      "\u001b[1;31mKeyboardInterrupt\u001b[0m                         Traceback (most recent call last)",
      "\u001b[1;32m<ipython-input-8-16f779ab2c2d>\u001b[0m in \u001b[0;36m<module>\u001b[1;34m()\u001b[0m\n\u001b[1;32m----> 1\u001b[1;33m \u001b[0mgeoms\u001b[0m\u001b[1;33m,\u001b[0m\u001b[0menergy\u001b[0m \u001b[1;33m=\u001b[0m \u001b[0mcg\u001b[0m\u001b[1;33m.\u001b[0m\u001b[0moptimize\u001b[0m\u001b[1;33m(\u001b[0m\u001b[0mM\u001b[0m\u001b[1;33m,\u001b[0m\u001b[0mM\u001b[0m\u001b[1;33m.\u001b[0m\u001b[0menergy\u001b[0m\u001b[1;33m,\u001b[0m\u001b[1;34m'UNCONSTRAINED'\u001b[0m\u001b[1;33m,\u001b[0m\u001b[1;36m50\u001b[0m\u001b[1;33m)\u001b[0m\u001b[1;33m\u001b[0m\u001b[0m\n\u001b[0m",
      "\u001b[1;32m/home/caldaz/module/pyGSM/conjugate_gradient.py\u001b[0m in \u001b[0;36moptimize\u001b[1;34m(self, molecule, refE, opt_type, opt_steps, ictan)\u001b[0m\n\u001b[0;32m    100\u001b[0m             \u001b[1;31m# line search\u001b[0m\u001b[1;33m\u001b[0m\u001b[1;33m\u001b[0m\u001b[0m\n\u001b[0;32m    101\u001b[0m             \u001b[1;32mprint\u001b[0m\u001b[1;33m(\u001b[0m\u001b[1;34m\" Linesearch\"\u001b[0m\u001b[1;33m)\u001b[0m\u001b[1;33m\u001b[0m\u001b[0m\n\u001b[1;32m--> 102\u001b[1;33m             \u001b[0mls\u001b[0m \u001b[1;33m=\u001b[0m \u001b[0mself\u001b[0m\u001b[1;33m.\u001b[0m\u001b[0mLinesearch\u001b[0m\u001b[1;33m(\u001b[0m\u001b[0mn\u001b[0m\u001b[1;33m,\u001b[0m \u001b[0mx\u001b[0m\u001b[1;33m,\u001b[0m \u001b[0mfx\u001b[0m\u001b[1;33m,\u001b[0m \u001b[0mg\u001b[0m\u001b[1;33m,\u001b[0m \u001b[0md\u001b[0m\u001b[1;33m,\u001b[0m \u001b[0mstep\u001b[0m\u001b[1;33m,\u001b[0m \u001b[0mxp\u001b[0m\u001b[1;33m,\u001b[0m \u001b[0mgp\u001b[0m\u001b[1;33m,\u001b[0m\u001b[0mconstraint_steps\u001b[0m\u001b[1;33m,\u001b[0m\u001b[0mself\u001b[0m\u001b[1;33m.\u001b[0m\u001b[0mlinesearch_parameters\u001b[0m\u001b[1;33m,\u001b[0m\u001b[0mmolecule\u001b[0m\u001b[1;33m)\u001b[0m\u001b[1;33m\u001b[0m\u001b[0m\n\u001b[0m\u001b[0;32m    103\u001b[0m             \u001b[1;32mprint\u001b[0m\u001b[1;33m(\u001b[0m\u001b[1;34m\" Done linesearch\"\u001b[0m\u001b[1;33m)\u001b[0m\u001b[1;33m\u001b[0m\u001b[0m\n\u001b[0;32m    104\u001b[0m \u001b[1;33m\u001b[0m\u001b[0m\n",
      "\u001b[1;32m/home/caldaz/module/pyGSM/_linesearch.pyc\u001b[0m in \u001b[0;36mbacktrack\u001b[1;34m(nconstraints, x, fx, g, d, step, xp, gp, constraint_step, parameters, molecule)\u001b[0m\n\u001b[0;32m     41\u001b[0m         \u001b[1;31m# Evaluate the function and gradient values.\u001b[0m\u001b[1;33m\u001b[0m\u001b[1;33m\u001b[0m\u001b[0m\n\u001b[0;32m     42\u001b[0m         \u001b[1;31m# use these so molecule xyz doesn't change\u001b[0m\u001b[1;33m\u001b[0m\u001b[1;33m\u001b[0m\u001b[0m\n\u001b[1;32m---> 43\u001b[1;33m         \u001b[0mfx\u001b[0m \u001b[1;33m=\u001b[0m \u001b[0mmolecule\u001b[0m\u001b[1;33m.\u001b[0m\u001b[0mPES\u001b[0m\u001b[1;33m.\u001b[0m\u001b[0mget_energy\u001b[0m\u001b[1;33m(\u001b[0m\u001b[0mxyz\u001b[0m\u001b[1;33m)\u001b[0m\u001b[1;33m\u001b[0m\u001b[0m\n\u001b[0m\u001b[0;32m     44\u001b[0m         \u001b[0mgx\u001b[0m \u001b[1;33m=\u001b[0m \u001b[0mmolecule\u001b[0m\u001b[1;33m.\u001b[0m\u001b[0mPES\u001b[0m\u001b[1;33m.\u001b[0m\u001b[0mget_gradient\u001b[0m\u001b[1;33m(\u001b[0m\u001b[0mxyz\u001b[0m\u001b[1;33m)\u001b[0m\u001b[1;33m\u001b[0m\u001b[0m\n\u001b[0;32m     45\u001b[0m         \u001b[0mg\u001b[0m \u001b[1;33m=\u001b[0m \u001b[0mmolecule\u001b[0m\u001b[1;33m.\u001b[0m\u001b[0mcoord_obj\u001b[0m\u001b[1;33m.\u001b[0m\u001b[0mcalcGrad\u001b[0m\u001b[1;33m(\u001b[0m\u001b[0mxyz\u001b[0m\u001b[1;33m,\u001b[0m\u001b[0mgx\u001b[0m\u001b[1;33m)\u001b[0m\u001b[1;33m\u001b[0m\u001b[0m\n",
      "\u001b[1;32m/home/caldaz/module/pyGSM/pes.pyc\u001b[0m in \u001b[0;36mget_energy\u001b[1;34m(self, xyz)\u001b[0m\n\u001b[0;32m     79\u001b[0m                 \u001b[0md\u001b[0m \u001b[1;33m=\u001b[0m \u001b[0mnp\u001b[0m\u001b[1;33m.\u001b[0m\u001b[0mlinalg\u001b[0m\u001b[1;33m.\u001b[0m\u001b[0mnorm\u001b[0m\u001b[1;33m(\u001b[0m\u001b[0mdiff\u001b[0m\u001b[1;33m)\u001b[0m\u001b[1;33m\u001b[0m\u001b[0m\n\u001b[0;32m     80\u001b[0m                 \u001b[0mfdE\u001b[0m \u001b[1;33m+=\u001b[0m  \u001b[0mforce\u001b[0m\u001b[1;33m*\u001b[0m\u001b[0md\u001b[0m\u001b[1;33m*\u001b[0m\u001b[0mKCAL_MOL_PER_AU\u001b[0m\u001b[1;33m\u001b[0m\u001b[0m\n\u001b[1;32m---> 81\u001b[1;33m         \u001b[1;32mreturn\u001b[0m \u001b[0mself\u001b[0m\u001b[1;33m.\u001b[0m\u001b[0mlot\u001b[0m\u001b[1;33m.\u001b[0m\u001b[0mget_energy\u001b[0m\u001b[1;33m(\u001b[0m\u001b[0mxyz\u001b[0m\u001b[1;33m,\u001b[0m\u001b[0mself\u001b[0m\u001b[1;33m.\u001b[0m\u001b[0mmultiplicity\u001b[0m\u001b[1;33m,\u001b[0m\u001b[0mself\u001b[0m\u001b[1;33m.\u001b[0m\u001b[0mad_idx\u001b[0m\u001b[1;33m)\u001b[0m \u001b[1;33m+\u001b[0m\u001b[0mfdE\u001b[0m\u001b[1;33m\u001b[0m\u001b[0m\n\u001b[0m\u001b[0;32m     82\u001b[0m \u001b[1;33m\u001b[0m\u001b[0m\n\u001b[0;32m     83\u001b[0m     \u001b[1;31m#TODO this needs to be fixed\u001b[0m\u001b[1;33m\u001b[0m\u001b[1;33m\u001b[0m\u001b[0m\n",
      "\u001b[1;32m/home/caldaz/module/pyGSM/pytc.pyc\u001b[0m in \u001b[0;36mget_energy\u001b[1;34m(self, coords, multiplicity, state)\u001b[0m\n\u001b[0;32m     29\u001b[0m             \u001b[0mself\u001b[0m\u001b[1;33m.\u001b[0m\u001b[0mcurrentCoords\u001b[0m \u001b[1;33m=\u001b[0m \u001b[0mcoords\u001b[0m\u001b[1;33m.\u001b[0m\u001b[0mcopy\u001b[0m\u001b[1;33m(\u001b[0m\u001b[1;33m)\u001b[0m\u001b[1;33m\u001b[0m\u001b[0m\n\u001b[0;32m     30\u001b[0m             \u001b[0mgeom\u001b[0m \u001b[1;33m=\u001b[0m \u001b[0mmanage_xyz\u001b[0m\u001b[1;33m.\u001b[0m\u001b[0mnp_to_xyz\u001b[0m\u001b[1;33m(\u001b[0m\u001b[0mself\u001b[0m\u001b[1;33m.\u001b[0m\u001b[0mgeom\u001b[0m\u001b[1;33m,\u001b[0m\u001b[0mself\u001b[0m\u001b[1;33m.\u001b[0m\u001b[0mcurrentCoords\u001b[0m\u001b[1;33m)\u001b[0m\u001b[1;33m\u001b[0m\u001b[0m\n\u001b[1;32m---> 31\u001b[1;33m             \u001b[0mself\u001b[0m\u001b[1;33m.\u001b[0m\u001b[0mrun\u001b[0m\u001b[1;33m(\u001b[0m\u001b[0mgeom\u001b[0m\u001b[1;33m)\u001b[0m\u001b[1;33m\u001b[0m\u001b[0m\n\u001b[0m\u001b[0;32m     32\u001b[0m         \u001b[1;32mreturn\u001b[0m \u001b[0mself\u001b[0m\u001b[1;33m.\u001b[0m\u001b[0mgetE\u001b[0m\u001b[1;33m(\u001b[0m\u001b[0mstate\u001b[0m\u001b[1;33m,\u001b[0m\u001b[0mmultiplicity\u001b[0m\u001b[1;33m)\u001b[0m\u001b[1;33m\u001b[0m\u001b[0m\n\u001b[0;32m     33\u001b[0m \u001b[1;33m\u001b[0m\u001b[0m\n",
      "\u001b[1;32m/home/caldaz/module/pyGSM/pytc.pyc\u001b[0m in \u001b[0;36mrun\u001b[1;34m(self, geom, verbose)\u001b[0m\n\u001b[0;32m     83\u001b[0m             \u001b[1;32mwith\u001b[0m \u001b[0mopen\u001b[0m\u001b[1;33m(\u001b[0m\u001b[1;34m'psiw_jobs.txt'\u001b[0m\u001b[1;33m,\u001b[0m\u001b[1;34m'a'\u001b[0m\u001b[1;33m)\u001b[0m \u001b[1;32mas\u001b[0m \u001b[0mout\u001b[0m\u001b[1;33m:\u001b[0m\u001b[1;33m\u001b[0m\u001b[0m\n\u001b[0;32m     84\u001b[0m                 \u001b[1;32mwith\u001b[0m \u001b[0mcustom_redirection\u001b[0m\u001b[1;33m(\u001b[0m\u001b[0mout\u001b[0m\u001b[1;33m)\u001b[0m\u001b[1;33m:\u001b[0m\u001b[1;33m\u001b[0m\u001b[0m\n\u001b[1;32m---> 85\u001b[1;33m                     \u001b[0mrun_code\u001b[0m\u001b[1;33m(\u001b[0m\u001b[0mT\u001b[0m\u001b[1;33m)\u001b[0m\u001b[1;33m\u001b[0m\u001b[0m\n\u001b[0m\u001b[0;32m     86\u001b[0m         \u001b[1;32melse\u001b[0m\u001b[1;33m:\u001b[0m\u001b[1;33m\u001b[0m\u001b[0m\n\u001b[0;32m     87\u001b[0m             \u001b[0mrun_code\u001b[0m\u001b[1;33m(\u001b[0m\u001b[0mT\u001b[0m\u001b[1;33m)\u001b[0m\u001b[1;33m\u001b[0m\u001b[0m\n",
      "\u001b[1;32m/home/caldaz/module/pyGSM/pytc.pyc\u001b[0m in \u001b[0;36mrun_code\u001b[1;34m(T)\u001b[0m\n\u001b[0;32m     69\u001b[0m                 \u001b[1;32mif\u001b[0m \u001b[0mself\u001b[0m\u001b[1;33m.\u001b[0m\u001b[0mpsiw\u001b[0m\u001b[1;33m.\u001b[0m\u001b[0m__class__\u001b[0m\u001b[1;33m.\u001b[0m\u001b[0m__name__\u001b[0m\u001b[1;33m==\u001b[0m\u001b[1;34m\"CASCI_LOT\"\u001b[0m \u001b[1;32mor\u001b[0m \u001b[0mself\u001b[0m\u001b[1;33m.\u001b[0m\u001b[0mpsiw\u001b[0m\u001b[1;33m.\u001b[0m\u001b[0m__class__\u001b[0m\u001b[1;33m.\u001b[0m\u001b[0m__name__\u001b[0m\u001b[1;33m==\u001b[0m\u001b[1;34m\"CASCI_LOT_SVD\"\u001b[0m\u001b[1;33m:\u001b[0m\u001b[1;33m\u001b[0m\u001b[0m\n\u001b[0;32m     70\u001b[0m                     \u001b[0mself\u001b[0m\u001b[1;33m.\u001b[0m\u001b[0mE\u001b[0m\u001b[1;33m.\u001b[0m\u001b[0mappend\u001b[0m\u001b[1;33m(\u001b[0m\u001b[1;33m(\u001b[0m\u001b[0mmultiplicity\u001b[0m\u001b[1;33m,\u001b[0m\u001b[0mself\u001b[0m\u001b[1;33m.\u001b[0m\u001b[0mpsiw\u001b[0m\u001b[1;33m.\u001b[0m\u001b[0mcompute_energy\u001b[0m\u001b[1;33m(\u001b[0m\u001b[0mS\u001b[0m\u001b[1;33m=\u001b[0m\u001b[0mS\u001b[0m\u001b[1;33m,\u001b[0m\u001b[0mindex\u001b[0m\u001b[1;33m=\u001b[0m\u001b[0mad_idx\u001b[0m\u001b[1;33m)\u001b[0m\u001b[1;33m)\u001b[0m\u001b[1;33m)\u001b[0m\u001b[1;33m\u001b[0m\u001b[0m\n\u001b[1;32m---> 71\u001b[1;33m                     \u001b[0mtmp\u001b[0m \u001b[1;33m=\u001b[0m \u001b[0mself\u001b[0m\u001b[1;33m.\u001b[0m\u001b[0mpsiw\u001b[0m\u001b[1;33m.\u001b[0m\u001b[0mcompute_gradient\u001b[0m\u001b[1;33m(\u001b[0m\u001b[0mS\u001b[0m\u001b[1;33m=\u001b[0m\u001b[0mS\u001b[0m\u001b[1;33m,\u001b[0m\u001b[0mindex\u001b[0m\u001b[1;33m=\u001b[0m\u001b[0mad_idx\u001b[0m\u001b[1;33m)\u001b[0m\u001b[1;33m\u001b[0m\u001b[0m\n\u001b[0m\u001b[0;32m     72\u001b[0m                 \u001b[1;32melif\u001b[0m \u001b[0mself\u001b[0m\u001b[1;33m.\u001b[0m\u001b[0mpsiw\u001b[0m\u001b[1;33m.\u001b[0m\u001b[0m__class__\u001b[0m\u001b[1;33m.\u001b[0m\u001b[0m__name__\u001b[0m\u001b[1;33m==\u001b[0m\u001b[1;34m\"RHF_LOT\"\u001b[0m\u001b[1;33m:\u001b[0m\u001b[1;33m\u001b[0m\u001b[0m\n\u001b[0;32m     73\u001b[0m                     \u001b[0mself\u001b[0m\u001b[1;33m.\u001b[0m\u001b[0mE\u001b[0m\u001b[1;33m.\u001b[0m\u001b[0mappend\u001b[0m\u001b[1;33m(\u001b[0m\u001b[1;33m(\u001b[0m\u001b[0mmultiplicity\u001b[0m\u001b[1;33m,\u001b[0m\u001b[0mself\u001b[0m\u001b[1;33m.\u001b[0m\u001b[0mpsiw\u001b[0m\u001b[1;33m.\u001b[0m\u001b[0mcompute_energy\u001b[0m\u001b[1;33m(\u001b[0m\u001b[1;33m)\u001b[0m\u001b[1;33m)\u001b[0m\u001b[1;33m)\u001b[0m\u001b[1;33m\u001b[0m\u001b[0m\n",
      "\u001b[1;32m/global/user_software/lightspeed/1.02/psiw/casci_lot.pyc\u001b[0m in \u001b[0;36mcompute_gradient\u001b[1;34m(self, S, index)\u001b[0m\n\u001b[0;32m    166\u001b[0m         return self.casci.compute_gradient(\n\u001b[0;32m    167\u001b[0m             \u001b[0mS\u001b[0m\u001b[1;33m=\u001b[0m\u001b[0mS\u001b[0m\u001b[1;33m,\u001b[0m\u001b[1;33m\u001b[0m\u001b[0m\n\u001b[1;32m--> 168\u001b[1;33m             index=index)\n\u001b[0m\u001b[0;32m    169\u001b[0m \u001b[1;33m\u001b[0m\u001b[0m\n\u001b[0;32m    170\u001b[0m     def compute_coupling(\n",
      "\u001b[1;32m/global/user_software/lightspeed/1.02/psiw/casci.pyc\u001b[0m in \u001b[0;36mcompute_gradient\u001b[1;34m(self, S, index)\u001b[0m\n\u001b[0;32m   1099\u001b[0m         \u001b[0mG\u001b[0m \u001b[1;33m=\u001b[0m \u001b[0mls\u001b[0m\u001b[1;33m.\u001b[0m\u001b[0mTensor\u001b[0m\u001b[1;33m.\u001b[0m\u001b[0marray\u001b[0m\u001b[1;33m(\u001b[0m\u001b[0mGJ\u001b[0m\u001b[1;33m[\u001b[0m\u001b[1;33m.\u001b[0m\u001b[1;33m.\u001b[0m\u001b[1;33m.\u001b[0m\u001b[1;33m]\u001b[0m \u001b[1;33m+\u001b[0m \u001b[0mGK\u001b[0m\u001b[1;33m[\u001b[0m\u001b[1;33m.\u001b[0m\u001b[1;33m.\u001b[0m\u001b[1;33m.\u001b[0m\u001b[1;33m]\u001b[0m \u001b[1;33m+\u001b[0m \u001b[0mGI\u001b[0m\u001b[1;33m[\u001b[0m\u001b[1;33m.\u001b[0m\u001b[1;33m.\u001b[0m\u001b[1;33m.\u001b[0m\u001b[1;33m]\u001b[0m\u001b[1;33m)\u001b[0m\u001b[1;33m\u001b[0m\u001b[0m\n\u001b[0;32m   1100\u001b[0m \u001b[1;33m\u001b[0m\u001b[0m\n\u001b[1;32m-> 1101\u001b[1;33m         \u001b[1;32mreturn\u001b[0m \u001b[0mself\u001b[0m\u001b[1;33m.\u001b[0m\u001b[0mreference\u001b[0m\u001b[1;33m.\u001b[0m\u001b[0mcompute_hf_based_gradient\u001b[0m\u001b[1;33m(\u001b[0m\u001b[0mD1ao\u001b[0m\u001b[1;33m,\u001b[0m \u001b[0mX\u001b[0m\u001b[1;33m,\u001b[0m \u001b[0mG\u001b[0m\u001b[1;33m)\u001b[0m\u001b[1;33m\u001b[0m\u001b[0m\n\u001b[0m\u001b[0;32m   1102\u001b[0m \u001b[1;33m\u001b[0m\u001b[0m\n\u001b[0;32m   1103\u001b[0m     \u001b[1;31m# => Derivative Coupling Code <= #\u001b[0m\u001b[1;33m\u001b[0m\u001b[1;33m\u001b[0m\u001b[0m\n",
      "\u001b[1;32m/global/user_software/lightspeed/1.02/psiw/rhf.pyc\u001b[0m in \u001b[0;36mcompute_hf_based_gradient\u001b[1;34m(self, D, X, GI)\u001b[0m\n\u001b[0;32m   1452\u001b[0m             \u001b[0mFalse\u001b[0m\u001b[1;33m,\u001b[0m\u001b[1;33m\u001b[0m\u001b[0m\n\u001b[0;32m   1453\u001b[0m             \u001b[0mself\u001b[0m\u001b[1;33m.\u001b[0m\u001b[0moptions\u001b[0m\u001b[1;33m[\u001b[0m\u001b[1;34m'thre_sp'\u001b[0m\u001b[1;33m]\u001b[0m\u001b[1;33m,\u001b[0m\u001b[1;33m\u001b[0m\u001b[0m\n\u001b[1;32m-> 1454\u001b[1;33m             \u001b[0mself\u001b[0m\u001b[1;33m.\u001b[0m\u001b[0moptions\u001b[0m\u001b[1;33m[\u001b[0m\u001b[1;34m'thre_dp'\u001b[0m\u001b[1;33m]\u001b[0m\u001b[1;33m,\u001b[0m\u001b[1;33m\u001b[0m\u001b[0m\n\u001b[0m\u001b[0;32m   1455\u001b[0m             )\n\u001b[0;32m   1456\u001b[0m         \u001b[0mGK\u001b[0m\u001b[1;33m.\u001b[0m\u001b[0mname\u001b[0m \u001b[1;33m=\u001b[0m \u001b[1;34m'GK'\u001b[0m\u001b[1;33m\u001b[0m\u001b[0m\n",
      "\u001b[1;31mKeyboardInterrupt\u001b[0m: "
     ]
    }
   ],
   "source": [
    "geoms,energy = cg.optimize(M,M.energy,'UNCONSTRAINED',50)"
   ]
  },
  {
   "cell_type": "code",
   "execution_count": null,
   "metadata": {
    "collapsed": false
   },
   "outputs": [],
   "source": [
    "manage_xyz.write_xyzs_w_comments('opt.xyz',geoms,energy,scale=1.)"
   ]
  },
  {
   "cell_type": "code",
   "execution_count": null,
   "metadata": {
    "collapsed": true
   },
   "outputs": [],
   "source": []
  }
 ],
 "metadata": {
  "kernelspec": {
   "display_name": "Python 2",
   "language": "python",
   "name": "python2"
  },
  "language_info": {
   "codemirror_mode": {
    "name": "ipython",
    "version": 2
   },
   "file_extension": ".py",
   "mimetype": "text/x-python",
   "name": "python",
   "nbconvert_exporter": "python",
   "pygments_lexer": "ipython2",
   "version": "2.7.15"
  }
 },
 "nbformat": 4,
 "nbformat_minor": 0
}
