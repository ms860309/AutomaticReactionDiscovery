{
 "cells": [
  {
   "cell_type": "markdown",
   "metadata": {},
   "source": [
    "# pyGSM (Python + GSM) \n",
    "\n",
    "pyGSM uses the powerful tools of python to allow for rapid prototyping and improved readability.\n",
    "\n",
    "* Reduction in number of lines ~12,000 vs ~30,000 and individual file size \n",
    "* Highly object oriented \n",
    "* Easy to read/use/prototype. No compiling!\n",
    "* No loss in performance since it uses high-performing numerical libraries \n",
    "* Interactive coding "
   ]
  },
  {
   "cell_type": "code",
   "execution_count": 1,
   "metadata": {
    "collapsed": false
   },
   "outputs": [],
   "source": [
    "import sys\n",
    "sys.path.insert(0,'/home/caldaz/module/pyGSM')\n",
    "from molecule import Molecule\n",
    "from pes import PES\n",
    "from avg_pes import Avg_PES\n",
    "import numpy as np\n",
    "from nifty import pvec1d,pmat2d\n",
    "import matplotlib\n",
    "import matplotlib.pyplot as plt\n",
    "from pytc import *\n",
    "import manage_xyz\n",
    "from rhf_lot import *\n",
    "from psiw import *\n",
    "from nifty import getAllCoords,getAtomicSymbols,click,printcool\n",
    "import pybel as pb\n",
    "%matplotlib inline"
   ]
  },
  {
   "cell_type": "markdown",
   "metadata": {},
   "source": [
    "## 1. Building the pyTC objects"
   ]
  },
  {
   "cell_type": "code",
   "execution_count": 2,
   "metadata": {
    "collapsed": false
   },
   "outputs": [
    {
     "name": "stdout",
     "output_type": "stream",
     "text": [
      "#========================================================#\n",
      "#| \u001b[92m                  Build resources                   \u001b[0m |#\n",
      "#========================================================#\n",
      "#==============================================================#\n",
      "#| \u001b[92m                      ResourceList:                       \u001b[0m |#\n",
      "#| \u001b[92m                      CPU threads:   1                    \u001b[0m |#\n",
      "#| \u001b[92m                      GPU contexts:  1                    \u001b[0m |#\n",
      "#| \u001b[92m                    GPU context details:                  \u001b[0m |#\n",
      "#| \u001b[92m   N  ID                 Name  CC  CPU Buffer  GPU Buffer \u001b[0m |#\n",
      "#| \u001b[92m   0   0    GeForce GTX TITAN 3.5        1024        1024 \u001b[0m |#\n",
      "#| \u001b[92m                                                          \u001b[0m |#\n",
      "#==============================================================#\n"
     ]
    },
    {
     "data": {
      "text/plain": [
       "'----------------------------------------------------------------\\n'"
      ]
     },
     "execution_count": 2,
     "metadata": {},
     "output_type": "execute_result"
    }
   ],
   "source": [
    "printcool(\"Build resources\")\n",
    "resources = ls.ResourceList.build()\n",
    "printcool('{}'.format(resources))"
   ]
  },
  {
   "cell_type": "code",
   "execution_count": 3,
   "metadata": {
    "collapsed": false
   },
   "outputs": [
    {
     "name": "stdout",
     "output_type": "stream",
     "text": [
      "#========================================================#\n",
      "#| \u001b[92m         build the Lightspeed (pyTC) objecs         \u001b[0m |#\n",
      "#========================================================#\n",
      "#========================================================#\n",
      "#| \u001b[92m                     Geometry:                      \u001b[0m |#\n",
      "#| \u001b[92m                     QMMM = False                   \u001b[0m |#\n",
      "#| \u001b[92m                     -D3  = False                   \u001b[0m |#\n",
      "#| \u001b[92m                     ECP  = False                   \u001b[0m |#\n",
      "#| \u001b[92m                                                    \u001b[0m |#\n",
      "#| \u001b[92m                 Molecule: ethylene                 \u001b[0m |#\n",
      "#| \u001b[92m              Natom        =           6            \u001b[0m |#\n",
      "#| \u001b[92m              Charge       =       0.000            \u001b[0m |#\n",
      "#| \u001b[92m              Multiplicity =       1.000            \u001b[0m |#\n",
      "#| \u001b[92m                                                    \u001b[0m |#\n",
      "#| \u001b[92m                   Basis: 6-31gs                    \u001b[0m |#\n",
      "#| \u001b[92m                   nao     =    38                  \u001b[0m |#\n",
      "#| \u001b[92m                   ncart   =    38                  \u001b[0m |#\n",
      "#| \u001b[92m                   nprim   =    46                  \u001b[0m |#\n",
      "#| \u001b[92m                   nshell  =    20                  \u001b[0m |#\n",
      "#| \u001b[92m                   natom   =     6                  \u001b[0m |#\n",
      "#| \u001b[92m                   pure?   =    No                  \u001b[0m |#\n",
      "#| \u001b[92m                   max L   =     2                  \u001b[0m |#\n",
      "#| \u001b[92m                                                    \u001b[0m |#\n",
      "#| \u001b[92m                Basis: cc-pvdz-minao                \u001b[0m |#\n",
      "#| \u001b[92m                   nao     =    14                  \u001b[0m |#\n",
      "#| \u001b[92m                   ncart   =    14                  \u001b[0m |#\n",
      "#| \u001b[92m                   nprim   =    60                  \u001b[0m |#\n",
      "#| \u001b[92m                   nshell  =    10                  \u001b[0m |#\n",
      "#| \u001b[92m                   natom   =     6                  \u001b[0m |#\n",
      "#| \u001b[92m                   pure?   =   Yes                  \u001b[0m |#\n",
      "#| \u001b[92m                   max L   =     1                  \u001b[0m |#\n",
      "#| \u001b[92m                                                    \u001b[0m |#\n",
      "#========================================================#\n",
      "==> RHF <==\n",
      "\n",
      "External Environment:\n",
      "  Enuc =   3.3333038401617195E+01\n",
      "  Eext =   3.3333038401617195E+01\n",
      "\n",
      "SCF Iterations:\n",
      "\n",
      "Iter:                   Energy          dE          dG  Time[s]\n",
      "   0:  -7.7092708661464698E+01  -7.709E+01   1.143E+00    0.841\n",
      "   1:  -7.8147981534974207E+01  -1.055E+00   6.345E-02    0.050\n",
      "   2:  -7.8169965996087384E+01  -2.198E-02   1.559E-02    0.050\n",
      "   3:  -7.8172283892637140E+01  -2.318E-03   7.279E-03    0.049\n",
      "   4:  -7.8172545611657412E+01  -2.617E-04   4.307E-04    0.048\n",
      "   5:  -7.8172547344654049E+01  -1.733E-06   3.867E-05    0.046\n",
      "   6:  -7.8172547366554227E+01  -2.190E-08   7.338E-06    0.041\n",
      "   7:  -7.8172547366986933E+01  -4.327E-10   1.649E-06    0.037\n",
      "   8:  -7.8172547366784329E+01   2.026E-10   1.337E-07    0.047\n",
      "\n",
      "SCF Converged\n",
      "\n",
      "SCF Energy =  -7.8172547366784329E+01\n",
      "\n",
      "SCF Internal Energy (E)     =  -7.7792973600257000E+01\n",
      "SCF Entropy Term (-T * S)   =  -3.7957376652733060E-01\n",
      "SCF Free Energy (E - T * S) =  -7.8172547366784329E+01\n",
      "\n",
      "==> End RHF <==\n",
      "\n",
      "==> CASCI <==\n",
      "\n",
      "External Environment:\n",
      "  Enuc =   3.3333038401617195E+01\n",
      "  Eext =   3.3333038401617195E+01\n",
      "\n",
      "Core Energy =   -76.85572592289878\n",
      "\n",
      "=> S=0 States <=\n",
      "\n",
      "CASCI S=0 Energies:\n",
      "\n",
      "   I:                  Total E\n",
      "   0:  -7.8050956144574869E+01\n",
      "   1:  -7.7668325171082003E+01\n",
      "\n",
      "=> End S=0 States <=\n",
      "\n",
      "==> End CASCI <==\n",
      "\n"
     ]
    }
   ],
   "source": [
    "printcool(\"build the Lightspeed (pyTC) objecs\")\n",
    "\n",
    "filepath='data/ethylene.xyz'\n",
    "molecule = ls.Molecule.from_xyz_file(filepath)\n",
    "geom = geometry.Geometry.build(\n",
    "    resources=resources,\n",
    "    molecule=molecule,\n",
    "    basisname='6-31gs',\n",
    "    )\n",
    "printcool('{}'.format(geom))\n",
    "\n",
    "ref = RHF.from_options(\n",
    "     geometry= geom, \n",
    "     g_convergence=1.0E-6,\n",
    "     fomo=True,\n",
    "     fomo_method='gaussian',\n",
    "     fomo_temp=0.3,\n",
    "     fomo_nocc=7,\n",
    "     fomo_nact=2,\n",
    "     print_level=1,\n",
    "    )\n",
    "ref.compute_energy()\n",
    "casci = CASCI.from_options(\n",
    "    reference=ref,\n",
    "    nocc=7,\n",
    "    nact=2,\n",
    "    nalpha=1,\n",
    "    nbeta=1,\n",
    "    S_inds=[0],\n",
    "    S_nstates=[2],\n",
    "    print_level=1,\n",
    "    )\n",
    "casci.compute_energy()\n",
    "psiw = CASCI_LOT.from_options(\n",
    "    casci=casci,\n",
    "    rhf_guess=True,\n",
    "    rhf_mom=True,\n",
    "    orbital_coincidence='core',\n",
    "    state_coincidence='full',\n",
    "    )"
   ]
  },
  {
   "cell_type": "markdown",
   "metadata": {},
   "source": [
    "## Section 2: Building the pyGSM Objects"
   ]
  },
  {
   "cell_type": "code",
   "execution_count": 4,
   "metadata": {
    "collapsed": false,
    "scrolled": true
   },
   "outputs": [
    {
     "name": "stdout",
     "output_type": "stream",
     "text": [
      "#========================================================#\n",
      "#| \u001b[92m    Build the pyGSM Level of Theory object (LOT)    \u001b[0m |#\n",
      "#========================================================#\n",
      " initializing LOT from file\n"
     ]
    }
   ],
   "source": [
    "printcool(\"Build the pyGSM Level of Theory object (LOT)\")\n",
    "lot=PyTC.from_options(states=[(1,0),(1,1)],psiw=psiw,do_coupling=True,fnm=filepath)"
   ]
  },
  {
   "cell_type": "code",
   "execution_count": 5,
   "metadata": {
    "collapsed": false
   },
   "outputs": [
    {
     "name": "stdout",
     "output_type": "stream",
     "text": [
      "#===========================================================#\n",
      "#| \u001b[92m Build the pyGSM Potential Energy Surface Object (PES) \u001b[0m |#\n",
      "#===========================================================#\n"
     ]
    }
   ],
   "source": [
    "printcool(\"Build the pyGSM Potential Energy Surface Object (PES)\")\n",
    "pes1 = PES.from_options(lot=lot,ad_idx=0,multiplicity=1)\n",
    "pes2 = PES.from_options(lot=lot,ad_idx=1,multiplicity=1)\n",
    "pes = Avg_PES(pes1,pes2,lot=lot)"
   ]
  },
  {
   "cell_type": "code",
   "execution_count": 6,
   "metadata": {
    "collapsed": false
   },
   "outputs": [
    {
     "name": "stdout",
     "output_type": "stream",
     "text": [
      "#================================================================#\n",
      "#| \u001b[92m              Build the pyGSM Molecule object               \u001b[0m |#\n",
      "#| \u001b[92m  with Translation and Rotation Internal Coordinates (TRIC) \u001b[0m |#\n",
      "#================================================================#\n",
      " reading cartesian coordinates from file\n",
      " making primitives from options!\n",
      "[NodeView((0, 1, 2, 3, 4, 5))]\n",
      " making primitive Hessian\n",
      " forming Hessian in basis\n"
     ]
    }
   ],
   "source": [
    "printcool(\"Build the pyGSM Molecule object \\n with Translation and Rotation Internal Coordinates (TRIC)\")\n",
    "M = Molecule.from_options(fnm=filepath,PES=pes,coordinate_type=\"TRIC\")"
   ]
  },
  {
   "cell_type": "markdown",
   "metadata": {},
   "source": [
    "## Section 3: API of Molecule Class "
   ]
  },
  {
   "cell_type": "code",
   "execution_count": 7,
   "metadata": {
    "collapsed": false
   },
   "outputs": [
    {
     "name": "stdout",
     "output_type": "stream",
     "text": [
      " molecule object\n",
      "Option:\n",
      "  Key: fnm\n",
      "  Value: data/ethylene.xyz\n",
      "  Required: False\n",
      "  Allowed Types: [<type 'str'>]\n",
      "  Allowed Values: None\n",
      "  Doc: File name to create the Molecule object from. Only used if geom is none.\n",
      "\n",
      "Option:\n",
      "  Key: ftype\n",
      "  Value: xyz\n",
      "  Required: False\n",
      "  Allowed Types: [<type 'str'>]\n",
      "  Allowed Values: None\n",
      "  Doc: filetype (optional) will attempt to read filetype if not given\n",
      "\n",
      "Option:\n",
      "  Key: coordinate_type\n",
      "  Value: TRIC\n",
      "  Required: False\n",
      "  Allowed Types: None\n",
      "  Allowed Values: ['Cartesian', 'DLC', 'HDLC', 'TRIC']\n",
      "  Doc: The type of coordinate system to build\n",
      "\n",
      "Option:\n",
      "  Key: coord_obj\n",
      "  Value: Internal coordinate system (atoms numbered from 1):\n",
      "Distance 1-2\n",
      "Distance 1-3\n",
      "Distance 1-4\n",
      "Distance 4-5\n",
      "Distance 4-6\n",
      "Angle 2-1-4\n",
      "Angle 3-1-4\n",
      "Angle 1-4-6\n",
      "Angle 5-4-6\n",
      "Out-of-Plane 1-2-3-4\n",
      "Out-of-Plane 4-1-5-6\n",
      "Dihedral 2-1-4-5\n",
      "Dihedral 2-1-4-6\n",
      "Dihedral 3-1-4-5\n",
      "Dihedral 3-1-4-6\n",
      "Translation-X 1-6\n",
      "Translation-Y 1-6\n",
      "Translation-Z 1-6\n",
      "Rotation-A 1-6\n",
      "Rotation-B 1-6\n",
      "Rotation-C 1-6\n",
      "<class 'slots.Distance'> : 5\n",
      "<class 'slots.Angle'> : 4\n",
      "<class 'slots.OutOfPlane'> : 2\n",
      "<class 'slots.Dihedral'> : 4\n",
      "<class 'slots.TranslationX'> : 1\n",
      "<class 'slots.TranslationY'> : 1\n",
      "<class 'slots.TranslationZ'> : 1\n",
      "<class 'slots.RotationA'> : 1\n",
      "<class 'slots.RotationB'> : 1\n",
      "<class 'slots.RotationC'> : 1\n",
      "  Required: False\n",
      "  Allowed Types: [<class 'dlc_new.DelocalizedInternalCoordinates'>, <class 'cartesian.CartesianCoordinates'>]\n",
      "  Allowed Values: None\n",
      "  Doc: A coordinate object.\n",
      "\n",
      "Option:\n",
      "  Key: geom\n",
      "  Value: None\n",
      "  Required: False\n",
      "  Allowed Types: [<type 'list'>]\n",
      "  Allowed Values: None\n",
      "  Doc: geometry including atomic symbols\n",
      "\n",
      "Option:\n",
      "  Key: xyz\n",
      "  Value: [[ 0.      0.6655 -0.    ]\n",
      " [-0.9236  1.2396  0.    ]\n",
      " [ 0.9236  1.2396  0.    ]\n",
      " [ 0.     -0.6655 -0.    ]\n",
      " [ 0.9236 -1.2396  0.    ]\n",
      " [-0.9236 -1.2396  0.    ]]\n",
      "  Required: False\n",
      "  Allowed Types: [<type 'numpy.ndarray'>]\n",
      "  Allowed Values: None\n",
      "  Doc: The Cartesian coordinates in Angstrom\n",
      "\n",
      "Option:\n",
      "  Key: PES\n",
      "  Value: <avg_pes.Avg_PES object at 0x7f42f3f67210>\n",
      "  Required: True\n",
      "  Allowed Types: [<class 'pes.PES'>, <class 'avg_pes.Avg_PES'>, <class 'penalty_pes.Penalty_PES'>]\n",
      "  Allowed Values: None\n",
      "  Doc: potential energy surface object to evaulate energies, gradients, etc. Pes is defined by charge, state, multiplicity,etc. \n",
      "\n",
      "Option:\n",
      "  Key: Primitive_Hessian\n",
      "  Value: [[ 0.35   0.     0.     0.     0.     0.     0.     0.     0.     0.     0.\n",
      "   0.     0.     0.     0.     0.     0.     0.     0.     0.     0.   ]\n",
      " [ 0.     0.35   0.     0.     0.     0.     0.     0.     0.     0.     0.\n",
      "   0.     0.     0.     0.     0.     0.     0.     0.     0.     0.   ]\n",
      " [ 0.     0.     0.35   0.     0.     0.     0.     0.     0.     0.     0.\n",
      "   0.     0.     0.     0.     0.     0.     0.     0.     0.     0.   ]\n",
      " [ 0.     0.     0.     0.35   0.     0.     0.     0.     0.     0.     0.\n",
      "   0.     0.     0.     0.     0.     0.     0.     0.     0.     0.   ]\n",
      " [ 0.     0.     0.     0.     0.35   0.     0.     0.     0.     0.     0.\n",
      "   0.     0.     0.     0.     0.     0.     0.     0.     0.     0.   ]\n",
      " [ 0.     0.     0.     0.     0.     0.16   0.     0.     0.     0.     0.\n",
      "   0.     0.     0.     0.     0.     0.     0.     0.     0.     0.   ]\n",
      " [ 0.     0.     0.     0.     0.     0.     0.16   0.     0.     0.     0.\n",
      "   0.     0.     0.     0.     0.     0.     0.     0.     0.     0.   ]\n",
      " [ 0.     0.     0.     0.     0.     0.     0.     0.16   0.     0.     0.\n",
      "   0.     0.     0.     0.     0.     0.     0.     0.     0.     0.   ]\n",
      " [ 0.     0.     0.     0.     0.     0.     0.     0.     0.16   0.     0.\n",
      "   0.     0.     0.     0.     0.     0.     0.     0.     0.     0.   ]\n",
      " [ 0.     0.     0.     0.     0.     0.     0.     0.     0.     0.045  0.\n",
      "   0.     0.     0.     0.     0.     0.     0.     0.     0.     0.   ]\n",
      " [ 0.     0.     0.     0.     0.     0.     0.     0.     0.     0.     0.045\n",
      "   0.     0.     0.     0.     0.     0.     0.     0.     0.     0.   ]\n",
      " [ 0.     0.     0.     0.     0.     0.     0.     0.     0.     0.     0.\n",
      "   0.023  0.     0.     0.     0.     0.     0.     0.     0.     0.   ]\n",
      " [ 0.     0.     0.     0.     0.     0.     0.     0.     0.     0.     0.\n",
      "   0.     0.023  0.     0.     0.     0.     0.     0.     0.     0.   ]\n",
      " [ 0.     0.     0.     0.     0.     0.     0.     0.     0.     0.     0.\n",
      "   0.     0.     0.023  0.     0.     0.     0.     0.     0.     0.   ]\n",
      " [ 0.     0.     0.     0.     0.     0.     0.     0.     0.     0.     0.\n",
      "   0.     0.     0.     0.023  0.     0.     0.     0.     0.     0.   ]\n",
      " [ 0.     0.     0.     0.     0.     0.     0.     0.     0.     0.     0.\n",
      "   0.     0.     0.     0.     0.05   0.     0.     0.     0.     0.   ]\n",
      " [ 0.     0.     0.     0.     0.     0.     0.     0.     0.     0.     0.\n",
      "   0.     0.     0.     0.     0.     0.05   0.     0.     0.     0.   ]\n",
      " [ 0.     0.     0.     0.     0.     0.     0.     0.     0.     0.     0.\n",
      "   0.     0.     0.     0.     0.     0.     0.05   0.     0.     0.   ]\n",
      " [ 0.     0.     0.     0.     0.     0.     0.     0.     0.     0.     0.\n",
      "   0.     0.     0.     0.     0.     0.     0.     0.05   0.     0.   ]\n",
      " [ 0.     0.     0.     0.     0.     0.     0.     0.     0.     0.     0.\n",
      "   0.     0.     0.     0.     0.     0.     0.     0.     0.05   0.   ]\n",
      " [ 0.     0.     0.     0.     0.     0.     0.     0.     0.     0.     0.\n",
      "   0.     0.     0.     0.     0.     0.     0.     0.     0.     0.05 ]]\n",
      "  Required: False\n",
      "  Allowed Types: None\n",
      "  Allowed Values: None\n",
      "  Doc: Primitive hessian save file for doing optimization.\n",
      "\n",
      "Option:\n",
      "  Key: Hessian\n",
      "  Value: [[ 0.05    0.      0.     -0.      0.     -0.      0.      0.     -0.      0.\n",
      "   0.      0.     -0.      0.     -0.     -0.     -0.     -0.    ]\n",
      " [ 0.      0.05    0.      0.     -0.     -0.      0.      0.     -0.      0.\n",
      "   0.      0.     -0.      0.     -0.     -0.      0.     -0.    ]\n",
      " [ 0.      0.      0.05    0.      0.     -0.      0.      0.     -0.      0.\n",
      "   0.      0.     -0.      0.     -0.     -0.      0.     -0.    ]\n",
      " [-0.      0.      0.      0.05   -0.      0.      0.     -0.      0.     -0.\n",
      "   0.      0.     -0.     -0.      0.      0.      0.     -0.    ]\n",
      " [ 0.     -0.      0.     -0.      0.05   -0.     -0.      0.      0.     -0.\n",
      "   0.     -0.      0.      0.      0.      0.     -0.      0.    ]\n",
      " [-0.     -0.     -0.      0.     -0.      0.2612  0.      0.0586  0.0378\n",
      "  -0.0102 -0.0137 -0.0247  0.0387 -0.      0.0408 -0.0079 -0.      0.    ]\n",
      " [ 0.      0.      0.      0.     -0.      0.      0.05   -0.      0.     -0.\n",
      "  -0.     -0.      0.      0.      0.     -0.      0.     -0.    ]\n",
      " [ 0.      0.      0.     -0.      0.      0.0586 -0.      0.2269  0.0258\n",
      "   0.0235 -0.0181  0.0479  0.0197 -0.      0.0138 -0.0196  0.     -0.    ]\n",
      " [-0.     -0.     -0.      0.      0.      0.0378  0.      0.0258  0.2917\n",
      "   0.0003  0.0086 -0.0131 -0.0719  0.     -0.0129  0.0033 -0.     -0.    ]\n",
      " [ 0.      0.      0.     -0.     -0.     -0.0102 -0.      0.0235  0.0003\n",
      "   0.3023  0.0082 -0.01    0.0119  0.     -0.0469 -0.0602 -0.      0.    ]\n",
      " [ 0.      0.      0.      0.      0.     -0.0137 -0.     -0.0181  0.0086\n",
      "   0.0082  0.3234  0.0009 -0.0119 -0.      0.0509 -0.031   0.     -0.    ]\n",
      " [ 0.      0.      0.      0.     -0.     -0.0247 -0.      0.0479 -0.0131\n",
      "  -0.01    0.0009  0.3292 -0.0171 -0.      0.0051 -0.0045 -0.      0.    ]\n",
      " [-0.     -0.     -0.     -0.      0.      0.0387  0.      0.0197 -0.0719\n",
      "   0.0119 -0.0119 -0.0171  0.2411 -0.      0.0311 -0.0156 -0.     -0.    ]\n",
      " [ 0.      0.      0.     -0.      0.     -0.      0.     -0.      0.      0.\n",
      "  -0.     -0.     -0.      0.023  -0.     -0.     -0.      0.    ]\n",
      " [-0.     -0.     -0.      0.      0.      0.0408  0.      0.0138 -0.0129\n",
      "  -0.0469  0.0509  0.0051  0.0311 -0.      0.2201  0.001   0.     -0.    ]\n",
      " [-0.     -0.     -0.      0.      0.     -0.0079 -0.     -0.0196  0.0033\n",
      "  -0.0602 -0.031  -0.0045 -0.0156 -0.      0.001   0.1941 -0.     -0.    ]\n",
      " [-0.      0.      0.      0.     -0.     -0.      0.      0.     -0.     -0.\n",
      "   0.     -0.     -0.     -0.      0.     -0.      0.0282  0.    ]\n",
      " [-0.     -0.     -0.     -0.      0.      0.     -0.     -0.     -0.      0.\n",
      "  -0.      0.     -0.      0.     -0.     -0.      0.      0.0282]]\n",
      "  Required: False\n",
      "  Allowed Types: None\n",
      "  Allowed Values: None\n",
      "  Doc: Hessian save file in the basis of coordinate_type.\n",
      "\n",
      "Option:\n",
      "  Key: comment\n",
      "  Value: \n",
      "  Required: False\n",
      "  Allowed Types: None\n",
      "  Allowed Values: None\n",
      "  Doc: A string that is saved on the molecule, used for descriptive purposes\n",
      "\n",
      "\n"
     ]
    }
   ],
   "source": [
    "print(M)"
   ]
  },
  {
   "cell_type": "code",
   "execution_count": 8,
   "metadata": {
    "collapsed": false
   },
   "outputs": [
    {
     "name": "stdout",
     "output_type": "stream",
     "text": [
      "printing gradient\n",
      " 0.00000 -0.00000  0.00000 -0.00000 -0.00000 -0.08843  0.00000 -0.05459  0.01673  0.00107 -0.04507  0.00125 -0.07016  0.00000 -0.06895  0.02654 -0.00000  0.00000 \n"
     ]
    }
   ],
   "source": [
    "print(\"printing gradient\")\n",
    "pvec1d(M.gradient,5,'f')"
   ]
  },
  {
   "cell_type": "code",
   "execution_count": 9,
   "metadata": {
    "collapsed": false
   },
   "outputs": [
    {
     "data": {
      "text/plain": [
       "-48857.66213815676"
      ]
     },
     "execution_count": 9,
     "metadata": {},
     "output_type": "execute_result"
    }
   ],
   "source": [
    "M.energy"
   ]
  },
  {
   "cell_type": "code",
   "execution_count": 10,
   "metadata": {
    "collapsed": false
   },
   "outputs": [
    {
     "name": "stdout",
     "output_type": "stream",
     "text": [
      "primitive internal coordinates\n",
      "[Distance 1-2, Distance 1-3, Distance 1-4, Distance 4-5, Distance 4-6, Angle 2-1-4, Angle 3-1-4, Angle 1-4-6, Angle 5-4-6, Out-of-Plane 1-2-3-4, Out-of-Plane 4-1-5-6, Dihedral 2-1-4-5, Dihedral 2-1-4-6, Dihedral 3-1-4-5, Dihedral 3-1-4-6, Translation-X 1-6, Translation-Y 1-6, Translation-Z 1-6, Rotation-A 1-6, Rotation-B 1-6, Rotation-C 1-6]\n"
     ]
    }
   ],
   "source": [
    "print(\"primitive internal coordinates\")\n",
    "print(M.primitive_internal_coordinates)"
   ]
  },
  {
   "cell_type": "code",
   "execution_count": 11,
   "metadata": {
    "collapsed": false
   },
   "outputs": [
    {
     "name": "stdout",
     "output_type": "stream",
     "text": [
      "#========================================================#\n",
      "#| \u001b[92m      primitive number of internal coordinates      \u001b[0m |#\n",
      "#========================================================#\n",
      "21\n"
     ]
    }
   ],
   "source": [
    "printcool(\"primitive number of internal coordinates\")\n",
    "print(M.num_primitives)"
   ]
  },
  {
   "cell_type": "code",
   "execution_count": 12,
   "metadata": {
    "collapsed": false
   },
   "outputs": [
    {
     "name": "stdout",
     "output_type": "stream",
     "text": [
      "#========================================================#\n",
      "#| \u001b[92m         getting the value of a primitive 0         \u001b[0m |#\n",
      "#========================================================#\n",
      "1.08749845303\n"
     ]
    }
   ],
   "source": [
    "printcool(\"getting the value of a primitive 0\")\n",
    "print(M.primitive_internal_coordinates[0].value(M.xyz))"
   ]
  },
  {
   "cell_type": "code",
   "execution_count": 13,
   "metadata": {
    "collapsed": false
   },
   "outputs": [
    {
     "name": "stdout",
     "output_type": "stream",
     "text": [
      "#========================================================#\n",
      "#| \u001b[92m           printing coordinates in basis            \u001b[0m |#\n",
      "#========================================================#\n",
      "-0.0  0.0  0.0  0.0  0.0  0.9 -0.0  3.8 -0.2  0.2 -0.9 -1.2 -2.4 -0.0  0.7  0.6  3.9  0.0 \n"
     ]
    }
   ],
   "source": [
    "printcool(\"printing coordinates in basis\")\n",
    "pmat2d(M.coordinates.T,format='f')"
   ]
  },
  {
   "cell_type": "code",
   "execution_count": 14,
   "metadata": {
    "collapsed": false
   },
   "outputs": [
    {
     "name": "stdout",
     "output_type": "stream",
     "text": [
      "#========================================================#\n",
      "#| \u001b[92m         printing coordinate basis vectors          \u001b[0m |#\n",
      "#========================================================#\n",
      "-0.0 -0.0 -0.0  0.0 -0.0  0.1  0.0  0.1  0.6 -0.5  0.1  0.3 -0.4 -0.0  0.1  0.2 -0.0 -0.0 \n",
      "-0.0 -0.0 -0.0 -0.0 -0.0  0.1  0.0  0.1  0.6  0.5  0.1 -0.5 -0.2  0.0 -0.2 -0.2 -0.0 -0.0 \n",
      "-0.0 -0.0 -0.0  0.0 -0.0  0.7  0.0  0.4  0.1  0.0  0.2 -0.0  0.4 -0.0  0.4 -0.2  0.0 -0.0 \n",
      "-0.0 -0.0 -0.0  0.0 -0.0  0.2  0.0 -0.0  0.0 -0.3 -0.7 -0.5  0.1 -0.0 -0.1  0.3 -0.0  0.0 \n",
      " 0.0  0.0  0.0 -0.0 -0.0  0.0 -0.0  0.4  0.0  0.4 -0.5  0.6 -0.0  0.0 -0.3 -0.1 -0.0  0.0 \n",
      " 0.0  0.0  0.0 -0.0 -0.0  0.1 -0.0  0.4 -0.4 -0.4  0.1 -0.2 -0.4  0.0 -0.4 -0.4  0.0  0.0 \n",
      "-0.0 -0.0 -0.0  0.0 -0.0  0.4  0.0 -0.0 -0.4  0.3  0.0  0.0 -0.6 -0.0  0.2  0.5  0.0  0.0 \n",
      " 0.0  0.0  0.0 -0.0  0.0 -0.4 -0.0  0.6  0.0  0.0  0.2 -0.2  0.2 -0.0 -0.1  0.6 -0.0 -0.0 \n",
      " 0.0  0.0  0.0 -0.0  0.0 -0.4 -0.0  0.3 -0.0  0.0 -0.3 -0.2 -0.3 -0.0  0.7 -0.3  0.0 -0.0 \n",
      "-0.0  0.0  0.0  0.0  0.0  0.0 -0.0  0.0 -0.0 -0.0  0.0 -0.0 -0.0  0.0 -0.0  0.0  0.3  0.3 \n",
      "-0.0  0.0  0.0  0.0 -0.0 -0.0  0.0  0.0  0.0 -0.0  0.0 -0.0  0.0  0.0 -0.0  0.0  0.3 -0.3 \n",
      "-0.0  0.0  0.0 -0.0 -0.0 -0.0  0.0  0.0 -0.0 -0.0  0.0 -0.0 -0.0 -0.5 -0.0 -0.0 -0.6 -0.0 \n",
      " 0.0 -0.0 -0.0  0.0  0.0  0.0 -0.0 -0.0 -0.0  0.0 -0.0 -0.0 -0.0 -0.5 -0.0 -0.0  0.0 -0.6 \n",
      " 0.0 -0.0 -0.0  0.0 -0.0 -0.0  0.0  0.0  0.0  0.0  0.0 -0.0  0.0 -0.5 -0.0 -0.0 -0.0  0.6 \n",
      " 0.0 -0.0 -0.0 -0.0  0.0  0.0 -0.0 -0.0  0.0  0.0 -0.0  0.0  0.0 -0.5 -0.0 -0.0  0.6  0.0 \n",
      "-0.1 -1.0 -0.1 -0.0  0.0 -0.0 -0.0  0.0  0.0  0.0  0.0 -0.0  0.0 -0.0 -0.0  0.0 -0.0 -0.0 \n",
      " 0.3 -0.1  0.9  0.0  0.0 -0.0  0.0 -0.0  0.0  0.0 -0.0  0.0  0.0 -0.0  0.0 -0.0 -0.0 -0.0 \n",
      "-0.9  0.0  0.3  0.0  0.0  0.0 -0.0 -0.0 -0.0  0.0 -0.0  0.0 -0.0  0.0  0.0 -0.0 -0.0  0.0 \n",
      "-0.0  0.0 -0.0  0.0  1.0  0.0 -0.0 -0.0 -0.0  0.0  0.0 -0.0 -0.0  0.0  0.0 -0.0 -0.0  0.0 \n",
      " 0.0 -0.0  0.0  0.0 -0.0  0.0 -1.0 -0.0 -0.0  0.0 -0.0  0.0 -0.0 -0.0  0.0 -0.0 -0.0  0.0 \n",
      " 0.0  0.0  0.0 -1.0  0.0  0.0 -0.0 -0.0  0.0 -0.0  0.0  0.0 -0.0  0.0 -0.0 -0.0 -0.0  0.0 \n"
     ]
    }
   ],
   "source": [
    "printcool(\"printing coordinate basis vectors\")\n",
    "pmat2d(M.coord_basis,format='f')"
   ]
  },
  {
   "cell_type": "code",
   "execution_count": 15,
   "metadata": {
    "collapsed": false,
    "scrolled": true
   },
   "outputs": [
    {
     "name": "stdout",
     "output_type": "stream",
     "text": [
      "#========================================================#\n",
      "#| \u001b[92m            Wilson B-Matrix (dq_i/dx_j)             \u001b[0m |#\n",
      "#========================================================#\n"
     ]
    },
    {
     "data": {
      "image/png": "[encoded data removed]",
      "text/plain": [
       "<Figure size 600x400 with 1 Axes>"
      ]
     },
     "metadata": {},
     "output_type": "display_data"
    }
   ],
   "source": [
    "printcool(\"Wilson B-Matrix (dq_i/dx_j)\")\n",
    "Bmatp = M.coord_obj.Prims.wilsonB(M.xyz)\n",
    "plt.imshow(Bmatp, cmap=plt.cm.get_cmap('RdBu'))\n",
    "plt.show()"
   ]
  },
  {
   "cell_type": "code",
   "execution_count": 16,
   "metadata": {
    "collapsed": false
   },
   "outputs": [
    {
     "name": "stdout",
     "output_type": "stream",
     "text": [
      "0 1\n",
      "0 2\n",
      "0 3\n",
      "3 4\n",
      "3 5\n"
     ]
    }
   ],
   "source": [
    "M.coord_obj.Prims.orderedmakePrimitives(M.xyz,M.coord_obj.options)"
   ]
  },
  {
   "cell_type": "code",
   "execution_count": 17,
   "metadata": {
    "collapsed": false
   },
   "outputs": [
    {
     "name": "stdout",
     "output_type": "stream",
     "text": [
      "#========================================================#\n",
      "#| \u001b[92m        Wilson B-Matrix in coordinate basis         \u001b[0m |#\n",
      "#========================================================#\n"
     ]
    },
    {
     "data": {
      "image/png": "[encoded data removed]",
      "text/plain": [
       "<Figure size 600x400 with 1 Axes>"
      ]
     },
     "metadata": {},
     "output_type": "display_data"
    }
   ],
   "source": [
    "printcool(\"Wilson B-Matrix in coordinate basis\")\n",
    "Bmat = M.coord_obj.wilsonB(M.xyz)\n",
    "plt.imshow(Bmat, cmap=plt.cm.get_cmap('RdBu'))\n",
    "plt.show()"
   ]
  },
  {
   "cell_type": "code",
   "execution_count": 18,
   "metadata": {
    "collapsed": false
   },
   "outputs": [
    {
     "name": "stdout",
     "output_type": "stream",
     "text": [
      "#========================================================#\n",
      "#| \u001b[92m         G-Matrix (BB^T in basis of prims)          \u001b[0m |#\n",
      "#========================================================#\n"
     ]
    },
    {
     "data": {
      "image/png": "[encoded data removed]",
      "text/plain": [
       "<Figure size 600x400 with 1 Axes>"
      ]
     },
     "metadata": {},
     "output_type": "display_data"
    }
   ],
   "source": [
    "printcool(\"G-Matrix (BB^T in basis of prims)\")\n",
    "G = M.coord_obj.Prims.GMatrix(M.xyz)\n",
    "plt.imshow(G, cmap=plt.cm.get_cmap('RdBu'))\n",
    "plt.show()"
   ]
  },
  {
   "cell_type": "code",
   "execution_count": 19,
   "metadata": {
    "collapsed": false
   },
   "outputs": [
    {
     "name": "stdout",
     "output_type": "stream",
     "text": [
      "#========================================================#\n",
      "#| \u001b[92m            G-Matrix in coordinate basis            \u001b[0m |#\n",
      "#========================================================#\n"
     ]
    },
    {
     "data": {
      "image/png": "[encoded data removed]",
      "text/plain": [
       "<Figure size 600x400 with 1 Axes>"
      ]
     },
     "metadata": {},
     "output_type": "display_data"
    }
   ],
   "source": [
    "printcool(\"G-Matrix in coordinate basis\")\n",
    "G = M.coord_obj.GMatrix(M.xyz)\n",
    "plt.imshow(G, cmap=plt.cm.get_cmap('RdBu'))\n",
    "plt.show()"
   ]
  },
  {
   "cell_type": "code",
   "execution_count": 20,
   "metadata": {
    "collapsed": false
   },
   "outputs": [
    {
     "name": "stdout",
     "output_type": "stream",
     "text": [
      "#===========================================================#\n",
      "#| \u001b[92m taking step and printing new xyz,geom and coordinates \u001b[0m |#\n",
      "#===========================================================#\n",
      " Iter: 1 Err-dQ = 9.86456e-15 RMSD: 5.77350e-02 Damp: 1.00000e+00\n",
      " Cartesian coordinates obtained after 1 microiterations (rmsd = 5.774e-02 |dQ| = 9.865e-15)\n",
      "\n",
      "new coordinates (in basis)\n",
      " 0.1  0.0  0.0  0.0  0.0  0.9 -0.0  3.8 -0.2  0.2 -0.9 -1.2 -2.4 -0.0  0.7  0.6  3.9  0.0 \n",
      "\n",
      "new xyz\n",
      "-0.0069  0.6993 -0.0939 \n",
      "-0.9305  1.2734 -0.0939 \n",
      " 0.9167  1.2734 -0.0939 \n",
      "-0.0069 -0.6317 -0.0939 \n",
      " 0.9167 -1.2058 -0.0939 \n",
      "-0.9305 -1.2058 -0.0939 \n",
      "\n",
      "new geometry\n",
      "C  -0.0069 0.6993 -0.0939\n",
      "H  -0.9305 1.2734 -0.0939\n",
      "H  0.9167 1.2734 -0.0939\n",
      "C  -0.0069 -0.6317 -0.0939\n",
      "H  0.9167 -1.2058 -0.0939\n",
      "H  -0.9305 -1.2058 -0.0939\n"
     ]
    }
   ],
   "source": [
    "dq = np.zeros((M.num_coordinates,1))\n",
    "dq[0]=0.1\n",
    "printcool(\"taking step and printing new xyz,geom and coordinates\")\n",
    "M.update_xyz(dq)\n",
    "print\n",
    "print(\"new coordinates (in basis)\")\n",
    "pmat2d(M.coordinates.T,format='f')\n",
    "print\n",
    "print(\"new xyz\")\n",
    "pmat2d(M.xyz,4,format='f')\n",
    "print\n",
    "print(\"new geometry\")\n",
    "for atom in M.geometry:\n",
    "    print(\"%-2s %5.4f %5.4f %5.4f\") % (atom[0],atom[1],atom[2],atom[3])"
   ]
  },
  {
   "cell_type": "code",
   "execution_count": 21,
   "metadata": {
    "collapsed": false
   },
   "outputs": [
    {
     "name": "stdout",
     "output_type": "stream",
     "text": [
      "#========================================================#\n",
      "#| \u001b[92m              update coordinate basis               \u001b[0m |#\n",
      "#========================================================#\n",
      "-0.0  0.0 -0.0 -0.0  0.0  0.1  0.0  0.1  0.6 -0.5  0.1 -0.3 -0.4 -0.0  0.1  0.2 -0.0 -0.0 \n",
      " 0.0 -0.0 -0.0 -0.0  0.0  0.1  0.0  0.1  0.6  0.5  0.1  0.5 -0.2  0.0 -0.2 -0.2 -0.0 -0.0 \n",
      "-0.0  0.0  0.0  0.0  0.0  0.7  0.0  0.4  0.1  0.0  0.2  0.0  0.4 -0.0  0.4 -0.2  0.0 -0.0 \n",
      "-0.0 -0.0  0.0 -0.0  0.0  0.2 -0.0 -0.0  0.0 -0.3 -0.7  0.5  0.1 -0.0 -0.1  0.3 -0.0  0.0 \n",
      "-0.0  0.0 -0.0 -0.0  0.0  0.0  0.0  0.4  0.0  0.4 -0.5 -0.6 -0.0  0.0 -0.3 -0.1 -0.0  0.0 \n",
      "-0.0  0.0  0.0  0.0  0.0  0.1  0.0  0.4 -0.4 -0.4  0.1  0.2 -0.4  0.0 -0.4 -0.4  0.0  0.0 \n",
      "-0.0 -0.0  0.0  0.0  0.0  0.4 -0.0 -0.0 -0.4  0.3  0.0 -0.0 -0.6 -0.0  0.2  0.5  0.0  0.0 \n",
      "-0.0  0.0 -0.0  0.0 -0.0 -0.4  0.0  0.6  0.0  0.0  0.2  0.2  0.2 -0.0 -0.1  0.6 -0.0 -0.0 \n",
      "-0.0  0.0 -0.0 -0.0 -0.0 -0.4  0.0  0.3 -0.0  0.0 -0.3  0.2 -0.3 -0.0  0.7 -0.3  0.0 -0.0 \n",
      " 0.0  0.0  0.0  0.0  0.0  0.0  0.0  0.0 -0.0 -0.0  0.0  0.0 -0.0  0.0 -0.0  0.0  0.3  0.3 \n",
      " 0.0 -0.0  0.0  0.0  0.0 -0.0  0.0  0.0  0.0 -0.0  0.0  0.0  0.0  0.0 -0.0  0.0  0.3 -0.3 \n",
      " 0.0 -0.0  0.0  0.0  0.0 -0.0  0.0  0.0 -0.0 -0.0  0.0  0.0 -0.0 -0.5 -0.0 -0.0 -0.6 -0.0 \n",
      "-0.0  0.0 -0.0 -0.0  0.0  0.0 -0.0 -0.0 -0.0  0.0 -0.0  0.0 -0.0 -0.5 -0.0 -0.0  0.0 -0.6 \n",
      "-0.0 -0.0 -0.0  0.0  0.0 -0.0  0.0  0.0  0.0  0.0  0.0  0.0  0.0 -0.5 -0.0 -0.0 -0.0  0.6 \n",
      "-0.0  0.0  0.0 -0.0 -0.0  0.0 -0.0 -0.0  0.0  0.0 -0.0 -0.0  0.0 -0.5 -0.0 -0.0  0.6  0.0 \n",
      "-0.9  0.4  0.2 -0.0  0.0 -0.0  0.0 -0.0  0.0  0.0 -0.0 -0.0  0.0 -0.0  0.0  0.0 -0.0 -0.0 \n",
      "-0.1  0.3 -1.0 -0.0  0.0  0.0  0.0 -0.0 -0.0  0.0 -0.0 -0.0 -0.0  0.0  0.0 -0.0  0.0  0.0 \n",
      " 0.5  0.9  0.2  0.0  0.0  0.0 -0.0 -0.0 -0.0  0.0  0.0 -0.0 -0.0  0.0 -0.0  0.0 -0.0 -0.0 \n",
      " 0.0  0.0  0.0 -0.0 -1.0  0.0  0.0  0.0  0.0  0.0 -0.0 -0.0 -0.0  0.0  0.0 -0.0 -0.0 -0.0 \n",
      "-0.0  0.0  0.0 -0.0  0.0  0.0  1.0 -0.0 -0.0 -0.0  0.0  0.0  0.0  0.0 -0.0 -0.0  0.0 -0.0 \n",
      "-0.0  0.0 -0.0  1.0 -0.0 -0.0 -0.0 -0.0  0.0  0.0 -0.0 -0.0 -0.0 -0.0  0.0 -0.0  0.0  0.0 \n"
     ]
    }
   ],
   "source": [
    "# update coordinate basis\n",
    "printcool(\"update coordinate basis\")\n",
    "pmat2d(M.update_coordinate_basis(),format='f')  #also used with constraints"
   ]
  },
  {
   "cell_type": "code",
   "execution_count": 22,
   "metadata": {
    "collapsed": false
   },
   "outputs": [
    {
     "name": "stdout",
     "output_type": "stream",
     "text": [
      "coords in new basis\n",
      "-0.0 -0.1 -0.1 -0.0 -0.0  0.9  0.0  3.8 -0.2  0.2 -0.9  1.2 -2.4 -0.0  0.7  0.6  3.9  0.0 \n"
     ]
    }
   ],
   "source": [
    "print(\"coords in new basis\")\n",
    "pmat2d(M.coordinates.T,format='f')\n"
   ]
  },
  {
   "cell_type": "code",
   "execution_count": 23,
   "metadata": {
    "collapsed": false
   },
   "outputs": [
    {
     "name": "stdout",
     "output_type": "stream",
     "text": [
      "update Hessian in  basis\n",
      " 0.1  0.0 -0.0 -0.0 -0.0 -0.0 -0.0 -0.0  0.0  0.0 -0.0  0.0 -0.0  0.0 -0.0  0.0  0.0 -0.0 \n",
      " 0.0  0.1  0.0 -0.0  0.0 -0.0  0.0  0.0 -0.0 -0.0  0.0 -0.0  0.0  0.0  0.0 -0.0 -0.0  0.0 \n",
      "-0.0  0.0  0.1 -0.0 -0.0  0.0  0.0 -0.0 -0.0 -0.0 -0.0  0.0  0.0  0.0  0.0  0.0  0.0 -0.0 \n",
      "-0.0 -0.0 -0.0  0.1 -0.0  0.0 -0.0  0.0 -0.0  0.0  0.0  0.0  0.0 -0.0  0.0 -0.0  0.0 -0.0 \n",
      "-0.0  0.0 -0.0 -0.0  0.1  0.0  0.0  0.0  0.0  0.0 -0.0  0.0  0.0 -0.0  0.0 -0.0  0.0  0.0 \n",
      "-0.0 -0.0  0.0  0.0  0.0  0.3  0.0  0.1  0.0 -0.0 -0.0  0.0  0.0 -0.0  0.0 -0.0 -0.0  0.0 \n",
      "-0.0  0.0  0.0 -0.0  0.0  0.0  0.0  0.0  0.0  0.0 -0.0 -0.0  0.0  0.0  0.0 -0.0  0.0 -0.0 \n",
      "-0.0  0.0 -0.0  0.0  0.0  0.1  0.0  0.2  0.0  0.0 -0.0 -0.0  0.0 -0.0  0.0 -0.0  0.0 -0.0 \n",
      " 0.0 -0.0 -0.0 -0.0  0.0  0.0  0.0  0.0  0.3  0.0  0.0  0.0 -0.1  0.0 -0.0  0.0 -0.0 -0.0 \n",
      " 0.0 -0.0 -0.0  0.0  0.0 -0.0  0.0  0.0  0.0  0.3  0.0  0.0  0.0  0.0 -0.0 -0.1 -0.0  0.0 \n",
      "-0.0  0.0 -0.0  0.0 -0.0 -0.0 -0.0 -0.0  0.0  0.0  0.3 -0.0 -0.0 -0.0  0.1 -0.0  0.0 -0.0 \n",
      " 0.0 -0.0  0.0  0.0  0.0  0.0 -0.0 -0.0  0.0  0.0 -0.0  0.3  0.0  0.0 -0.0  0.0  0.0 -0.0 \n",
      "-0.0  0.0  0.0  0.0  0.0  0.0  0.0  0.0 -0.1  0.0 -0.0  0.0  0.2 -0.0  0.0 -0.0 -0.0 -0.0 \n",
      " 0.0  0.0  0.0 -0.0 -0.0 -0.0  0.0 -0.0  0.0  0.0 -0.0  0.0 -0.0  0.0 -0.0 -0.0 -0.0  0.0 \n",
      "-0.0  0.0  0.0  0.0  0.0  0.0  0.0  0.0 -0.0 -0.0  0.1 -0.0  0.0 -0.0  0.2  0.0  0.0 -0.0 \n",
      " 0.0 -0.0  0.0 -0.0 -0.0 -0.0 -0.0 -0.0  0.0 -0.1 -0.0  0.0 -0.0 -0.0  0.0  0.2 -0.0 -0.0 \n",
      " 0.0 -0.0  0.0  0.0  0.0 -0.0  0.0  0.0 -0.0 -0.0  0.0  0.0 -0.0 -0.0  0.0 -0.0  0.0  0.0 \n",
      "-0.0  0.0 -0.0 -0.0  0.0  0.0 -0.0 -0.0 -0.0  0.0 -0.0 -0.0 -0.0  0.0 -0.0 -0.0  0.0  0.0 \n"
     ]
    }
   ],
   "source": [
    "print(\"update Hessian in  basis\")\n",
    "pmat2d(M.form_Hessian_in_basis(),format='f')\n"
   ]
  },
  {
   "cell_type": "code",
   "execution_count": 24,
   "metadata": {
    "collapsed": false
   },
   "outputs": [
    {
     "name": "stdout",
     "output_type": "stream",
     "text": [
      "#============================================================================================================#\n",
      "#| \u001b[92m                                             copy molecule                                              \u001b[0m |#\n",
      "#| \u001b[92m  Note that the copy from options is recommended since it properly creates new coord_obj and PES object \u001b[0m |#\n",
      "#============================================================================================================#\n",
      " initializing LOT from file\n",
      " setting primitives from options!\n",
      " getting cartesian coordinates from geom\n",
      " getting coord_object from options\n"
     ]
    }
   ],
   "source": [
    "# copying molecule automatically copies all Data\n",
    "printcool(\"copy molecule \\n Note that the copy from options is recommended since it properly creates new coord_obj and PES object\")\n",
    "newMolecule = Molecule.copy_from_options(M)\n"
   ]
  },
  {
   "cell_type": "code",
   "execution_count": 25,
   "metadata": {
    "collapsed": false
   },
   "outputs": [
    {
     "name": "stdout",
     "output_type": "stream",
     "text": [
      " molecule object\n",
      "Option:\n",
      "  Key: fnm\n",
      "  Value: data/ethylene.xyz\n",
      "  Required: False\n",
      "  Allowed Types: [<type 'str'>]\n",
      "  Allowed Values: None\n",
      "  Doc: File name to create the Molecule object from. Only used if geom is none.\n",
      "\n",
      "Option:\n",
      "  Key: ftype\n",
      "  Value: xyz\n",
      "  Required: False\n",
      "  Allowed Types: [<type 'str'>]\n",
      "  Allowed Values: None\n",
      "  Doc: filetype (optional) will attempt to read filetype if not given\n",
      "\n",
      "Option:\n",
      "  Key: coordinate_type\n",
      "  Value: TRIC\n",
      "  Required: False\n",
      "  Allowed Types: None\n",
      "  Allowed Values: ['Cartesian', 'DLC', 'HDLC', 'TRIC']\n",
      "  Doc: The type of coordinate system to build\n",
      "\n",
      "Option:\n",
      "  Key: coord_obj\n",
      "  Value: Internal coordinate system (atoms numbered from 1):\n",
      "Distance 1-2\n",
      "Distance 1-3\n",
      "Distance 1-4\n",
      "Distance 4-5\n",
      "Distance 4-6\n",
      "Angle 2-1-4\n",
      "Angle 3-1-4\n",
      "Angle 1-4-6\n",
      "Angle 5-4-6\n",
      "Out-of-Plane 1-2-3-4\n",
      "Out-of-Plane 4-1-5-6\n",
      "Dihedral 2-1-4-5\n",
      "Dihedral 2-1-4-6\n",
      "Dihedral 3-1-4-5\n",
      "Dihedral 3-1-4-6\n",
      "Translation-X 1-6\n",
      "Translation-Y 1-6\n",
      "Translation-Z 1-6\n",
      "Rotation-A 1-6\n",
      "Rotation-B 1-6\n",
      "Rotation-C 1-6\n",
      "<class 'slots.Distance'> : 5\n",
      "<class 'slots.Angle'> : 4\n",
      "<class 'slots.OutOfPlane'> : 2\n",
      "<class 'slots.Dihedral'> : 4\n",
      "<class 'slots.TranslationX'> : 1\n",
      "<class 'slots.TranslationY'> : 1\n",
      "<class 'slots.TranslationZ'> : 1\n",
      "<class 'slots.RotationA'> : 1\n",
      "<class 'slots.RotationB'> : 1\n",
      "<class 'slots.RotationC'> : 1\n",
      "  Required: False\n",
      "  Allowed Types: [<class 'dlc_new.DelocalizedInternalCoordinates'>, <class 'cartesian.CartesianCoordinates'>]\n",
      "  Allowed Values: None\n",
      "  Doc: A coordinate object.\n",
      "\n",
      "Option:\n",
      "  Key: geom\n",
      "  Value: [('C', -0.0068897336218653165, 0.69925693300335223, -0.093863468038289627), ('H', -0.93045168401614453, 1.2734400127931729, -0.093859468038289581), ('H', 0.91667231598385546, 1.2734398532135316, -0.093859468038289581), ('C', -0.0068898486044534522, -0.63165906699664776, -0.093863468038289641), ('H', 0.91667210178982583, -1.2058421467864684, -0.093859468038289651), ('H', -0.93045189821017416, -1.2058419872068269, -0.093859468038289651)]\n",
      "  Required: False\n",
      "  Allowed Types: [<type 'list'>]\n",
      "  Allowed Values: None\n",
      "  Doc: geometry including atomic symbols\n",
      "\n",
      "Option:\n",
      "  Key: xyz\n",
      "  Value: [[-0.0069  0.6993 -0.0939]\n",
      " [-0.9305  1.2734 -0.0939]\n",
      " [ 0.9167  1.2734 -0.0939]\n",
      " [-0.0069 -0.6317 -0.0939]\n",
      " [ 0.9167 -1.2058 -0.0939]\n",
      " [-0.9305 -1.2058 -0.0939]]\n",
      "  Required: False\n",
      "  Allowed Types: [<type 'numpy.ndarray'>]\n",
      "  Allowed Values: None\n",
      "  Doc: The Cartesian coordinates in Angstrom\n",
      "\n",
      "Option:\n",
      "  Key: PES\n",
      "  Value: <avg_pes.Avg_PES object at 0x7f428edc5f90>\n",
      "  Required: True\n",
      "  Allowed Types: [<class 'pes.PES'>, <class 'avg_pes.Avg_PES'>, <class 'penalty_pes.Penalty_PES'>]\n",
      "  Allowed Values: None\n",
      "  Doc: potential energy surface object to evaulate energies, gradients, etc. Pes is defined by charge, state, multiplicity,etc. \n",
      "\n",
      "Option:\n",
      "  Key: Primitive_Hessian\n",
      "  Value: [[ 0.35   0.     0.     0.     0.     0.     0.     0.     0.     0.     0.\n",
      "   0.     0.     0.     0.     0.     0.     0.     0.     0.     0.   ]\n",
      " [ 0.     0.35   0.     0.     0.     0.     0.     0.     0.     0.     0.\n",
      "   0.     0.     0.     0.     0.     0.     0.     0.     0.     0.   ]\n",
      " [ 0.     0.     0.35   0.     0.     0.     0.     0.     0.     0.     0.\n",
      "   0.     0.     0.     0.     0.     0.     0.     0.     0.     0.   ]\n",
      " [ 0.     0.     0.     0.35   0.     0.     0.     0.     0.     0.     0.\n",
      "   0.     0.     0.     0.     0.     0.     0.     0.     0.     0.   ]\n",
      " [ 0.     0.     0.     0.     0.35   0.     0.     0.     0.     0.     0.\n",
      "   0.     0.     0.     0.     0.     0.     0.     0.     0.     0.   ]\n",
      " [ 0.     0.     0.     0.     0.     0.16   0.     0.     0.     0.     0.\n",
      "   0.     0.     0.     0.     0.     0.     0.     0.     0.     0.   ]\n",
      " [ 0.     0.     0.     0.     0.     0.     0.16   0.     0.     0.     0.\n",
      "   0.     0.     0.     0.     0.     0.     0.     0.     0.     0.   ]\n",
      " [ 0.     0.     0.     0.     0.     0.     0.     0.16   0.     0.     0.\n",
      "   0.     0.     0.     0.     0.     0.     0.     0.     0.     0.   ]\n",
      " [ 0.     0.     0.     0.     0.     0.     0.     0.     0.16   0.     0.\n",
      "   0.     0.     0.     0.     0.     0.     0.     0.     0.     0.   ]\n",
      " [ 0.     0.     0.     0.     0.     0.     0.     0.     0.     0.045  0.\n",
      "   0.     0.     0.     0.     0.     0.     0.     0.     0.     0.   ]\n",
      " [ 0.     0.     0.     0.     0.     0.     0.     0.     0.     0.     0.045\n",
      "   0.     0.     0.     0.     0.     0.     0.     0.     0.     0.   ]\n",
      " [ 0.     0.     0.     0.     0.     0.     0.     0.     0.     0.     0.\n",
      "   0.023  0.     0.     0.     0.     0.     0.     0.     0.     0.   ]\n",
      " [ 0.     0.     0.     0.     0.     0.     0.     0.     0.     0.     0.\n",
      "   0.     0.023  0.     0.     0.     0.     0.     0.     0.     0.   ]\n",
      " [ 0.     0.     0.     0.     0.     0.     0.     0.     0.     0.     0.\n",
      "   0.     0.     0.023  0.     0.     0.     0.     0.     0.     0.   ]\n",
      " [ 0.     0.     0.     0.     0.     0.     0.     0.     0.     0.     0.\n",
      "   0.     0.     0.     0.023  0.     0.     0.     0.     0.     0.   ]\n",
      " [ 0.     0.     0.     0.     0.     0.     0.     0.     0.     0.     0.\n",
      "   0.     0.     0.     0.     0.05   0.     0.     0.     0.     0.   ]\n",
      " [ 0.     0.     0.     0.     0.     0.     0.     0.     0.     0.     0.\n",
      "   0.     0.     0.     0.     0.     0.05   0.     0.     0.     0.   ]\n",
      " [ 0.     0.     0.     0.     0.     0.     0.     0.     0.     0.     0.\n",
      "   0.     0.     0.     0.     0.     0.     0.05   0.     0.     0.   ]\n",
      " [ 0.     0.     0.     0.     0.     0.     0.     0.     0.     0.     0.\n",
      "   0.     0.     0.     0.     0.     0.     0.     0.05   0.     0.   ]\n",
      " [ 0.     0.     0.     0.     0.     0.     0.     0.     0.     0.     0.\n",
      "   0.     0.     0.     0.     0.     0.     0.     0.     0.05   0.   ]\n",
      " [ 0.     0.     0.     0.     0.     0.     0.     0.     0.     0.     0.\n",
      "   0.     0.     0.     0.     0.     0.     0.     0.     0.     0.05 ]]\n",
      "  Required: False\n",
      "  Allowed Types: None\n",
      "  Allowed Values: None\n",
      "  Doc: Primitive hessian save file for doing optimization.\n",
      "\n",
      "Option:\n",
      "  Key: Hessian\n",
      "  Value: [[ 0.05    0.     -0.     -0.     -0.     -0.     -0.     -0.      0.      0.\n",
      "  -0.      0.     -0.      0.     -0.      0.      0.     -0.    ]\n",
      " [ 0.      0.05    0.     -0.      0.     -0.      0.      0.     -0.     -0.\n",
      "   0.     -0.      0.      0.      0.     -0.     -0.      0.    ]\n",
      " [-0.      0.      0.05   -0.     -0.      0.      0.     -0.     -0.     -0.\n",
      "  -0.      0.      0.      0.      0.      0.      0.     -0.    ]\n",
      " [-0.     -0.     -0.      0.05   -0.      0.     -0.      0.     -0.      0.\n",
      "   0.      0.      0.     -0.      0.     -0.      0.     -0.    ]\n",
      " [-0.      0.     -0.     -0.      0.05    0.      0.      0.      0.      0.\n",
      "  -0.      0.      0.     -0.      0.     -0.      0.      0.    ]\n",
      " [-0.     -0.      0.      0.      0.      0.2612  0.      0.0586  0.0378\n",
      "  -0.0102 -0.0137  0.0247  0.0387 -0.      0.0408 -0.0079 -0.      0.    ]\n",
      " [-0.      0.      0.     -0.      0.      0.      0.05    0.      0.      0.\n",
      "  -0.     -0.      0.      0.      0.     -0.      0.     -0.    ]\n",
      " [-0.      0.     -0.      0.      0.      0.0586  0.      0.2269  0.0258\n",
      "   0.0235 -0.0181 -0.0479  0.0197 -0.      0.0138 -0.0196  0.     -0.    ]\n",
      " [ 0.     -0.     -0.     -0.      0.      0.0378  0.      0.0258  0.2917\n",
      "   0.0003  0.0086  0.0131 -0.0719  0.     -0.0129  0.0033 -0.     -0.    ]\n",
      " [ 0.     -0.     -0.      0.      0.     -0.0102  0.      0.0235  0.0003\n",
      "   0.3023  0.0082  0.01    0.0119  0.     -0.0469 -0.0602 -0.      0.    ]\n",
      " [-0.      0.     -0.      0.     -0.     -0.0137 -0.     -0.0181  0.0086\n",
      "   0.0082  0.3234 -0.0009 -0.0119 -0.      0.0509 -0.031   0.     -0.    ]\n",
      " [ 0.     -0.      0.      0.      0.      0.0247 -0.     -0.0479  0.0131\n",
      "   0.01   -0.0009  0.3292  0.0171  0.     -0.0051  0.0045  0.     -0.    ]\n",
      " [-0.      0.      0.      0.      0.      0.0387  0.      0.0197 -0.0719\n",
      "   0.0119 -0.0119  0.0171  0.2411 -0.      0.0311 -0.0156 -0.     -0.    ]\n",
      " [ 0.      0.      0.     -0.     -0.     -0.      0.     -0.      0.      0.\n",
      "  -0.      0.     -0.      0.023  -0.     -0.     -0.      0.    ]\n",
      " [-0.      0.      0.      0.      0.      0.0408  0.      0.0138 -0.0129\n",
      "  -0.0469  0.0509 -0.0051  0.0311 -0.      0.2201  0.001   0.     -0.    ]\n",
      " [ 0.     -0.      0.     -0.     -0.     -0.0079 -0.     -0.0196  0.0033\n",
      "  -0.0602 -0.031   0.0045 -0.0156 -0.      0.001   0.1941 -0.     -0.    ]\n",
      " [ 0.     -0.      0.      0.      0.     -0.      0.      0.     -0.     -0.\n",
      "   0.      0.     -0.     -0.      0.     -0.      0.0282  0.    ]\n",
      " [-0.      0.     -0.     -0.      0.      0.     -0.     -0.     -0.      0.\n",
      "  -0.     -0.     -0.      0.     -0.     -0.      0.      0.0282]]\n",
      "  Required: False\n",
      "  Allowed Types: None\n",
      "  Allowed Values: None\n",
      "  Doc: Hessian save file in the basis of coordinate_type.\n",
      "\n",
      "Option:\n",
      "  Key: comment\n",
      "  Value: \n",
      "  Required: False\n",
      "  Allowed Types: None\n",
      "  Allowed Values: None\n",
      "  Doc: A string that is saved on the molecule, used for descriptive purposes\n",
      "\n",
      "\n"
     ]
    }
   ],
   "source": [
    "print(newMolecule)"
   ]
  },
  {
   "cell_type": "code",
   "execution_count": 26,
   "metadata": {
    "collapsed": false
   },
   "outputs": [
    {
     "name": "stdout",
     "output_type": "stream",
     "text": [
      "#========================================================#\n",
      "#| \u001b[92m            copy molecule with new geom             \u001b[0m |#\n",
      "#========================================================#\n",
      " initializing LOT from file\n",
      " setting primitives from options!\n",
      " getting cartesian coordinates from geom\n",
      " getting coord_object from options\n",
      "[[ 0.9931  1.6993  0.9061]\n",
      " [ 0.0695  2.2734  0.9061]\n",
      " [ 1.9167  2.2734  0.9061]\n",
      " [ 0.9931  0.3683  0.9061]\n",
      " [ 1.9167 -0.2058  0.9061]\n",
      " [ 0.0695 -0.2058  0.9061]]\n"
     ]
    }
   ],
   "source": [
    "printcool(\"copy molecule with new geom\")\n",
    "newxyz2 = np.ones(M.xyz.shape)\n",
    "newxyz2 += M.xyz\n",
    "newMolecule2 = Molecule.copy_from_options(M,xyz=newxyz2)\n",
    "print(newMolecule2.xyz)\n"
   ]
  }
 ],
 "metadata": {
  "kernelspec": {
   "display_name": "Python 2",
   "language": "python",
   "name": "python2"
  },
  "language_info": {
   "codemirror_mode": {
    "name": "ipython",
    "version": 2
   },
   "file_extension": ".py",
   "mimetype": "text/x-python",
   "name": "python",
   "nbconvert_exporter": "python",
   "pygments_lexer": "ipython2",
   "version": "2.7.15"
  }
 },
 "nbformat": 4,
 "nbformat_minor": 2
}
